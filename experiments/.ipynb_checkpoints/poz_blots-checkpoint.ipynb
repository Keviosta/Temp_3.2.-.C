{
 "cells": [
  {
   "cell_type": "markdown",
   "metadata": {
    "id": "wYGSc-xPDaFV"
   },
   "source": [
    "# I] Import and options\n"
   ]
  },
  {
   "cell_type": "code",
   "execution_count": 1,
   "metadata": {},
   "outputs": [
    {
     "name": "stderr",
     "output_type": "stream",
     "text": [
      "C:\\Users\\kja11\\anaconda3\\Lib\\site-packages\\pandas\\core\\arrays\\masked.py:60: UserWarning: Pandas requires version '1.3.6' or newer of 'bottleneck' (version '1.3.5' currently installed).\n",
      "  from pandas.core import (\n"
     ]
    }
   ],
   "source": [
    "import pandas, numpy, seaborn, scipy, scipy.stats\n",
    "import matplotlib, matplotlib.pyplot as plt"
   ]
  },
  {
   "cell_type": "code",
   "execution_count": 2,
   "metadata": {},
   "outputs": [],
   "source": [
    "matplotlib.rcParams.update({'font.size':20, 'xtick.labelsize':20, 'ytick.labelsize':20, \n",
    "                            'axes.grid' : True, 'grid.alpha': 0.5, 'grid.linestyle' : ':',\n",
    "                            'figure.figsize':(12, 8), 'svg.fonttype' : 'none'})"
   ]
  },
  {
   "cell_type": "code",
   "execution_count": 3,
   "metadata": {},
   "outputs": [],
   "source": [
    "file_directory = \"/Users/kja11/OneDrive - Menntaský/PostDoc_Hypothermia/in_silico/Python/\""
   ]
  },
  {
   "cell_type": "code",
   "execution_count": 4,
   "metadata": {},
   "outputs": [],
   "source": [
    "path = \"1) input/experiments/\""
   ]
  },
  {
   "cell_type": "markdown",
   "metadata": {},
   "source": [
    "# II] DL data"
   ]
  },
  {
   "cell_type": "code",
   "execution_count": 5,
   "metadata": {},
   "outputs": [
    {
     "data": {
      "text/html": [
       "<div>\n",
       "<style scoped>\n",
       "    .dataframe tbody tr th:only-of-type {\n",
       "        vertical-align: middle;\n",
       "    }\n",
       "\n",
       "    .dataframe tbody tr th {\n",
       "        vertical-align: top;\n",
       "    }\n",
       "\n",
       "    .dataframe thead th {\n",
       "        text-align: right;\n",
       "    }\n",
       "</style>\n",
       "<table border=\"1\" class=\"dataframe\">\n",
       "  <thead>\n",
       "    <tr style=\"text-align: right;\">\n",
       "      <th></th>\n",
       "      <th>samples</th>\n",
       "      <th>laminb1</th>\n",
       "      <th>sp1</th>\n",
       "      <th>sp1/lamin</th>\n",
       "    </tr>\n",
       "  </thead>\n",
       "  <tbody>\n",
       "    <tr>\n",
       "      <th>0</th>\n",
       "      <td>37_dmso</td>\n",
       "      <td>12053.083</td>\n",
       "      <td>17757.326</td>\n",
       "      <td>1.473260</td>\n",
       "    </tr>\n",
       "    <tr>\n",
       "      <th>1</th>\n",
       "      <td>37_Poz</td>\n",
       "      <td>11131.962</td>\n",
       "      <td>12160.719</td>\n",
       "      <td>1.092415</td>\n",
       "    </tr>\n",
       "    <tr>\n",
       "      <th>2</th>\n",
       "      <td>32_dmso</td>\n",
       "      <td>11682.548</td>\n",
       "      <td>12288.962</td>\n",
       "      <td>1.051908</td>\n",
       "    </tr>\n",
       "    <tr>\n",
       "      <th>3</th>\n",
       "      <td>32_Poz</td>\n",
       "      <td>13528.205</td>\n",
       "      <td>13555.548</td>\n",
       "      <td>1.002021</td>\n",
       "    </tr>\n",
       "    <tr>\n",
       "      <th>4</th>\n",
       "      <td>37_dmso</td>\n",
       "      <td>10828.083</td>\n",
       "      <td>15650.083</td>\n",
       "      <td>1.445324</td>\n",
       "    </tr>\n",
       "    <tr>\n",
       "      <th>5</th>\n",
       "      <td>37_Poz</td>\n",
       "      <td>7554.962</td>\n",
       "      <td>11653.669</td>\n",
       "      <td>1.542519</td>\n",
       "    </tr>\n",
       "    <tr>\n",
       "      <th>6</th>\n",
       "      <td>32_dmso</td>\n",
       "      <td>11495.497</td>\n",
       "      <td>13817.497</td>\n",
       "      <td>1.201992</td>\n",
       "    </tr>\n",
       "    <tr>\n",
       "      <th>7</th>\n",
       "      <td>32_Poz</td>\n",
       "      <td>12249.790</td>\n",
       "      <td>14273.376</td>\n",
       "      <td>1.165194</td>\n",
       "    </tr>\n",
       "    <tr>\n",
       "      <th>8</th>\n",
       "      <td>37_dmso</td>\n",
       "      <td>10809.548</td>\n",
       "      <td>13049.548</td>\n",
       "      <td>1.207224</td>\n",
       "    </tr>\n",
       "    <tr>\n",
       "      <th>9</th>\n",
       "      <td>37_Poz</td>\n",
       "      <td>10812.255</td>\n",
       "      <td>11423.841</td>\n",
       "      <td>1.056564</td>\n",
       "    </tr>\n",
       "    <tr>\n",
       "      <th>10</th>\n",
       "      <td>32_dmso</td>\n",
       "      <td>20516.861</td>\n",
       "      <td>19144.740</td>\n",
       "      <td>0.933122</td>\n",
       "    </tr>\n",
       "    <tr>\n",
       "      <th>11</th>\n",
       "      <td>32_Poz</td>\n",
       "      <td>17868.518</td>\n",
       "      <td>14557.033</td>\n",
       "      <td>0.814675</td>\n",
       "    </tr>\n",
       "  </tbody>\n",
       "</table>\n",
       "</div>"
      ],
      "text/plain": [
       "    samples    laminb1        sp1  sp1/lamin\n",
       "0   37_dmso  12053.083  17757.326   1.473260\n",
       "1    37_Poz  11131.962  12160.719   1.092415\n",
       "2   32_dmso  11682.548  12288.962   1.051908\n",
       "3    32_Poz  13528.205  13555.548   1.002021\n",
       "4   37_dmso  10828.083  15650.083   1.445324\n",
       "5    37_Poz   7554.962  11653.669   1.542519\n",
       "6   32_dmso  11495.497  13817.497   1.201992\n",
       "7    32_Poz  12249.790  14273.376   1.165194\n",
       "8   37_dmso  10809.548  13049.548   1.207224\n",
       "9    37_Poz  10812.255  11423.841   1.056564\n",
       "10  32_dmso  20516.861  19144.740   0.933122\n",
       "11   32_Poz  17868.518  14557.033   0.814675"
      ]
     },
     "execution_count": 5,
     "metadata": {},
     "output_type": "execute_result"
    }
   ],
   "source": [
    "df = pandas.read_csv(file_directory + path + 'poz_wb_quantif.csv', sep = \",\")\n",
    "\n",
    "df"
   ]
  },
  {
   "cell_type": "code",
   "execution_count": 6,
   "metadata": {},
   "outputs": [],
   "source": [
    "df_37dmso = df[df.samples == '37_dmso']\n",
    "df_32dmso = df[df.samples == '32_dmso']\n",
    "df_37poz = df[df.samples == '37_Poz']\n",
    "df_32poz = df[df.samples == '32_Poz']\n",
    "\n",
    "for df_ in df_37dmso, df_32dmso, df_37poz, df_32poz:\n",
    "    df_.reset_index(inplace=True, drop = True)"
   ]
  },
  {
   "cell_type": "code",
   "execution_count": 7,
   "metadata": {},
   "outputs": [
    {
     "name": "stdout",
     "output_type": "stream",
     "text": [
      "the pvalue between 37_dmso and 32_dmso is 5.26520E-02\n",
      "the pvalue between 37_Poz and 32_Poz is 2.73008E-01\n",
      "the pvalue between 37_dmso and 37_Poz is 4.60932E-01\n",
      "the pvalue between 32_dmso and 32_Poz is 6.20710E-01\n"
     ]
    }
   ],
   "source": [
    "#Statistics T-test\n",
    "# proteins = 'sp1/lamin', ''\n",
    "_37dmso_label = df_37dmso.samples[0]\n",
    "_32dmso_label = df_32dmso.samples[0]\n",
    "_37poz_label = df_37poz.samples[0]\n",
    "_32poz_label = df_32poz.samples[0]\n",
    "    \n",
    "# for protein in proteins:\n",
    "# print(protein, '\\n')\n",
    "### sp1/lamin\n",
    "statistic, pvalue = scipy.stats.ttest_ind(df_37dmso['sp1/lamin'], df_32dmso['sp1/lamin'])\n",
    "print(\"the pvalue between\", _37dmso_label, \"and\", _32dmso_label,\"is\", \"{:.5E}\".format(pvalue))\n",
    "\n",
    "statistic, pvalue = scipy.stats.ttest_ind(df_37poz['sp1/lamin'], df_32poz['sp1/lamin'])\n",
    "print(\"the pvalue between\", _37poz_label, \"and\", _32poz_label,\"is\", \"{:.5E}\".format(pvalue))\n",
    "\n",
    "statistic, pvalue = scipy.stats.ttest_ind(df_37dmso['sp1/lamin'], df_37poz['sp1/lamin'])\n",
    "print(\"the pvalue between\", _37dmso_label, \"and\", _37poz_label,\"is\", \"{:.5E}\".format(pvalue))\n",
    "\n",
    "statistic, pvalue = scipy.stats.ttest_ind(df_32dmso['sp1/lamin'], df_32poz['sp1/lamin'])\n",
    "print(\"the pvalue between\", _32dmso_label, \"and\", _32poz_label,\"is\", \"{:.5E}\".format(pvalue))"
   ]
  },
  {
   "cell_type": "code",
   "execution_count": 8,
   "metadata": {},
   "outputs": [
    {
     "data": {
      "text/html": [
       "<div>\n",
       "<style scoped>\n",
       "    .dataframe tbody tr th:only-of-type {\n",
       "        vertical-align: middle;\n",
       "    }\n",
       "\n",
       "    .dataframe tbody tr th {\n",
       "        vertical-align: top;\n",
       "    }\n",
       "\n",
       "    .dataframe thead th {\n",
       "        text-align: right;\n",
       "    }\n",
       "</style>\n",
       "<table border=\"1\" class=\"dataframe\">\n",
       "  <thead>\n",
       "    <tr style=\"text-align: right;\">\n",
       "      <th></th>\n",
       "      <th>samples</th>\n",
       "      <th>laminb1</th>\n",
       "      <th>sp1</th>\n",
       "      <th>sp1/lamin</th>\n",
       "      <th>conditions</th>\n",
       "    </tr>\n",
       "  </thead>\n",
       "  <tbody>\n",
       "    <tr>\n",
       "      <th>0</th>\n",
       "      <td>37°C</td>\n",
       "      <td>12053.083</td>\n",
       "      <td>17757.326</td>\n",
       "      <td>1.473260</td>\n",
       "      <td>dmso</td>\n",
       "    </tr>\n",
       "    <tr>\n",
       "      <th>1</th>\n",
       "      <td>37°C</td>\n",
       "      <td>11131.962</td>\n",
       "      <td>12160.719</td>\n",
       "      <td>1.092415</td>\n",
       "      <td>poziotinib</td>\n",
       "    </tr>\n",
       "    <tr>\n",
       "      <th>2</th>\n",
       "      <td>32°C</td>\n",
       "      <td>11682.548</td>\n",
       "      <td>12288.962</td>\n",
       "      <td>1.051908</td>\n",
       "      <td>dmso</td>\n",
       "    </tr>\n",
       "    <tr>\n",
       "      <th>3</th>\n",
       "      <td>32°C</td>\n",
       "      <td>13528.205</td>\n",
       "      <td>13555.548</td>\n",
       "      <td>1.002021</td>\n",
       "      <td>poziotinib</td>\n",
       "    </tr>\n",
       "    <tr>\n",
       "      <th>4</th>\n",
       "      <td>37°C</td>\n",
       "      <td>10828.083</td>\n",
       "      <td>15650.083</td>\n",
       "      <td>1.445324</td>\n",
       "      <td>dmso</td>\n",
       "    </tr>\n",
       "  </tbody>\n",
       "</table>\n",
       "</div>"
      ],
      "text/plain": [
       "  samples    laminb1        sp1  sp1/lamin  conditions\n",
       "0    37°C  12053.083  17757.326   1.473260        dmso\n",
       "1    37°C  11131.962  12160.719   1.092415  poziotinib\n",
       "2    32°C  11682.548  12288.962   1.051908        dmso\n",
       "3    32°C  13528.205  13555.548   1.002021  poziotinib\n",
       "4    37°C  10828.083  15650.083   1.445324        dmso"
      ]
     },
     "execution_count": 8,
     "metadata": {},
     "output_type": "execute_result"
    }
   ],
   "source": [
    "# create new column for conditions, for Hue\n",
    "df['conditions'] = numpy.where(df['samples'].str.contains('dmso'), 'dmso'\n",
    "                               , 'poziotinib')\n",
    "\n",
    "# Simplicy Samples column\n",
    "df['samples'] = df['samples'].str.split('_').str[0] + '°C'\n",
    "df.head()"
   ]
  },
  {
   "cell_type": "code",
   "execution_count": 15,
   "metadata": {},
   "outputs": [
    {
     "name": "stderr",
     "output_type": "stream",
     "text": [
      "C:\\Users\\kja11\\anaconda3\\Lib\\site-packages\\seaborn\\axisgrid.py:118: UserWarning: The figure layout has changed to tight\n",
      "  self._figure.tight_layout(*args, **kwargs)\n"
     ]
    },
    {
     "data": {
      "text/plain": [
       "<matplotlib.legend.Legend at 0x17c141c6010>"
      ]
     },
     "execution_count": 15,
     "metadata": {},
     "output_type": "execute_result"
    },
    {
     "data": {
      "image/png": "[encoded data removed]",
      "text/plain": [
       "<Figure size 500x500 with 1 Axes>"
      ]
     },
     "metadata": {},
     "output_type": "display_data"
    }
   ],
   "source": [
    "    #graph\n",
    "    seaborn.catplot(x=\"samples\", y=\"sp1/lamin\", hue=\"conditions\", \n",
    "                    kind=\"box\", palette = 'mako',\n",
    "                    data = df, boxprops={'lw':2, 'alpha' : 0.8}, medianprops={'lw':2}, \n",
    "                    whiskerprops={'lw':2}, \n",
    "                    showcaps=True, showfliers=False, legend=False)\n",
    "\n",
    "    plt.title('SP1 expression')\n",
    "    plt.xticks(rotation=45, ha= 'right')\n",
    "    plt.ylabel('relative prot. expr.')\n",
    "    plt.xlabel('')\n",
    "    plt.legend(loc='center right', fontsize=20, bbox_to_anchor=(1.55, 0.83))"
   ]
  },
  {
   "cell_type": "code",
   "execution_count": 17,
   "metadata": {},
   "outputs": [
    {
     "name": "stderr",
     "output_type": "stream",
     "text": [
      "C:\\Users\\kja11\\anaconda3\\Lib\\site-packages\\seaborn\\axisgrid.py:118: UserWarning: The figure layout has changed to tight\n",
      "  self._figure.tight_layout(*args, **kwargs)\n",
      "C:\\Users\\kja11\\AppData\\Local\\Temp\\ipykernel_34380\\2298488193.py:8: UserWarning: The figure layout has changed to tight\n",
      "  plt.tight_layout()\n"
     ]
    },
    {
     "data": {
      "text/plain": [
       "<matplotlib.legend.Legend at 0x17c15293e90>"
      ]
     },
     "execution_count": 17,
     "metadata": {},
     "output_type": "execute_result"
    },
    {
     "data": {
      "image/png": "[encoded data removed]",
      "text/plain": [
       "<Figure size 400x400 with 1 Axes>"
      ]
     },
     "metadata": {},
     "output_type": "display_data"
    }
   ],
   "source": [
    "    #graph\n",
    "    seaborn.catplot(x=\"samples\", y=\"sp1/lamin\", hue=\"conditions\", \n",
    "                    height = 4, aspect= 1, kind=\"box\", palette = 'mako',\n",
    "                    data = df, boxprops={'lw':2, 'alpha' : 0.8}, medianprops={'lw':2}, \n",
    "                    whiskerprops={'lw':2}, \n",
    "                    showcaps=True, showfliers=False, legend=False)\n",
    "\n",
    "    plt.tight_layout()\n",
    "    plt.title('SP1 expression')\n",
    "    plt.xticks(rotation=45, ha= 'right')\n",
    "    plt.ylabel('relative prot. expr.')\n",
    "    plt.xlabel('')\n",
    "    plt.legend(loc='center right', fontsize=20, bbox_to_anchor=(1.55, 0.83))"
   ]
  }
 ],
 "metadata": {
  "kernelspec": {
   "display_name": "Python 3 (ipykernel)",
   "language": "python",
   "name": "python3"
  },
  "language_info": {
   "codemirror_mode": {
    "name": "ipython",
    "version": 3
   },
   "file_extension": ".py",
   "mimetype": "text/x-python",
   "name": "python",
   "nbconvert_exporter": "python",
   "pygments_lexer": "ipython3",
   "version": "3.11.5"
  }
 },
 "nbformat": 4,
 "nbformat_minor": 4
}
