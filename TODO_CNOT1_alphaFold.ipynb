{
 "cells": [
  {
   "cell_type": "code",
   "execution_count": 2,
   "id": "9268ad83",
   "metadata": {},
   "outputs": [],
   "source": [
    "import requests"
   ]
  },
  {
   "cell_type": "code",
   "execution_count": 6,
   "id": "b9b62d0f",
   "metadata": {},
   "outputs": [
    {
     "name": "stdout",
     "output_type": "stream",
     "text": [
      "Error: 400 {\"error\":\"No sequences returned, please check the type specified is compatible with the object requested\"}\n"
     ]
    }
   ],
   "source": [
    "url = \"https://rest.ensembl.org/sequence/id/ENST00000569263\"\n",
    "params = {\"type\": \"protein\"}\n",
    "\n",
    "# Request the sequence\n",
    "response = requests.get(url, params=params, headers={\"Content-Type\": \"text/plain\"})\n",
    "\n",
    "# Check response\n",
    "if response.ok:\n",
    "    print(response.text)\n",
    "else:\n",
    "    print(\"Error:\", response.status_code, response.text)\n"
   ]
  },
  {
   "cell_type": "code",
   "execution_count": 8,
   "id": "fac70cae",
   "metadata": {},
   "outputs": [
    {
     "name": "stdout",
     "output_type": "stream",
     "text": [
      "{'start': 58623226, 'logic_name': 'havana_homo_sapiens', 'species': 'homo_sapiens', 'seq_region_name': '16', 'strand': -1, 'assembly_name': 'GRCh38', 'db_type': 'core', 'version': 1, 'end': 58629847, 'is_canonical': 0, 'Parent': 'ENSG00000125107', 'gencode_primary': 0, 'biotype': 'protein_coding_CDS_not_defined', 'id': 'ENST00000569263', 'display_name': 'CNOT1-217', 'object_type': 'Transcript', 'length': 304, 'source': 'havana'}\n"
     ]
    }
   ],
   "source": [
    "url = \"https://rest.ensembl.org/lookup/id/ENST00000569263\"\n",
    "response = requests.get(url, headers={\"Content-Type\": \"application/json\"})\n",
    "if response.ok:\n",
    "    print(response.json())\n",
    "else:\n",
    "    print(\"Error:\", response.status_code, response.text)"
   ]
  },
  {
   "cell_type": "code",
   "execution_count": 7,
   "id": "8da27748",
   "metadata": {},
   "outputs": [
    {
     "name": "stdout",
     "output_type": "stream",
     "text": [
      "MNLDSLSLALSQISYLVDNLTKKNY\n"
     ]
    }
   ],
   "source": [
    "url = \"https://rest.ensembl.org/sequence/id/ENST00000569020\"\n",
    "params = {\"type\": \"protein\"}\n",
    "\n",
    "# Request the sequence\n",
    "response = requests.get(url, params=params, headers={\"Content-Type\": \"text/plain\"})\n",
    "\n",
    "# Check response\n",
    "if response.ok:\n",
    "    print(response.text)\n",
    "else:\n",
    "    print(\"Error:\", response.status_code, response.text)"
   ]
  }
 ],
 "metadata": {
  "kernelspec": {
   "display_name": "Python 3 (ipykernel)",
   "language": "python",
   "name": "python3"
  },
  "language_info": {
   "codemirror_mode": {
    "name": "ipython",
    "version": 3
   },
   "file_extension": ".py",
   "mimetype": "text/x-python",
   "name": "python",
   "nbconvert_exporter": "python",
   "pygments_lexer": "ipython3",
   "version": "3.11.5"
  }
 },
 "nbformat": 4,
 "nbformat_minor": 5
}
