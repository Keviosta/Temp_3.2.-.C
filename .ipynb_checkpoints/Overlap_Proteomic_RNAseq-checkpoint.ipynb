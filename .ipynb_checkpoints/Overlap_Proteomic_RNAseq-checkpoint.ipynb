{
 "cells": [
  {
   "cell_type": "code",
   "execution_count": 7,
   "id": "047ac771",
   "metadata": {},
   "outputs": [],
   "source": [
    "import pandas, numpy"
   ]
  },
  {
   "cell_type": "code",
   "execution_count": 8,
   "id": "2b543bcc",
   "metadata": {},
   "outputs": [],
   "source": [
    "file_directory = \"/Users/kja11/OneDrive - Menntaský/PostDoc_Hypothermia/in_silico/Python/\""
   ]
  },
  {
   "cell_type": "markdown",
   "id": "ca0064e0",
   "metadata": {},
   "source": [
    "# Define Paths"
   ]
  },
  {
   "cell_type": "code",
   "execution_count": 53,
   "id": "0b380046",
   "metadata": {},
   "outputs": [],
   "source": [
    "# proteomic data\n",
    "proteomics_path = file_directory+'3) output/Proteomics/signif_linregress_proteins.txt'\n",
    "proteomics_path3 = file_directory+'3) output/Proteomics/high_Rval_prot_linregress_proteins.txt'\n",
    "proteomics_path2 = file_directory+'3) output/Proteomics/adjPvalue_linregress_proteins.txt'\n",
    "\n",
    "# RNAseq data\n",
    "RNAseq_path = file_directory+'3) output/RNAseq/allsignif_genes_HEK293.txt'\n",
    "\n",
    "# GeCKO screens data\n",
    "GeCKO_sp1rep_path = file_directory+'1) input/GeCKO/GeCKO_SP1_repressors.csv'\n",
    "GeCKO_sp1activ_path = file_directory+'1) input/GeCKO/GeCKO_SP1_activators.csv'\n",
    "GeCKO_rmb3rep_path = file_directory+'1) input/GeCKO/GeCKO_RBM3_repressors.csv'"
   ]
  },
  {
   "cell_type": "markdown",
   "id": "1e91b333",
   "metadata": {},
   "source": [
    "# Open the files"
   ]
  },
  {
   "cell_type": "code",
   "execution_count": 54,
   "id": "e0c239db",
   "metadata": {},
   "outputs": [
    {
     "name": "stdout",
     "output_type": "stream",
     "text": [
      "proteomics_pval: 532\n",
      "proteomics_adjpval: 22\n",
      "proteomics_high_rval: 302\n",
      "RNAseq_HEK293: 139\n"
     ]
    }
   ],
   "source": [
    "#open .txt\n",
    "with open(proteomics_path) as f:\n",
    "    proteomics_pval = f.read().splitlines()\n",
    "\n",
    "with open(proteomics_path2) as f:\n",
    "    proteomics_adjpval = f.read().splitlines() \n",
    "    \n",
    "with open(proteomics_path3) as f:\n",
    "    proteomics_high_rval = f.read().splitlines() \n",
    "    \n",
    "with open(RNAseq_path) as f:\n",
    "    RNAseq_HEK293 = f.read().splitlines()\n",
    "    \n",
    "print(\"proteomics_pval:\", len(proteomics_pval))\n",
    "print(\"proteomics_adjpval:\", len(proteomics_adjpval))\n",
    "print(\"proteomics_high_rval:\", len(proteomics_high_rval))\n",
    "print(\"RNAseq_HEK293:\", len(RNAseq_HEK293))"
   ]
  },
  {
   "cell_type": "code",
   "execution_count": 55,
   "id": "daf0730d",
   "metadata": {},
   "outputs": [
    {
     "name": "stdout",
     "output_type": "stream",
     "text": [
      "GeCKO SP1 repressors: 495\n",
      "GeCKO SP1 activators: 61\n",
      "GeCKO RMB3 repressor: 621\n"
     ]
    }
   ],
   "source": [
    "# Open the .csv file\n",
    "## GeCKO\n",
    "GeCKO_sp1rep = pandas.read_csv(GeCKO_sp1rep_path, sep = ',')['Gene Symbol']\n",
    "print(\"GeCKO SP1 repressors:\", len(GeCKO_sp1rep))\n",
    "\n",
    "GeCKO_sp1activ = pandas.read_csv(GeCKO_sp1activ_path, sep = ',')['Gene Symbol']\n",
    "print(\"GeCKO SP1 activators:\", len(GeCKO_sp1activ))\n",
    "\n",
    "GeCKO_rmb3rep = pandas.read_csv(GeCKO_rmb3rep_path, sep = ',')['Gene Symbol']\n",
    "print(\"GeCKO RMB3 repressor:\", len(GeCKO_rmb3rep))\n"
   ]
  },
  {
   "cell_type": "markdown",
   "id": "bdb9928a",
   "metadata": {},
   "source": [
    "# Overlap"
   ]
  },
  {
   "cell_type": "code",
   "execution_count": 60,
   "id": "f52a2a62",
   "metadata": {},
   "outputs": [
    {
     "name": "stdout",
     "output_type": "stream",
     "text": [
      "6 overlap Proteomic-HEK293 rvalue >0.6 (abs) and the RNAseq_HEK293:\n",
      " ['NOC3L', 'SRSF5', 'CHORDC1', 'RBM3', 'CIRBP', 'HNRNPDL'] \n",
      "\n",
      "8 overlap Proteomic-HEK293 rvalue >0.6 (abs) and the GeCKO_sp1rep:\n",
      " ['NOC3L', 'RPL13', 'DCTN3', 'RBM8A', 'MATR3', 'SMYD5', 'RPS8', 'ARFGAP1'] \n",
      "\n",
      "1 overlap Proteomic-HEK293 rvalue >0.6 (abs) and the GeCKO_sp1activ:\n",
      " ['HNRNPDL'] \n",
      "\n",
      "10 overlap Proteomic-HEK293 rvalue >0.6 (abs) and the GeCKO_rmb3rep:\n",
      " ['AGPS', 'RCN1', 'CALD1', 'SEMG1', 'RPS6', 'HNRNPL', 'DDX39A', 'RPS23', 'RPS11', 'PGRMC1'] \n",
      "\n",
      "2 overlap adjpvalue <0.05 Proteomic-HEK293 and the RNAseq_HEK293:\n",
      " ['CIRBP', 'SRSF5'] \n",
      "\n",
      "2 overlap adjpvalue <0.05 Proteomic-HEK293 and the GeCKO_sp1rep:\n",
      " ['RBM8A', 'RPL13'] \n",
      "\n",
      "0 overlap adjpvalue <0.05 Proteomic-HEK293 and the GeCKO_sp1activ:\n",
      " [] \n",
      "\n",
      "2 overlap adjpvalue <0.05 Proteomic-HEK293 and the GeCKO_rmb3rep:\n",
      " ['AGPS', 'HNRNPL'] \n",
      "\n"
     ]
    }
   ],
   "source": [
    "# Convert lists to sets and find the intersection\n",
    "datas1 = [proteomics_high_rval, proteomics_adjpval]\n",
    "labels1 = ['Proteomic-HEK293 rvalue >0.6 (abs)', 'adjpvalue <0.05 Proteomic-HEK293'] \n",
    "\n",
    "datas2 = [RNAseq_HEK293, GeCKO_sp1rep, GeCKO_sp1activ, GeCKO_rmb3rep]\n",
    "labels2 = ['RNAseq_HEK293', 'GeCKO_sp1rep', 'GeCKO_sp1activ', 'GeCKO_rmb3rep']\n",
    "\n",
    "for i in range(len(datas1)):\n",
    "    data1 = datas1[i]\n",
    "    label1 = labels1[i]\n",
    "    \n",
    "    for y in range(len(datas2)):\n",
    "        data2 = datas2[y]\n",
    "        label2 = labels2[y]\n",
    "        \n",
    "        common_elements = set(data1).intersection(data2)\n",
    "        common_elements = list(common_elements)\n",
    "        print(len(common_elements), f\"overlap {label1} and the {label2}:\\n\", common_elements, \"\\n\")"
   ]
  },
  {
   "cell_type": "code",
   "execution_count": 44,
   "id": "06eb213f",
   "metadata": {},
   "outputs": [
    {
     "name": "stdout",
     "output_type": "stream",
     "text": [
      "6 overlap RNAseq-HEK293 and the pvalue <0.05 Proteomic-HEK293:\n",
      " ['NOC3L', 'SRSF5', 'CHORDC1', 'RBM3', 'CIRBP', 'HNRNPDL']\n"
     ]
    }
   ],
   "source": [
    "# Convert lists to sets and find the intersection\n",
    "common_elements = set(proteomics_pval).intersection(RNAseq)\n",
    "common_elements = list(common_elements)\n",
    "print(len(common_elements), \"overlap RNAseq-HEK293 and the pvalue <0.05 Proteomic-HEK293:\\n\", common_elements)"
   ]
  }
 ],
 "metadata": {
  "kernelspec": {
   "display_name": "Python 3 (ipykernel)",
   "language": "python",
   "name": "python3"
  },
  "language_info": {
   "codemirror_mode": {
    "name": "ipython",
    "version": 3
   },
   "file_extension": ".py",
   "mimetype": "text/x-python",
   "name": "python",
   "nbconvert_exporter": "python",
   "pygments_lexer": "ipython3",
   "version": "3.11.5"
  }
 },
 "nbformat": 4,
 "nbformat_minor": 5
}
