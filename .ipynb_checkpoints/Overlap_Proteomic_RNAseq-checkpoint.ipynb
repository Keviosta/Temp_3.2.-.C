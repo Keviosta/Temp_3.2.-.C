{
 "cells": [
  {
   "cell_type": "code",
   "execution_count": 3,
   "id": "047ac771",
   "metadata": {},
   "outputs": [
    {
     "name": "stderr",
     "output_type": "stream",
     "text": [
      "C:\\Users\\kja11\\anaconda3\\Lib\\site-packages\\pandas\\core\\arrays\\masked.py:60: UserWarning: Pandas requires version '1.3.6' or newer of 'bottleneck' (version '1.3.5' currently installed).\n",
      "  from pandas.core import (\n"
     ]
    }
   ],
   "source": [
    "import pandas, numpy"
   ]
  },
  {
   "cell_type": "code",
   "execution_count": 4,
   "id": "2b543bcc",
   "metadata": {},
   "outputs": [],
   "source": [
    "file_directory = \"/Users/kja11/OneDrive - Menntaský/PostDoc_Hypothermia/in_silico/Python/\""
   ]
  },
  {
   "cell_type": "markdown",
   "id": "11641b7a",
   "metadata": {},
   "source": [
    "# Define Paths"
   ]
  },
  {
   "cell_type": "code",
   "execution_count": 5,
   "id": "bc9b487e",
   "metadata": {},
   "outputs": [],
   "source": [
    "# proteomic data\n",
    "proteomics_path = file_directory+'3) output/Proteomics/'\n",
    "\n",
    "# RNAseq data\n",
    "RNAseq_path = file_directory+'3) output/RNAseq/'\n",
    "RNAseq_path2 = file_directory+'1) input/RNAseq/'\n",
    "\n",
    "# GeCKO data\n",
    "GeCKO_path = file_directory+'1) input/GeCKO/'"
   ]
  },
  {
   "cell_type": "markdown",
   "id": "e0ca9247",
   "metadata": {},
   "source": [
    "# Open the files"
   ]
  },
  {
   "cell_type": "code",
   "execution_count": 6,
   "id": "e0c239db",
   "metadata": {},
   "outputs": [
    {
     "name": "stdout",
     "output_type": "stream",
     "text": [
      "Early_res_CoeffVar_proteins: 179\n",
      "proteomics_pval: 532\n",
      "proteomics_adjpval: 22\n",
      "proteomics_high_rval: 302\n",
      "RNAseq_HEK293: 139\n"
     ]
    }
   ],
   "source": [
    "#open .txt\n",
    "with open(proteomics_path+'signif_linregress_proteins.txt') as f:\n",
    "    proteomics_pval = f.read().splitlines()\n",
    "\n",
    "with open(proteomics_path+'adjPvalue_linregress_proteins.txt') as f:\n",
    "    proteomics_adjpval = f.read().splitlines() \n",
    "    \n",
    "with open(proteomics_path+'high_Rvalue_linregress_proteins.txt') as f:\n",
    "    proteomics_high_rval = f.read().splitlines() \n",
    "    \n",
    "with open(RNAseq_path+'allsignif_genes_HEK293.txt') as f:\n",
    "    RNAseq_HEK293 = f.read().splitlines()\n",
    "    \n",
    "with open(proteomics_path+'Early_res_CoeffVar_proteins.txt') as f:\n",
    "    Early_res_CoeffVar_proteins = f.read().splitlines()\n",
    "    \n",
    "print(\"Early_res_CoeffVar_proteins:\", len(Early_res_CoeffVar_proteins))\n",
    "print(\"proteomics_pval:\", len(proteomics_pval))\n",
    "print(\"proteomics_adjpval:\", len(proteomics_adjpval))\n",
    "print(\"proteomics_high_rval:\", len(proteomics_high_rval))\n",
    "print(\"RNAseq_HEK293:\", len(RNAseq_HEK293))"
   ]
  },
  {
   "cell_type": "code",
   "execution_count": 23,
   "id": "9c3ded9b",
   "metadata": {},
   "outputs": [
    {
     "name": "stdout",
     "output_type": "stream",
     "text": [
      "GeCKO SP1 repressors: 495 \n",
      "GeCKO SP1 activators: 61\n",
      "GeCKO RMB3 repressor: 621 \n",
      "\n",
      "RNAseq_cortex_down: 2446 \n",
      "RNAseq_cortex_up: 2399\n",
      "RNAseq_hippoc_down: 1726 \n",
      "RNAseq_hippoc_up: 1990\n"
     ]
    }
   ],
   "source": [
    "# Open the .csv file\n",
    "# GeCKO screens data\n",
    "GeCKO_sp1rep = pandas.read_csv(GeCKO_path+'GeCKO_SP1_repressors.csv', sep = ',')['Gene Symbol'].str.upper()\n",
    "GeCKO_sp1activ = pandas.read_csv(GeCKO_path+'GeCKO_SP1_activators.csv', sep = ',')['Gene Symbol'].str.upper()\n",
    "print(\"GeCKO SP1 repressors:\", len(GeCKO_sp1rep), \"\\nGeCKO SP1 activators:\", len(GeCKO_sp1activ))\n",
    "\n",
    "GeCKO_rmb3rep = pandas.read_csv(GeCKO_path+'GeCKO_RBM3_repressors.csv', sep = ',')['Gene Symbol'].str.upper()\n",
    "print(\"GeCKO RMB3 repressor:\", len(GeCKO_rmb3rep), '\\n')\n",
    "\n",
    "# RNAseq Mice\n",
    "## Cortex\n",
    "RNAseq_cortex_down = pandas.read_csv(RNAseq_path2+'DESeq_in_vivo_cortex_temp_downregulated.csv', sep = ',')['gene'].str.upper()\n",
    "RNAseq_cortex_up = pandas.read_csv(RNAseq_path2+'DESeq_in_vivo_cortex_temp_upregulated.csv', sep = ',')['gene'].str.upper()\n",
    "print(\"RNAseq_cortex_down:\", len(RNAseq_cortex_down), \"\\nRNAseq_cortex_up:\", len(RNAseq_cortex_up))\n",
    "\n",
    "## Hippocampus\n",
    "RNAseq_hippoc_down = pandas.read_csv(RNAseq_path2+'DESeq_in_vivo_hippocampus_temp_downregulated.csv', sep = ',')['gene'].str.upper()\n",
    "RNAseq_hippoc_up = pandas.read_csv(RNAseq_path2+'DESeq_in_vivo_hippocampus_temp_upregulated.csv', sep = ',')['gene'].str.upper()\n",
    "print(\"RNAseq_hippoc_down:\", len(RNAseq_hippoc_down), \"\\nRNAseq_hippoc_up:\", len(RNAseq_hippoc_up))"
   ]
  },
  {
   "cell_type": "markdown",
   "id": "17a4ab81",
   "metadata": {},
   "source": [
    "# Overlap"
   ]
  },
  {
   "cell_type": "code",
   "execution_count": 24,
   "id": "c875e508",
   "metadata": {},
   "outputs": [
    {
     "name": "stdout",
     "output_type": "stream",
     "text": [
      "overlapping Proteomic and GeCKO screens:\n",
      "\n",
      "8 overlap Proteomic-HEK293 rvalue >0.6 (abs) and the GeCKO_sp1rep:\n",
      " ['DCTN3', 'RPS8', 'RBM8A', 'RPL13', 'ARFGAP1', 'SMYD5', 'MATR3', 'NOC3L'] \n",
      "\n",
      "1 overlap Proteomic-HEK293 rvalue >0.6 (abs) and the GeCKO_sp1activ:\n",
      " ['HNRNPDL'] \n",
      "\n",
      "10 overlap Proteomic-HEK293 rvalue >0.6 (abs) and the GeCKO_rmb3rep:\n",
      " ['PGRMC1', 'SEMG1', 'RPS11', 'RCN1', 'RPS23', 'RPS6', 'CALD1', 'HNRNPL', 'AGPS', 'DDX39A'] \n",
      "\n",
      "2 overlap adjpvalue <0.05 Proteomic-HEK293 and the GeCKO_sp1rep:\n",
      " ['RBM8A', 'RPL13'] \n",
      "\n",
      "0 overlap adjpvalue <0.05 Proteomic-HEK293 and the GeCKO_sp1activ:\n",
      " [] \n",
      "\n",
      "2 overlap adjpvalue <0.05 Proteomic-HEK293 and the GeCKO_rmb3rep:\n",
      " ['HNRNPL', 'AGPS'] \n",
      "\n",
      "5 overlap early_response_proteomic-HEK293 and the GeCKO_sp1rep:\n",
      " ['DDA1', 'DCTN3', 'ARID1A', 'UBA5', 'SMYD5'] \n",
      "\n",
      "0 overlap early_response_proteomic-HEK293 and the GeCKO_sp1activ:\n",
      " [] \n",
      "\n",
      "5 overlap early_response_proteomic-HEK293 and the GeCKO_rmb3rep:\n",
      " ['CALD1', 'SAP18', 'POLR3C', 'NDUFA9', 'VPS45'] \n",
      "\n"
     ]
    }
   ],
   "source": [
    "# Convert lists to sets and find the intersection\n",
    "print('overlapping Proteomic and GeCKO screens:\\n')\n",
    "\n",
    "datas1 = [proteomics_high_rval, proteomics_adjpval, Early_res_CoeffVar_proteins]\n",
    "labels1 = ['Proteomic-HEK293 rvalue >0.6 (abs)', 'adjpvalue <0.05 Proteomic-HEK293',\n",
    "          'early_response_proteomic-HEK293'] \n",
    "\n",
    "datas2 = [GeCKO_sp1rep, GeCKO_sp1activ, GeCKO_rmb3rep]\n",
    "labels2 = ['GeCKO_sp1rep', 'GeCKO_sp1activ', 'GeCKO_rmb3rep']\n",
    "\n",
    "for i in range(len(datas1)):\n",
    "    data1 = datas1[i]\n",
    "    label1 = labels1[i]\n",
    "    \n",
    "    for y in range(len(datas2)):\n",
    "        data2 = datas2[y]\n",
    "        label2 = labels2[y]\n",
    "        \n",
    "        common_elements = set(data1).intersection(data2)\n",
    "        common_elements = list(common_elements)\n",
    "        print(len(common_elements), f\"overlap {label1} and the {label2}:\\n\", common_elements, \"\\n\")"
   ]
  },
  {
   "cell_type": "code",
   "execution_count": 25,
   "id": "1bc283ee",
   "metadata": {},
   "outputs": [
    {
     "name": "stdout",
     "output_type": "stream",
     "text": [
      "overlapping Proteomic and RNAseq:\n",
      "\n",
      "6 overlap Proteomic-HEK293 rvalue >0.6 (abs) and the RNAseq_HEK293:\n",
      " ['CIRBP', 'CHORDC1', 'SRSF5', 'HNRNPDL', 'NOC3L', 'RBM3'] \n",
      "\n",
      "30 overlap Proteomic-HEK293 rvalue >0.6 (abs) and the RNAseq_hippoc_down:\n",
      " ['CHORDC1', 'MRPS25', 'ADAR', 'PPIG', 'HSPA1B', 'NOC3L', 'LIN7A', 'DPYSL2', 'BAZ1B', 'SREK1', 'PPIL1', 'SRSF7', 'LMAN2', 'SERBP1', 'PRPF3', 'GOLPH3', 'NUFIP2', 'ELAVL1', 'SAMM50', 'CCAR1', 'HSP90AA1', 'DNAJB1', 'PNN', 'LARP1', 'JAGN1', 'ERP44', 'CASC3', 'SF3A1', 'RCN1', 'SPTBN1'] \n",
      "\n",
      "49 overlap Proteomic-HEK293 rvalue >0.6 (abs) and the RNAseq_hippoc_up:\n",
      " ['WDR43', 'GLUD1', 'SLC25A11', 'RPL13', 'GCSH', 'PACSIN3', 'TCERG1', 'TIMM23', 'TBCD', 'RBM34', 'HNRNPA0', 'ADH5', 'CIRBP', 'FUS', 'RPL36', 'ACAA2', 'ARFGAP1', 'NDUFS1', 'NELFE', 'SDHB', 'TIMM10B', 'MTHFD1L', 'DPM1', 'RPS20', 'HNRNPDL', 'BCLAF1', 'MRPL3', 'THRAP3', 'HSD17B12', 'IARS2', 'HSPG2', 'CRYZ', 'RAE1', 'ILF2', 'PSMA2', 'SRSF5', 'MTDH', 'NAE1', 'HADH', 'RBM3', 'NAA10', 'SNRPD1', 'MACROD1', 'SUCLG2', 'NDUFB8', 'RBMX', 'PMPCA', 'PABPN1', 'XPNPEP1'] \n",
      "\n",
      "48 overlap Proteomic-HEK293 rvalue >0.6 (abs) and the RNAseq_cortex_down:\n",
      " ['RRBP1', 'CHORDC1', 'SMARCC1', 'GYS1', 'ADAR', 'HSPA1B', 'LMNB2', 'LIN7A', 'NOC3L', 'BAZ1B', 'SNW1', 'SREK1', 'PPIL1', 'KTN1', 'MCMBP', 'KRR1', 'RBM15', 'SRSF7', 'LMAN2', 'PRPF3', 'TTLL12', 'GOLPH3', 'RPL13A', 'CAPZA1', 'EEF1G', 'CHMP2B', 'AHNAK', 'NUFIP2', 'ELAVL1', 'SAMM50', 'MDC1', 'CCAR1', 'CALD1', 'HSP90AA1', 'DNAJB1', 'TJP1', 'SARNP', 'PNN', 'LMAN1', 'LARP1', 'JAGN1', 'HSDL2', 'DPM3', 'ERP44', 'SF3A1', 'IKBIP', 'SDCBP', 'CCT4'] \n",
      "\n",
      "52 overlap Proteomic-HEK293 rvalue >0.6 (abs) and the RNAseq_cortex_up:\n",
      " ['WDR43', 'GLUD1', 'SLC25A11', 'CMAS', 'LETM1', 'PACSIN3', 'ARHGAP1', 'TCERG1', 'TBCD', 'RBM34', 'MATR3', 'SF3B2', 'SFXN1', 'RING1', 'HNRNPA0', 'CIRBP', 'FUS', 'TRMT1', 'ARFGAP1', 'NDUFS1', 'SDHB', 'TIMM10B', 'MTHFD1L', 'DPM1', 'SNRNP40', 'HNRNPDL', 'BCLAF1', 'MRPL3', 'DCTN2', 'CCDC86', 'IARS2', 'WBP11', 'ATP6V1A', 'NUP93', 'RAE1', 'ILF2', 'PSMA2', 'PA2G4', 'SRSF5', 'MTDH', 'PFAS', 'TUBA1B', 'RBM3', 'NAA10', 'RAN', 'U2SURP', 'RFC2', 'SUCLG2', 'RBMX', 'PMPCA', 'PABPN1', 'XPNPEP1'] \n",
      "\n",
      "2 overlap adjpvalue <0.05 Proteomic-HEK293 and the RNAseq_HEK293:\n",
      " ['SRSF5', 'CIRBP'] \n",
      "\n",
      "3 overlap adjpvalue <0.05 Proteomic-HEK293 and the RNAseq_hippoc_down:\n",
      " ['PRPF3', 'ERP44', 'LARP1'] \n",
      "\n",
      "7 overlap adjpvalue <0.05 Proteomic-HEK293 and the RNAseq_hippoc_up:\n",
      " ['FUS', 'CIRBP', 'RPL13', 'SRSF5', 'NDUFB8', 'RPS20', 'THRAP3'] \n",
      "\n",
      "4 overlap adjpvalue <0.05 Proteomic-HEK293 and the RNAseq_cortex_down:\n",
      " ['ERP44', 'PRPF3', 'MDC1', 'LARP1'] \n",
      "\n",
      "4 overlap adjpvalue <0.05 Proteomic-HEK293 and the RNAseq_cortex_up:\n",
      " ['FUS', 'SRSF5', 'NUP93', 'CIRBP'] \n",
      "\n",
      "1 overlap early_response_proteomic-HEK293 and the RNAseq_HEK293:\n",
      " ['WDHD1'] \n",
      "\n",
      "22 overlap early_response_proteomic-HEK293 and the RNAseq_hippoc_down:\n",
      " ['BLOC1S6', 'LIN7A', 'EARS2', 'BPNT1', 'CFAP97', 'CSTF2', 'NUDT5', 'GTF2F1', 'NUP50', 'GTPBP4', 'LMAN2', 'PPP2R5C', 'GOLPH3', 'ARGLU1', 'AHCTF1', 'SAMM50', 'METTL15', 'ZC3H13', 'JAGN1', 'CASC3', 'CPNE1', 'TMEM33'] \n",
      "\n",
      "21 overlap early_response_proteomic-HEK293 and the RNAseq_hippoc_up:\n",
      " ['CLUH', 'UBXN1', 'DBI', 'GCSH', 'MAGED2', 'PIR', 'TIMM23', 'CNDP2', 'HEATR3', 'ETFDH', 'VPS45', 'CCS', 'ABCD3', 'TIMM10B', 'SCFD1', 'POLR3B', 'UBR3', 'SNRPD1', 'MAN2C1', 'MRPL20', 'MAD1L1'] \n",
      "\n",
      "24 overlap early_response_proteomic-HEK293 and the RNAseq_cortex_down:\n",
      " ['SUZ12', 'IMPG2', 'LIN7A', 'SAP18', 'EARS2', 'BPNT1', 'CSTF2', 'NUDT5', 'NUP50', 'LMAN2', 'MYO9B', 'PPP2R5C', 'GOLPH3', 'ZCCHC9', 'ARGLU1', 'AHCTF1', 'SAMM50', 'CALD1', 'ERCC2', 'METTL15', 'GOLIM4', 'JAGN1', 'CPNE1', 'TMEM33'] \n",
      "\n",
      "21 overlap early_response_proteomic-HEK293 and the RNAseq_cortex_up:\n",
      " ['CLUH', 'UBXN1', 'AFG3L2', 'MAGED2', 'ARHGAP1', 'CNDP2', 'VPS45', 'CCS', 'ABCD3', 'TIMM10B', 'CCDC86', 'SCFD1', 'MYCBP2', 'KRT1', 'POLR3B', 'UBR3', 'SRRM1', 'BRF1', 'MRPL20', 'EXOSC2', 'MAD1L1'] \n",
      "\n"
     ]
    }
   ],
   "source": [
    "# Convert lists to sets and find the intersection\n",
    "print('overlapping Proteomic and RNAseq:\\n')\n",
    "\n",
    "datas1 = [proteomics_high_rval, proteomics_adjpval, Early_res_CoeffVar_proteins]\n",
    "labels1 = ['Proteomic-HEK293 rvalue >0.6 (abs)', 'adjpvalue <0.05 Proteomic-HEK293',\n",
    "          'early_response_proteomic-HEK293'] \n",
    "\n",
    "datas2 = [RNAseq_HEK293, RNAseq_hippoc_down, RNAseq_hippoc_up, RNAseq_cortex_down, RNAseq_cortex_up]\n",
    "labels2 = ['RNAseq_HEK293','RNAseq_hippoc_down','RNAseq_hippoc_up','RNAseq_cortex_down','RNAseq_cortex_up']\n",
    "\n",
    "for i in range(len(datas1)):\n",
    "    data1 = datas1[i]\n",
    "    label1 = labels1[i]\n",
    "    \n",
    "    for y in range(len(datas2)):\n",
    "        data2 = datas2[y]\n",
    "        label2 = labels2[y]\n",
    "        \n",
    "        common_elements = set(data1).intersection(data2)\n",
    "        common_elements = list(common_elements)\n",
    "        print(len(common_elements), f\"overlap {label1} and the {label2}:\\n\", common_elements, \"\\n\")"
   ]
  }
 ],
 "metadata": {
  "kernelspec": {
   "display_name": "Python 3 (ipykernel)",
   "language": "python",
   "name": "python3"
  },
  "language_info": {
   "codemirror_mode": {
    "name": "ipython",
    "version": 3
   },
   "file_extension": ".py",
   "mimetype": "text/x-python",
   "name": "python",
   "nbconvert_exporter": "python",
   "pygments_lexer": "ipython3",
   "version": "3.11.5"
  }
 },
 "nbformat": 4,
 "nbformat_minor": 5
}
