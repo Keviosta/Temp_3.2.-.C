{
 "cells": [
  {
   "cell_type": "code",
   "execution_count": 148,
   "id": "a7f445de",
   "metadata": {},
   "outputs": [],
   "source": [
    "import pybiomart"
   ]
  },
  {
   "cell_type": "code",
   "execution_count": 141,
   "id": "f19ce85f",
   "metadata": {},
   "outputs": [],
   "source": [
    "import pandas\n",
    "import matplotlib, matplotlib.pyplot as plt"
   ]
  },
  {
   "cell_type": "code",
   "execution_count": 142,
   "id": "906747b3",
   "metadata": {},
   "outputs": [],
   "source": [
    "matplotlib.rcParams.update({'font.size':20, 'xtick.labelsize':20, 'ytick.labelsize':20, \n",
    "                            'axes.grid' : True, 'grid.alpha': 0.5, 'grid.linestyle' : ':',\n",
    "                            'figure.figsize':(8, 5), 'svg.fonttype' : 'none'})"
   ]
  },
  {
   "cell_type": "code",
   "execution_count": 143,
   "id": "356f148a",
   "metadata": {},
   "outputs": [],
   "source": [
    "file_directory = \"/Users/kja11/OneDrive - Menntaský/PostDoc_Hypothermia/in_silico/Python/\""
   ]
  },
  {
   "cell_type": "markdown",
   "id": "5474bb34",
   "metadata": {},
   "source": [
    "# II] Data Download"
   ]
  },
  {
   "cell_type": "code",
   "execution_count": 172,
   "id": "bd66acb4",
   "metadata": {},
   "outputs": [
    {
     "data": {
      "text/html": [
       "<div>\n",
       "<style scoped>\n",
       "    .dataframe tbody tr th:only-of-type {\n",
       "        vertical-align: middle;\n",
       "    }\n",
       "\n",
       "    .dataframe tbody tr th {\n",
       "        vertical-align: top;\n",
       "    }\n",
       "\n",
       "    .dataframe thead th {\n",
       "        text-align: right;\n",
       "    }\n",
       "</style>\n",
       "<table border=\"1\" class=\"dataframe\">\n",
       "  <thead>\n",
       "    <tr style=\"text-align: right;\">\n",
       "      <th></th>\n",
       "      <th>Gene name</th>\n",
       "      <th>Transcript name</th>\n",
       "      <th>gene_id</th>\n",
       "      <th>transcript_id</th>\n",
       "      <th>Gene type</th>\n",
       "      <th>Transcript type</th>\n",
       "      <th>Gene description</th>\n",
       "    </tr>\n",
       "  </thead>\n",
       "  <tbody>\n",
       "    <tr>\n",
       "      <th>0</th>\n",
       "      <td>MT-TF</td>\n",
       "      <td>MT-TF-201</td>\n",
       "      <td>ENSG00000210049</td>\n",
       "      <td>ENST00000387314</td>\n",
       "      <td>Mt_tRNA</td>\n",
       "      <td>Mt_tRNA</td>\n",
       "      <td>mitochondrially encoded tRNA-Phe (UUU/C) [Sour...</td>\n",
       "    </tr>\n",
       "    <tr>\n",
       "      <th>1</th>\n",
       "      <td>MT-RNR1</td>\n",
       "      <td>MT-RNR1-201</td>\n",
       "      <td>ENSG00000211459</td>\n",
       "      <td>ENST00000389680</td>\n",
       "      <td>Mt_rRNA</td>\n",
       "      <td>Mt_rRNA</td>\n",
       "      <td>mitochondrially encoded 12S rRNA [Source:HGNC ...</td>\n",
       "    </tr>\n",
       "  </tbody>\n",
       "</table>\n",
       "</div>"
      ],
      "text/plain": [
       "  Gene name Transcript name          gene_id    transcript_id Gene type  \\\n",
       "0     MT-TF       MT-TF-201  ENSG00000210049  ENST00000387314   Mt_tRNA   \n",
       "1   MT-RNR1     MT-RNR1-201  ENSG00000211459  ENST00000389680   Mt_rRNA   \n",
       "\n",
       "  Transcript type                                   Gene description  \n",
       "0         Mt_tRNA  mitochondrially encoded tRNA-Phe (UUU/C) [Sour...  \n",
       "1         Mt_rRNA  mitochondrially encoded 12S rRNA [Source:HGNC ...  "
      ]
     },
     "execution_count": 172,
     "metadata": {},
     "output_type": "execute_result"
    }
   ],
   "source": [
    "# Import data from hsapiens_gene_ensembl\n",
    "dataset = pybiomart.Dataset(name='hsapiens_gene_ensembl', host='http://www.ensembl.org')\n",
    "annotation = dataset.query(attributes=['external_gene_name', 'external_transcript_name', 'ensembl_gene_id', 'ensembl_transcript_id',\n",
    "                                       'gene_biotype', 'transcript_biotype', 'description'])\n",
    "\n",
    "annotation = annotation.rename(columns = {'Gene stable ID' : 'gene_id',\n",
    "                                   'Transcript stable ID' : 'transcript_id'})\n",
    "# annotation.set_index('Gene stable ID', inplace=True)\n",
    "annotation.head(2)"
   ]
  },
  {
   "cell_type": "code",
   "execution_count": 175,
   "id": "76ed4e7b",
   "metadata": {
    "scrolled": true
   },
   "outputs": [
    {
     "name": "stdout",
     "output_type": "stream",
     "text": [
      "(90972, 8)\n"
     ]
    },
    {
     "data": {
      "text/html": [
       "<div>\n",
       "<style scoped>\n",
       "    .dataframe tbody tr th:only-of-type {\n",
       "        vertical-align: middle;\n",
       "    }\n",
       "\n",
       "    .dataframe tbody tr th {\n",
       "        vertical-align: top;\n",
       "    }\n",
       "\n",
       "    .dataframe thead th {\n",
       "        text-align: right;\n",
       "    }\n",
       "</style>\n",
       "<table border=\"1\" class=\"dataframe\">\n",
       "  <thead>\n",
       "    <tr style=\"text-align: right;\">\n",
       "      <th></th>\n",
       "      <th>gene_id</th>\n",
       "      <th>transcript_id</th>\n",
       "      <th>s37rep1</th>\n",
       "      <th>s37rep2</th>\n",
       "      <th>s37rep3</th>\n",
       "      <th>s32rep1</th>\n",
       "      <th>s32rep2</th>\n",
       "      <th>s32rep3</th>\n",
       "    </tr>\n",
       "  </thead>\n",
       "  <tbody>\n",
       "    <tr>\n",
       "      <th>1</th>\n",
       "      <td>ENSG00000198034</td>\n",
       "      <td>ENST00000486733</td>\n",
       "      <td>1039</td>\n",
       "      <td>1280</td>\n",
       "      <td>938</td>\n",
       "      <td>652</td>\n",
       "      <td>834</td>\n",
       "      <td>633</td>\n",
       "    </tr>\n",
       "    <tr>\n",
       "      <th>2</th>\n",
       "      <td>ENSG00000198034</td>\n",
       "      <td>ENST00000492695</td>\n",
       "      <td>209</td>\n",
       "      <td>202</td>\n",
       "      <td>105</td>\n",
       "      <td>66</td>\n",
       "      <td>69</td>\n",
       "      <td>46</td>\n",
       "    </tr>\n",
       "    <tr>\n",
       "      <th>3</th>\n",
       "      <td>ENSG00000198034</td>\n",
       "      <td>ENST00000470671</td>\n",
       "      <td>61</td>\n",
       "      <td>75</td>\n",
       "      <td>76</td>\n",
       "      <td>50</td>\n",
       "      <td>76</td>\n",
       "      <td>54</td>\n",
       "    </tr>\n",
       "    <tr>\n",
       "      <th>4</th>\n",
       "      <td>ENSG00000182774</td>\n",
       "      <td>ENST00000558397</td>\n",
       "      <td>59427</td>\n",
       "      <td>72460</td>\n",
       "      <td>59413</td>\n",
       "      <td>51375</td>\n",
       "      <td>60020</td>\n",
       "      <td>63185</td>\n",
       "    </tr>\n",
       "    <tr>\n",
       "      <th>5</th>\n",
       "      <td>ENSG00000182774</td>\n",
       "      <td>ENST00000561068</td>\n",
       "      <td>12382</td>\n",
       "      <td>15089</td>\n",
       "      <td>11258</td>\n",
       "      <td>9856</td>\n",
       "      <td>12745</td>\n",
       "      <td>12056</td>\n",
       "    </tr>\n",
       "  </tbody>\n",
       "</table>\n",
       "</div>"
      ],
      "text/plain": [
       "           gene_id    transcript_id  s37rep1  s37rep2  s37rep3  s32rep1  \\\n",
       "1  ENSG00000198034  ENST00000486733     1039     1280      938      652   \n",
       "2  ENSG00000198034  ENST00000492695      209      202      105       66   \n",
       "3  ENSG00000198034  ENST00000470671       61       75       76       50   \n",
       "4  ENSG00000182774  ENST00000558397    59427    72460    59413    51375   \n",
       "5  ENSG00000182774  ENST00000561068    12382    15089    11258     9856   \n",
       "\n",
       "   s32rep2  s32rep3  \n",
       "1      834      633  \n",
       "2       69       46  \n",
       "3       76       54  \n",
       "4    60020    63185  \n",
       "5    12745    12056  "
      ]
     },
     "execution_count": 175,
     "metadata": {},
     "output_type": "execute_result"
    }
   ],
   "source": [
    "#data all_counts_filtered\n",
    "df = pandas.read_csv(file_directory+'1) input/HEK293_temp_transcript_all_counts_filtered.tsv',\n",
    "                     sep = '\\t')\n",
    "\n",
    "df = df.rename(columns = {'feature_id' : 'transcript_id'})\n",
    "# select columns\n",
    "print(df.shape)\n",
    "df.head()"
   ]
  },
  {
   "cell_type": "markdown",
   "id": "e58f61d6",
   "metadata": {},
   "source": [
    "# III] Data transformation"
   ]
  },
  {
   "cell_type": "code",
   "execution_count": 182,
   "id": "c2d25f7e",
   "metadata": {
    "scrolled": true
   },
   "outputs": [
    {
     "name": "stdout",
     "output_type": "stream",
     "text": [
      "(90972, 13)\n"
     ]
    },
    {
     "data": {
      "text/html": [
       "<div>\n",
       "<style scoped>\n",
       "    .dataframe tbody tr th:only-of-type {\n",
       "        vertical-align: middle;\n",
       "    }\n",
       "\n",
       "    .dataframe tbody tr th {\n",
       "        vertical-align: top;\n",
       "    }\n",
       "\n",
       "    .dataframe thead th {\n",
       "        text-align: right;\n",
       "    }\n",
       "</style>\n",
       "<table border=\"1\" class=\"dataframe\">\n",
       "  <thead>\n",
       "    <tr style=\"text-align: right;\">\n",
       "      <th></th>\n",
       "      <th>Gene name</th>\n",
       "      <th>Transcript name</th>\n",
       "      <th>gene_id</th>\n",
       "      <th>transcript_id</th>\n",
       "      <th>Gene type</th>\n",
       "      <th>Transcript type</th>\n",
       "      <th>Gene description</th>\n",
       "      <th>s37rep1</th>\n",
       "      <th>s37rep2</th>\n",
       "      <th>s37rep3</th>\n",
       "      <th>s32rep1</th>\n",
       "      <th>s32rep2</th>\n",
       "      <th>s32rep3</th>\n",
       "    </tr>\n",
       "  </thead>\n",
       "  <tbody>\n",
       "    <tr>\n",
       "      <th>0</th>\n",
       "      <td>RPS4X</td>\n",
       "      <td>RPS4X-204</td>\n",
       "      <td>ENSG00000198034</td>\n",
       "      <td>ENST00000486733</td>\n",
       "      <td>protein_coding</td>\n",
       "      <td>protein_coding_CDS_not_defined</td>\n",
       "      <td>ribosomal protein S4 X-linked [Source:HGNC Sym...</td>\n",
       "      <td>1039</td>\n",
       "      <td>1280</td>\n",
       "      <td>938</td>\n",
       "      <td>652</td>\n",
       "      <td>834</td>\n",
       "      <td>633</td>\n",
       "    </tr>\n",
       "    <tr>\n",
       "      <th>1</th>\n",
       "      <td>RPS4X</td>\n",
       "      <td>RPS4X-205</td>\n",
       "      <td>ENSG00000198034</td>\n",
       "      <td>ENST00000492695</td>\n",
       "      <td>protein_coding</td>\n",
       "      <td>protein_coding_CDS_not_defined</td>\n",
       "      <td>ribosomal protein S4 X-linked [Source:HGNC Sym...</td>\n",
       "      <td>209</td>\n",
       "      <td>202</td>\n",
       "      <td>105</td>\n",
       "      <td>66</td>\n",
       "      <td>69</td>\n",
       "      <td>46</td>\n",
       "    </tr>\n",
       "    <tr>\n",
       "      <th>2</th>\n",
       "      <td>RPS4X</td>\n",
       "      <td>RPS4X-203</td>\n",
       "      <td>ENSG00000198034</td>\n",
       "      <td>ENST00000470671</td>\n",
       "      <td>protein_coding</td>\n",
       "      <td>protein_coding_CDS_not_defined</td>\n",
       "      <td>ribosomal protein S4 X-linked [Source:HGNC Sym...</td>\n",
       "      <td>61</td>\n",
       "      <td>75</td>\n",
       "      <td>76</td>\n",
       "      <td>50</td>\n",
       "      <td>76</td>\n",
       "      <td>54</td>\n",
       "    </tr>\n",
       "  </tbody>\n",
       "</table>\n",
       "</div>"
      ],
      "text/plain": [
       "  Gene name Transcript name          gene_id    transcript_id       Gene type  \\\n",
       "0     RPS4X       RPS4X-204  ENSG00000198034  ENST00000486733  protein_coding   \n",
       "1     RPS4X       RPS4X-205  ENSG00000198034  ENST00000492695  protein_coding   \n",
       "2     RPS4X       RPS4X-203  ENSG00000198034  ENST00000470671  protein_coding   \n",
       "\n",
       "                  Transcript type  \\\n",
       "0  protein_coding_CDS_not_defined   \n",
       "1  protein_coding_CDS_not_defined   \n",
       "2  protein_coding_CDS_not_defined   \n",
       "\n",
       "                                    Gene description  s37rep1  s37rep2  \\\n",
       "0  ribosomal protein S4 X-linked [Source:HGNC Sym...     1039     1280   \n",
       "1  ribosomal protein S4 X-linked [Source:HGNC Sym...      209      202   \n",
       "2  ribosomal protein S4 X-linked [Source:HGNC Sym...       61       75   \n",
       "\n",
       "   s37rep3  s32rep1  s32rep2  s32rep3  \n",
       "0      938      652      834      633  \n",
       "1      105       66       69       46  \n",
       "2       76       50       76       54  "
      ]
     },
     "execution_count": 182,
     "metadata": {},
     "output_type": "execute_result"
    }
   ],
   "source": [
    "df_anno  = pandas.merge(annotation, df, how = 'right')\n",
    "print(df_anno .shape)\n",
    "df_anno.head(3)"
   ]
  },
  {
   "cell_type": "code",
   "execution_count": 188,
   "id": "9286fbfd",
   "metadata": {},
   "outputs": [
    {
     "data": {
      "text/plain": [
       "s37rep1    0\n",
       "s37rep2    0\n",
       "s37rep3    0\n",
       "s32rep1    0\n",
       "s32rep2    0\n",
       "s32rep3    0\n",
       "dtype: int64"
      ]
     },
     "execution_count": 188,
     "metadata": {},
     "output_type": "execute_result"
    }
   ],
   "source": [
    "#they are filtered. But how? The minimum is 0\n",
    "df_anno.iloc[:,7:13].min()"
   ]
  }
 ],
 "metadata": {
  "kernelspec": {
   "display_name": "Python 3 (ipykernel)",
   "language": "python",
   "name": "python3"
  },
  "language_info": {
   "codemirror_mode": {
    "name": "ipython",
    "version": 3
   },
   "file_extension": ".py",
   "mimetype": "text/x-python",
   "name": "python",
   "nbconvert_exporter": "python",
   "pygments_lexer": "ipython3",
   "version": "3.11.5"
  }
 },
 "nbformat": 4,
 "nbformat_minor": 5
}
