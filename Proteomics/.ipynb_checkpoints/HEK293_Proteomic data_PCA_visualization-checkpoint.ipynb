{
 "cells": [
  {
   "cell_type": "markdown",
   "id": "19069ee0",
   "metadata": {},
   "source": [
    "# Import, options"
   ]
  },
  {
   "cell_type": "code",
   "execution_count": 1,
   "id": "2adb646b",
   "metadata": {},
   "outputs": [],
   "source": [
    "import seaborn, pandas\n",
    "import matplotlib, matplotlib.pyplot as plt\n",
    "from sklearn.decomposition import PCA"
   ]
  },
  {
   "cell_type": "code",
   "execution_count": 2,
   "id": "0c188f4e",
   "metadata": {},
   "outputs": [],
   "source": [
    "matplotlib.rcParams.update({'svg.fonttype' : 'none'})\n",
    "#'font.size':20, 'xtick.labelsize':20, 'ytick.labelsize':20,'axes.grid' : True, 'grid.alpha': 0.5, 'grid.linestyle' : ':',                            'figure.figsize':(8, 5), "
   ]
  },
  {
   "cell_type": "code",
   "execution_count": 3,
   "id": "6ae19579",
   "metadata": {},
   "outputs": [],
   "source": [
    "file_directory = \"/Users/kja11/OneDrive - Menntaský/PostDoc_Hypothermia/in_silico/Python/\""
   ]
  },
  {
   "cell_type": "markdown",
   "id": "8e0197ea",
   "metadata": {},
   "source": [
    "# Data Download"
   ]
  },
  {
   "cell_type": "code",
   "execution_count": 5,
   "id": "09e0d65e",
   "metadata": {},
   "outputs": [],
   "source": [
    "# Values are Protein abundance by TMT reporter ion intensity\n",
    "# Stats are ANOVA\n",
    "# Peptides number = 15487"
   ]
  },
  {
   "cell_type": "code",
   "execution_count": 6,
   "id": "1268085d",
   "metadata": {
    "scrolled": true,
    "slideshow": {
     "slide_type": ""
    },
    "tags": []
   },
   "outputs": [
    {
     "name": "stdout",
     "output_type": "stream",
     "text": [
      "(2405, 6) \n",
      "\n"
     ]
    },
    {
     "data": {
      "text/html": [
       "<div>\n",
       "<style scoped>\n",
       "    .dataframe tbody tr th:only-of-type {\n",
       "        vertical-align: middle;\n",
       "    }\n",
       "\n",
       "    .dataframe tbody tr th {\n",
       "        vertical-align: top;\n",
       "    }\n",
       "\n",
       "    .dataframe thead th {\n",
       "        text-align: right;\n",
       "    }\n",
       "</style>\n",
       "<table border=\"1\" class=\"dataframe\">\n",
       "  <thead>\n",
       "    <tr style=\"text-align: right;\">\n",
       "      <th></th>\n",
       "      <th>Ctrl</th>\n",
       "      <th>3h</th>\n",
       "      <th>6h</th>\n",
       "      <th>9h</th>\n",
       "      <th>12h</th>\n",
       "      <th>16h</th>\n",
       "    </tr>\n",
       "    <tr>\n",
       "      <th>Gene</th>\n",
       "      <th></th>\n",
       "      <th></th>\n",
       "      <th></th>\n",
       "      <th></th>\n",
       "      <th></th>\n",
       "      <th></th>\n",
       "    </tr>\n",
       "  </thead>\n",
       "  <tbody>\n",
       "    <tr>\n",
       "      <th>DIS3</th>\n",
       "      <td>92.9</td>\n",
       "      <td>96.6</td>\n",
       "      <td>91.6</td>\n",
       "      <td>105.8</td>\n",
       "      <td>103.0</td>\n",
       "      <td>115.5</td>\n",
       "    </tr>\n",
       "    <tr>\n",
       "      <th>LARP1</th>\n",
       "      <td>103.3</td>\n",
       "      <td>106.6</td>\n",
       "      <td>103.5</td>\n",
       "      <td>99.1</td>\n",
       "      <td>95.3</td>\n",
       "      <td>93.2</td>\n",
       "    </tr>\n",
       "    <tr>\n",
       "      <th>ACTB</th>\n",
       "      <td>100.9</td>\n",
       "      <td>107.1</td>\n",
       "      <td>102.3</td>\n",
       "      <td>94.4</td>\n",
       "      <td>93.9</td>\n",
       "      <td>100.4</td>\n",
       "    </tr>\n",
       "  </tbody>\n",
       "</table>\n",
       "</div>"
      ],
      "text/plain": [
       "        Ctrl     3h     6h     9h    12h    16h\n",
       "Gene                                           \n",
       "DIS3    92.9   96.6   91.6  105.8  103.0  115.5\n",
       "LARP1  103.3  106.6  103.5   99.1   95.3   93.2\n",
       "ACTB   100.9  107.1  102.3   94.4   93.9  100.4"
      ]
     },
     "execution_count": 6,
     "metadata": {},
     "output_type": "execute_result"
    }
   ],
   "source": [
    "#data Proteomics\n",
    "df = pandas.read_csv(file_directory+'1) input/proteomics/Pilot_ProteomicsData.csv', \n",
    "                     sep = ',', index_col = 'Gene')\n",
    "df = df.iloc[:,4:-3]\n",
    "\n",
    "df.columns = df.columns.str.split('_').str[0]\n",
    "df_with_tripl = df.copy()\n",
    "df = df.groupby(axis=1, level=0).median()\n",
    "df = df[['Ctrl', '3h', '6h', '9h', '12h', '16h']]\n",
    "\n",
    "print(df.shape, '\\n')\n",
    "df.head(3)"
   ]
  },
  {
   "cell_type": "code",
   "execution_count": 18,
   "id": "e9e2d4d2",
   "metadata": {
    "scrolled": false
   },
   "outputs": [
    {
     "name": "stdout",
     "output_type": "stream",
     "text": [
      "          PC1         PC2 samples\n",
      "0  118.364495  159.003222    Ctrl\n",
      "1  276.991931   -9.368209      3h\n"
     ]
    },
    {
     "data": {
      "image/png": "[encoded data removed]",
      "text/plain": [
       "<Figure size 800x600 with 1 Axes>"
      ]
     },
     "metadata": {},
     "output_type": "display_data"
    }
   ],
   "source": [
    "pca = PCA(n_components=2)  # We choose 2 components for 2D plot\n",
    "principal_components = pca.fit_transform(df.T)\n",
    "pca_df = pandas.DataFrame(data=principal_components, columns=['PC1', 'PC2'])\n",
    "\n",
    "pca_df['samples'] = df.columns\n",
    "print(pca_df.head(2))\n",
    "plt.figure(figsize=(8,6))\n",
    "seaborn.scatterplot(x='PC1', y='PC2', data=pca_df)\n",
    "\n",
    "for index, row in pca_df.iterrows():\n",
    "    plt.annotate(row['samples'], (row['PC1'], row['PC2']),\n",
    "                fontsize = 10)\n",
    "\n",
    "\n",
    "plt.title('PCA Plot - Proteomic data')\n",
    "plt.xlabel('Principal Component 1')\n",
    "plt.ylabel('Principal Component 2')\n",
    "plt.show()"
   ]
  }
 ],
 "metadata": {
  "kernelspec": {
   "display_name": "Python 3 (ipykernel)",
   "language": "python",
   "name": "python3"
  },
  "language_info": {
   "codemirror_mode": {
    "name": "ipython",
    "version": 3
   },
   "file_extension": ".py",
   "mimetype": "text/x-python",
   "name": "python",
   "nbconvert_exporter": "python",
   "pygments_lexer": "ipython3",
   "version": "3.11.5"
  }
 },
 "nbformat": 4,
 "nbformat_minor": 5
}
