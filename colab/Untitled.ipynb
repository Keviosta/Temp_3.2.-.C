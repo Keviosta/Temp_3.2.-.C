{
 "cells": [
  {
   "cell_type": "code",
   "execution_count": 17,
   "id": "ede691db",
   "metadata": {},
   "outputs": [
    {
     "ename": "SyntaxError",
     "evalue": "invalid syntax (2417426159.py, line 1)",
     "output_type": "error",
     "traceback": [
      "\u001b[1;36m  Cell \u001b[1;32mIn[17], line 1\u001b[1;36m\u001b[0m\n\u001b[1;33m    install vcf\u001b[0m\n\u001b[1;37m            ^\u001b[0m\n\u001b[1;31mSyntaxError\u001b[0m\u001b[1;31m:\u001b[0m invalid syntax\n"
     ]
    }
   ],
   "source": [
    "install vcf"
   ]
  },
  {
   "cell_type": "code",
   "execution_count": 15,
   "id": "2bb6ab92",
   "metadata": {},
   "outputs": [
    {
     "ename": "ModuleNotFoundError",
     "evalue": "No module named 'cyvcf2'",
     "output_type": "error",
     "traceback": [
      "\u001b[1;31m---------------------------------------------------------------------------\u001b[0m",
      "\u001b[1;31mModuleNotFoundError\u001b[0m                       Traceback (most recent call last)",
      "Cell \u001b[1;32mIn[15], line 1\u001b[0m\n\u001b[1;32m----> 1\u001b[0m \u001b[38;5;28;01mimport\u001b[39;00m \u001b[38;5;21;01mcyvcf2\u001b[39;00m\n\u001b[0;32m      2\u001b[0m \u001b[38;5;28;01mimport\u001b[39;00m \u001b[38;5;21;01mpandas\u001b[39;00m\n\u001b[0;32m      3\u001b[0m \u001b[38;5;28;01mimport\u001b[39;00m \u001b[38;5;21;01mmatplotlib\u001b[39;00m\u001b[38;5;21;01m.\u001b[39;00m\u001b[38;5;21;01mpyplot\u001b[39;00m \u001b[38;5;28;01mas\u001b[39;00m \u001b[38;5;21;01mplt\u001b[39;00m\n",
      "\u001b[1;31mModuleNotFoundError\u001b[0m: No module named 'cyvcf2'"
     ]
    }
   ],
   "source": [
    "import cyvcf2\n",
    "import pandas\n",
    "import matplotlib.pyplot as plt\n",
    "import seaborn"
   ]
  },
  {
   "cell_type": "code",
   "execution_count": 5,
   "id": "02cb5f36",
   "metadata": {},
   "outputs": [],
   "source": [
    "file_directory = \"/Users/kja11\\OneDrive - Menntaský (1)/Mild_Hypothermia_project/in_silico/Python/\"\n",
    "input_dir = \"1) input/kimb\""
   ]
  },
  {
   "cell_type": "code",
   "execution_count": 6,
   "id": "97e1bc66",
   "metadata": {},
   "outputs": [
    {
     "ename": "NameError",
     "evalue": "name 'vcfpy' is not defined",
     "output_type": "error",
     "traceback": [
      "\u001b[1;31m---------------------------------------------------------------------------\u001b[0m",
      "\u001b[1;31mNameError\u001b[0m                                 Traceback (most recent call last)",
      "Cell \u001b[1;32mIn[6], line 2\u001b[0m\n\u001b[0;32m      1\u001b[0m \u001b[38;5;66;03m# Open the .vcf.gz file using vcfpy\u001b[39;00m\n\u001b[1;32m----> 2\u001b[0m reader \u001b[38;5;241m=\u001b[39m vcfpy\u001b[38;5;241m.\u001b[39mReader\u001b[38;5;241m.\u001b[39mfrom_path(file_directory \u001b[38;5;241m+\u001b[39m input_dir \u001b[38;5;241m+\u001b[39m \u001b[38;5;124m\"\u001b[39m\u001b[38;5;124mfiltered_A1470_1_DMSO_vs_PoN.vcf.gz\u001b[39m\u001b[38;5;124m\"\u001b[39m)\n\u001b[0;32m      4\u001b[0m \u001b[38;5;66;03m# Initialize lists to store INDEL data\u001b[39;00m\n\u001b[0;32m      5\u001b[0m indel_positions \u001b[38;5;241m=\u001b[39m []\n",
      "\u001b[1;31mNameError\u001b[0m: name 'vcfpy' is not defined"
     ]
    }
   ],
   "source": [
    "# Open the .vcf.gz file using vcfpy\n",
    "reader = vcfpy.Reader.from_path(file_directory + input_dir + \"filtered_A1470_1_DMSO_vs_PoN.vcf.gz\")\n",
    "\n",
    "# Initialize lists to store INDEL data\n",
    "indel_positions = []\n",
    "indel_chromosomes = []\n",
    "\n",
    "# Iterate through the records to extract INDELs\n",
    "for record in reader:\n",
    "    # Check if the variant is an INDEL\n",
    "    if record.is_indel:\n",
    "        indel_positions.append(record.POS)\n",
    "        indel_chromosomes.append(record.CHROM)\n",
    "\n",
    "# Create a DataFrame for analysis\n",
    "indel_df = pd.DataFrame({\n",
    "    \"Chromosome\": indel_chromosomes,\n",
    "    \"Position\": indel_positions\n",
    "})\n",
    "\n",
    "# Display the first few rows of the DataFrame\n",
    "print(indel_df.head())"
   ]
  }
 ],
 "metadata": {
  "kernelspec": {
   "display_name": "Python 3 (ipykernel)",
   "language": "python",
   "name": "python3"
  },
  "language_info": {
   "codemirror_mode": {
    "name": "ipython",
    "version": 3
   },
   "file_extension": ".py",
   "mimetype": "text/x-python",
   "name": "python",
   "nbconvert_exporter": "python",
   "pygments_lexer": "ipython3",
   "version": "3.11.5"
  }
 },
 "nbformat": 4,
 "nbformat_minor": 5
}
