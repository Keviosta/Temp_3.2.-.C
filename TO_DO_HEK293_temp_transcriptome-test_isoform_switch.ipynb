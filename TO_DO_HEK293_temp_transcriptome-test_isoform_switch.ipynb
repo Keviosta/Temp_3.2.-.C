{
 "cells": [
  {
   "cell_type": "code",
   "execution_count": 7,
   "id": "ee615cea",
   "metadata": {},
   "outputs": [],
   "source": [
    "import swan_vis as swan\n",
    "import pybiomart"
   ]
  },
  {
   "cell_type": "code",
   "execution_count": 176,
   "id": "f19ce85f",
   "metadata": {},
   "outputs": [],
   "source": [
    "import pandas, scipy, numpy, seaborn\n",
    "import matplotlib, matplotlib.pyplot as plt\n",
    "import pybiomart\n"
   ]
  },
  {
   "cell_type": "code",
   "execution_count": 177,
   "id": "906747b3",
   "metadata": {},
   "outputs": [],
   "source": [
    "matplotlib.rcParams.update({'font.size':20, 'xtick.labelsize':20, 'ytick.labelsize':20, \n",
    "                            'axes.grid' : True, 'grid.alpha': 0.5, 'grid.linestyle' : ':',\n",
    "                            'figure.figsize':(8, 5), 'svg.fonttype' : 'none'})"
   ]
  },
  {
   "cell_type": "code",
   "execution_count": 178,
   "id": "356f148a",
   "metadata": {},
   "outputs": [],
   "source": [
    "file_directory = \"/Users/kja11/OneDrive - Menntaský/PostDoc_Hypothermia/in_silico/Python/\""
   ]
  },
  {
   "cell_type": "markdown",
   "id": "5474bb34",
   "metadata": {},
   "source": [
    "# II] Data Download"
   ]
  },
  {
   "cell_type": "code",
   "execution_count": 179,
   "id": "76ed4e7b",
   "metadata": {
    "scrolled": true
   },
   "outputs": [
    {
     "name": "stdout",
     "output_type": "stream",
     "text": [
      "(90972, 8)\n"
     ]
    },
    {
     "data": {
      "text/html": [
       "<div>\n",
       "<style scoped>\n",
       "    .dataframe tbody tr th:only-of-type {\n",
       "        vertical-align: middle;\n",
       "    }\n",
       "\n",
       "    .dataframe tbody tr th {\n",
       "        vertical-align: top;\n",
       "    }\n",
       "\n",
       "    .dataframe thead th {\n",
       "        text-align: right;\n",
       "    }\n",
       "</style>\n",
       "<table border=\"1\" class=\"dataframe\">\n",
       "  <thead>\n",
       "    <tr style=\"text-align: right;\">\n",
       "      <th></th>\n",
       "      <th>gene_id</th>\n",
       "      <th>feature_id</th>\n",
       "      <th>s37rep1</th>\n",
       "      <th>s37rep2</th>\n",
       "      <th>s37rep3</th>\n",
       "      <th>s32rep1</th>\n",
       "      <th>s32rep2</th>\n",
       "      <th>s32rep3</th>\n",
       "    </tr>\n",
       "  </thead>\n",
       "  <tbody>\n",
       "    <tr>\n",
       "      <th>1</th>\n",
       "      <td>ENSG00000198034</td>\n",
       "      <td>ENST00000486733</td>\n",
       "      <td>1039</td>\n",
       "      <td>1280</td>\n",
       "      <td>938</td>\n",
       "      <td>652</td>\n",
       "      <td>834</td>\n",
       "      <td>633</td>\n",
       "    </tr>\n",
       "    <tr>\n",
       "      <th>2</th>\n",
       "      <td>ENSG00000198034</td>\n",
       "      <td>ENST00000492695</td>\n",
       "      <td>209</td>\n",
       "      <td>202</td>\n",
       "      <td>105</td>\n",
       "      <td>66</td>\n",
       "      <td>69</td>\n",
       "      <td>46</td>\n",
       "    </tr>\n",
       "    <tr>\n",
       "      <th>3</th>\n",
       "      <td>ENSG00000198034</td>\n",
       "      <td>ENST00000470671</td>\n",
       "      <td>61</td>\n",
       "      <td>75</td>\n",
       "      <td>76</td>\n",
       "      <td>50</td>\n",
       "      <td>76</td>\n",
       "      <td>54</td>\n",
       "    </tr>\n",
       "    <tr>\n",
       "      <th>4</th>\n",
       "      <td>ENSG00000182774</td>\n",
       "      <td>ENST00000558397</td>\n",
       "      <td>59427</td>\n",
       "      <td>72460</td>\n",
       "      <td>59413</td>\n",
       "      <td>51375</td>\n",
       "      <td>60020</td>\n",
       "      <td>63185</td>\n",
       "    </tr>\n",
       "    <tr>\n",
       "      <th>5</th>\n",
       "      <td>ENSG00000182774</td>\n",
       "      <td>ENST00000561068</td>\n",
       "      <td>12382</td>\n",
       "      <td>15089</td>\n",
       "      <td>11258</td>\n",
       "      <td>9856</td>\n",
       "      <td>12745</td>\n",
       "      <td>12056</td>\n",
       "    </tr>\n",
       "  </tbody>\n",
       "</table>\n",
       "</div>"
      ],
      "text/plain": [
       "           gene_id       feature_id  s37rep1  s37rep2  s37rep3  s32rep1  \\\n",
       "1  ENSG00000198034  ENST00000486733     1039     1280      938      652   \n",
       "2  ENSG00000198034  ENST00000492695      209      202      105       66   \n",
       "3  ENSG00000198034  ENST00000470671       61       75       76       50   \n",
       "4  ENSG00000182774  ENST00000558397    59427    72460    59413    51375   \n",
       "5  ENSG00000182774  ENST00000561068    12382    15089    11258     9856   \n",
       "\n",
       "   s32rep2  s32rep3  \n",
       "1      834      633  \n",
       "2       69       46  \n",
       "3       76       54  \n",
       "4    60020    63185  \n",
       "5    12745    12056  "
      ]
     },
     "execution_count": 179,
     "metadata": {},
     "output_type": "execute_result"
    }
   ],
   "source": [
    "#data all_counts_filtered\n",
    "df = pandas.read_csv(file_directory+'1) input/HEK293_temp_transcript_all_counts_filtered.tsv',\n",
    "                     sep = '\\t')\n",
    "print(df.shape)\n",
    "df.head()"
   ]
  },
  {
   "cell_type": "code",
   "execution_count": 14,
   "id": "555b9b37",
   "metadata": {},
   "outputs": [
    {
     "ename": "SyntaxError",
     "evalue": "invalid syntax (2051894414.py, line 1)",
     "output_type": "error",
     "traceback": [
      "\u001b[1;36m  Cell \u001b[1;32mIn[14], line 1\u001b[1;36m\u001b[0m\n\u001b[1;33m    mkdir data\u001b[0m\n\u001b[1;37m          ^\u001b[0m\n\u001b[1;31mSyntaxError\u001b[0m\u001b[1;31m:\u001b[0m invalid syntax\n"
     ]
    }
   ],
   "source": [
    "mkdir data\n",
    "mkdir figures\n",
    "cd data/\n",
    "\n",
    "# download reference files\n",
    "wget https://www.encodeproject.org/files/GRCh38_no_alt_analysis_set_GCA_000001405.15/@@download/GRCh38_no_alt_analysis_set_GCA_000001405.15.fasta.gz\n",
    "gunzip GRCh38_no_alt_analysis_set_GCA_000001405.15.fasta.gz\n",
    "awk '{print $1}' GRCh38_no_alt_analysis_set_GCA_000001405.15.fasta > hg38.fa\n",
    "\n",
    "wget ftp://ftp.ebi.ac.uk/pub/databases/gencode/Gencode_human/release_29/gencode.v29.annotation.gtf.gz\n",
    "gunzip gencode.v29.annotation.gtf.gz"
   ]
  },
  {
   "cell_type": "code",
   "execution_count": 11,
   "id": "5b4d407b",
   "metadata": {},
   "outputs": [],
   "source": [
    "annot_gtf = 'data/gencode.v29.annotation.gtf'"
   ]
  },
  {
   "cell_type": "code",
   "execution_count": 8,
   "id": "bd66acb4",
   "metadata": {},
   "outputs": [
    {
     "data": {
      "text/html": [
       "<div>\n",
       "<style scoped>\n",
       "    .dataframe tbody tr th:only-of-type {\n",
       "        vertical-align: middle;\n",
       "    }\n",
       "\n",
       "    .dataframe tbody tr th {\n",
       "        vertical-align: top;\n",
       "    }\n",
       "\n",
       "    .dataframe thead th {\n",
       "        text-align: right;\n",
       "    }\n",
       "</style>\n",
       "<table border=\"1\" class=\"dataframe\">\n",
       "  <thead>\n",
       "    <tr style=\"text-align: right;\">\n",
       "      <th></th>\n",
       "      <th>Gene name</th>\n",
       "      <th>Transcript name</th>\n",
       "      <th>gene_id</th>\n",
       "      <th>Gene type</th>\n",
       "      <th>Transcript type</th>\n",
       "      <th>Gene description</th>\n",
       "    </tr>\n",
       "    <tr>\n",
       "      <th>transcript_id</th>\n",
       "      <th></th>\n",
       "      <th></th>\n",
       "      <th></th>\n",
       "      <th></th>\n",
       "      <th></th>\n",
       "      <th></th>\n",
       "    </tr>\n",
       "  </thead>\n",
       "  <tbody>\n",
       "    <tr>\n",
       "      <th>ENST00000387314</th>\n",
       "      <td>MT-TF</td>\n",
       "      <td>MT-TF-201</td>\n",
       "      <td>ENSG00000210049</td>\n",
       "      <td>Mt_tRNA</td>\n",
       "      <td>Mt_tRNA</td>\n",
       "      <td>mitochondrially encoded tRNA-Phe (UUU/C) [Sour...</td>\n",
       "    </tr>\n",
       "    <tr>\n",
       "      <th>ENST00000389680</th>\n",
       "      <td>MT-RNR1</td>\n",
       "      <td>MT-RNR1-201</td>\n",
       "      <td>ENSG00000211459</td>\n",
       "      <td>Mt_rRNA</td>\n",
       "      <td>Mt_rRNA</td>\n",
       "      <td>mitochondrially encoded 12S rRNA [Source:HGNC ...</td>\n",
       "    </tr>\n",
       "  </tbody>\n",
       "</table>\n",
       "</div>"
      ],
      "text/plain": [
       "                Gene name Transcript name          gene_id Gene type  \\\n",
       "transcript_id                                                          \n",
       "ENST00000387314     MT-TF       MT-TF-201  ENSG00000210049   Mt_tRNA   \n",
       "ENST00000389680   MT-RNR1     MT-RNR1-201  ENSG00000211459   Mt_rRNA   \n",
       "\n",
       "                Transcript type  \\\n",
       "transcript_id                     \n",
       "ENST00000387314         Mt_tRNA   \n",
       "ENST00000389680         Mt_rRNA   \n",
       "\n",
       "                                                  Gene description  \n",
       "transcript_id                                                       \n",
       "ENST00000387314  mitochondrially encoded tRNA-Phe (UUU/C) [Sour...  \n",
       "ENST00000389680  mitochondrially encoded 12S rRNA [Source:HGNC ...  "
      ]
     },
     "execution_count": 8,
     "metadata": {},
     "output_type": "execute_result"
    }
   ],
   "source": [
    "# Import data from hsapiens_gene_ensembl\n",
    "dataset = pybiomart.Dataset(name='hsapiens_gene_ensembl', host='http://www.ensembl.org')\n",
    "annotation = dataset.query(attributes=['external_gene_name', 'external_transcript_name', 'ensembl_gene_id', 'ensembl_transcript_id',\n",
    "                                       'gene_biotype', 'transcript_biotype', 'description'])\n",
    "\n",
    "annotation = annotation.rename(columns = {'Gene stable ID' : 'gene_id',\n",
    "                                   'Transcript stable ID' : 'transcript_id'})\n",
    "\n",
    "annotation.set_index('transcript_id', drop=True, inplace=True)\n",
    "# annotation.set_index('Gene stable ID', inplace=True)\n",
    "annotation.head(2)"
   ]
  },
  {
   "cell_type": "markdown",
   "id": "e58f61d6",
   "metadata": {},
   "source": [
    "# III] Data transformation"
   ]
  },
  {
   "cell_type": "code",
   "execution_count": 13,
   "id": "64e85711",
   "metadata": {},
   "outputs": [
    {
     "name": "stdout",
     "output_type": "stream",
     "text": [
      "\n",
      "Adding annotation to the SwanGraph\n"
     ]
    },
    {
     "ename": "Exception",
     "evalue": "GTF file not found at data/gencode.v29.annotation.gtf. Check path.",
     "output_type": "error",
     "traceback": [
      "\u001b[1;31m---------------------------------------------------------------------------\u001b[0m",
      "\u001b[1;31mException\u001b[0m                                 Traceback (most recent call last)",
      "Cell \u001b[1;32mIn[13], line 2\u001b[0m\n\u001b[0;32m      1\u001b[0m sg \u001b[38;5;241m=\u001b[39m swan\u001b[38;5;241m.\u001b[39mSwanGraph()\n\u001b[1;32m----> 2\u001b[0m sg\u001b[38;5;241m.\u001b[39madd_annotation(annot_gtf)\n",
      "File \u001b[1;32m~\\anaconda3\\Lib\\site-packages\\swan_vis\\swangraph.py:129\u001b[0m, in \u001b[0;36mSwanGraph.add_annotation\u001b[1;34m(self, fname, verbose)\u001b[0m\n\u001b[0;32m    126\u001b[0m \t\u001b[38;5;28;01mraise\u001b[39;00m \u001b[38;5;167;01mValueError\u001b[39;00m(\u001b[38;5;124m'\u001b[39m\u001b[38;5;124mAnnotation already added to SwanGraph\u001b[39m\u001b[38;5;124m'\u001b[39m)\n\u001b[0;32m    128\u001b[0m \u001b[38;5;66;03m# use the add_dataset function to add stuff to graph\u001b[39;00m\n\u001b[1;32m--> 129\u001b[0m \u001b[38;5;28mself\u001b[39m\u001b[38;5;241m.\u001b[39madd_dataset(fname, include_isms\u001b[38;5;241m=\u001b[39m\u001b[38;5;28;01mTrue\u001b[39;00m, \\\n\u001b[0;32m    130\u001b[0m \tannotation\u001b[38;5;241m=\u001b[39m\u001b[38;5;28;01mTrue\u001b[39;00m, verbose\u001b[38;5;241m=\u001b[39mverbose)\n\u001b[0;32m    132\u001b[0m \u001b[38;5;66;03m# call all transcripts from the annotation \"Known\"\u001b[39;00m\n\u001b[0;32m    133\u001b[0m \u001b[38;5;28mself\u001b[39m\u001b[38;5;241m.\u001b[39mt_df\u001b[38;5;241m.\u001b[39mloc[\u001b[38;5;28mself\u001b[39m\u001b[38;5;241m.\u001b[39mt_df\u001b[38;5;241m.\u001b[39mannotation \u001b[38;5;241m==\u001b[39m \u001b[38;5;28;01mTrue\u001b[39;00m, \u001b[38;5;124m'\u001b[39m\u001b[38;5;124mnovelty\u001b[39m\u001b[38;5;124m'\u001b[39m] \u001b[38;5;241m=\u001b[39m \u001b[38;5;124m'\u001b[39m\u001b[38;5;124mKnown\u001b[39m\u001b[38;5;124m'\u001b[39m\n",
      "File \u001b[1;32m~\\anaconda3\\Lib\\site-packages\\swan_vis\\swangraph.py:199\u001b[0m, in \u001b[0;36mSwanGraph.add_dataset\u001b[1;34m(self, fname, pass_list, include_isms, annotation, verbose)\u001b[0m\n\u001b[0;32m    197\u001b[0m \u001b[38;5;66;03m# get loc_df, edge_df, t_df\u001b[39;00m\n\u001b[0;32m    198\u001b[0m \u001b[38;5;28;01mif\u001b[39;00m ftype \u001b[38;5;241m==\u001b[39m \u001b[38;5;124m'\u001b[39m\u001b[38;5;124mgtf\u001b[39m\u001b[38;5;124m'\u001b[39m:\n\u001b[1;32m--> 199\u001b[0m \tcheck_file_loc(fname, \u001b[38;5;124m'\u001b[39m\u001b[38;5;124mGTF\u001b[39m\u001b[38;5;124m'\u001b[39m)\n\u001b[0;32m    200\u001b[0m \tt_df, exon_df, from_talon, from_cerberus \u001b[38;5;241m=\u001b[39m parse_gtf(fname, include_isms, verbose)\n\u001b[0;32m    201\u001b[0m \u001b[38;5;28;01melif\u001b[39;00m ftype \u001b[38;5;241m==\u001b[39m \u001b[38;5;124m'\u001b[39m\u001b[38;5;124mdb\u001b[39m\u001b[38;5;124m'\u001b[39m:\n",
      "File \u001b[1;32m~\\anaconda3\\Lib\\site-packages\\swan_vis\\utils.py:147\u001b[0m, in \u001b[0;36mcheck_file_loc\u001b[1;34m(loc, ftype)\u001b[0m\n\u001b[0;32m    139\u001b[0m \u001b[38;5;250m\u001b[39m\u001b[38;5;124;03m\"\"\"\u001b[39;00m\n\u001b[0;32m    140\u001b[0m \u001b[38;5;124;03mCheck if a file exists. Raises an error if not.\u001b[39;00m\n\u001b[0;32m    141\u001b[0m \n\u001b[1;32m   (...)\u001b[0m\n\u001b[0;32m    144\u001b[0m \u001b[38;5;124;03m\tftype (str): File type\u001b[39;00m\n\u001b[0;32m    145\u001b[0m \u001b[38;5;124;03m\"\"\"\u001b[39;00m\n\u001b[0;32m    146\u001b[0m \u001b[38;5;28;01mif\u001b[39;00m \u001b[38;5;129;01mnot\u001b[39;00m os\u001b[38;5;241m.\u001b[39mpath\u001b[38;5;241m.\u001b[39misfile(loc):\n\u001b[1;32m--> 147\u001b[0m \t\u001b[38;5;28;01mraise\u001b[39;00m \u001b[38;5;167;01mException\u001b[39;00m(\u001b[38;5;124m'\u001b[39m\u001b[38;5;132;01m{}\u001b[39;00m\u001b[38;5;124m file not found at \u001b[39m\u001b[38;5;132;01m{}\u001b[39;00m\u001b[38;5;124m. \u001b[39m\u001b[38;5;124m'\u001b[39m\n\u001b[0;32m    148\u001b[0m \t\t\u001b[38;5;124m'\u001b[39m\u001b[38;5;124mCheck path.\u001b[39m\u001b[38;5;124m'\u001b[39m\u001b[38;5;241m.\u001b[39mformat(ftype, loc))\n",
      "\u001b[1;31mException\u001b[0m: GTF file not found at data/gencode.v29.annotation.gtf. Check path."
     ]
    }
   ],
   "source": [
    "sg = swan.SwanGraph()\n",
    "sg.add_annotation(annot_gtf)"
   ]
  },
  {
   "cell_type": "code",
   "execution_count": null,
   "id": "0dce3218",
   "metadata": {},
   "outputs": [],
   "source": []
  },
  {
   "cell_type": "code",
   "execution_count": null,
   "id": "0b25cbd3",
   "metadata": {},
   "outputs": [],
   "source": []
  },
  {
   "cell_type": "code",
   "execution_count": null,
   "id": "df54d842",
   "metadata": {},
   "outputs": [],
   "source": []
  }
 ],
 "metadata": {
  "kernelspec": {
   "display_name": "Python 3 (ipykernel)",
   "language": "python",
   "name": "python3"
  },
  "language_info": {
   "codemirror_mode": {
    "name": "ipython",
    "version": 3
   },
   "file_extension": ".py",
   "mimetype": "text/x-python",
   "name": "python",
   "nbconvert_exporter": "python",
   "pygments_lexer": "ipython3",
   "version": "3.11.5"
  }
 },
 "nbformat": 4,
 "nbformat_minor": 5
}
