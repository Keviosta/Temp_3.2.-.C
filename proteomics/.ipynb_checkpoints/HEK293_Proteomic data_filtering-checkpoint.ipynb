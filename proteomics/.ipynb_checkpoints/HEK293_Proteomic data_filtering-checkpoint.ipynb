{
 "cells": [
  {
   "cell_type": "markdown",
   "id": "e75f975e",
   "metadata": {},
   "source": [
    "# Questions "
   ]
  },
  {
   "cell_type": "markdown",
   "id": "19069ee0",
   "metadata": {},
   "source": [
    "# Import, options"
   ]
  },
  {
   "cell_type": "code",
   "execution_count": 76,
   "id": "2adb646b",
   "metadata": {},
   "outputs": [],
   "source": [
    "import numpy, seaborn, pandas\n",
    "import scipy.stats as stats\n",
    "import matplotlib, matplotlib.pyplot as plt\n",
    "\n",
    "import statsmodels.api\n",
    "\n",
    "from statsmodels.stats.multitest import multipletests\n",
    "from scipy.stats import linregress\n",
    "from scipy.stats import f_oneway\n",
    "\n",
    "from sklearn.cluster import AgglomerativeClustering\n",
    "import scipy.cluster.hierarchy as sch"
   ]
  },
  {
   "cell_type": "code",
   "execution_count": 77,
   "id": "0c188f4e",
   "metadata": {},
   "outputs": [],
   "source": [
    "matplotlib.rcParams.update({'svg.fonttype' : 'none'})\n",
    "#'font.size':20, 'xtick.labelsize':20, 'ytick.labelsize':20,'axes.grid' : True, 'grid.alpha': 0.5, 'grid.linestyle' : ':',                            'figure.figsize':(8, 5), "
   ]
  },
  {
   "cell_type": "code",
   "execution_count": 78,
   "id": "6ae19579",
   "metadata": {},
   "outputs": [],
   "source": [
    "file_directory = \"/Users/kja11/OneDrive - Menntaský/PostDoc_Hypothermia/in_silico/Python/\""
   ]
  },
  {
   "cell_type": "markdown",
   "id": "8e0197ea",
   "metadata": {},
   "source": [
    "# Data Download"
   ]
  },
  {
   "cell_type": "code",
   "execution_count": 79,
   "id": "09e0d65e",
   "metadata": {},
   "outputs": [],
   "source": [
    "# Values are Protein abundance by TMT reporter ion intensity\n",
    "# Stats are ANOVA\n",
    "# Peptides number = 15487"
   ]
  },
  {
   "cell_type": "code",
   "execution_count": 80,
   "id": "1268085d",
   "metadata": {
    "scrolled": true
   },
   "outputs": [
    {
     "name": "stdout",
     "output_type": "stream",
     "text": [
      "(2405, 26) \n",
      " Index(['Accession', 'Protein', 'Gene', 'Coverage [%]', '# Peptides',\n",
      "       'Ctrl_BR1', 'Ctrl_BR2', 'Ctrl_BR3', '3h_BR1', '3h_BR2', '3h_BR3',\n",
      "       '6h_BR1', '6h_BR2', '6h_BR3', '9h_BR1', '9h_BR2', '9h_BR3', '12h_BR1',\n",
      "       '12h_BR2', '12h_BR3', '16h_BR1', '16h_BR2', '16h_BR3', 'F.stat',\n",
      "       'p.value', 'Neglog10p'],\n",
      "      dtype='object')\n"
     ]
    },
    {
     "data": {
      "text/html": [
       "<div>\n",
       "<style scoped>\n",
       "    .dataframe tbody tr th:only-of-type {\n",
       "        vertical-align: middle;\n",
       "    }\n",
       "\n",
       "    .dataframe tbody tr th {\n",
       "        vertical-align: top;\n",
       "    }\n",
       "\n",
       "    .dataframe thead th {\n",
       "        text-align: right;\n",
       "    }\n",
       "</style>\n",
       "<table border=\"1\" class=\"dataframe\">\n",
       "  <thead>\n",
       "    <tr style=\"text-align: right;\">\n",
       "      <th></th>\n",
       "      <th>Accession</th>\n",
       "      <th>Protein</th>\n",
       "      <th>Gene</th>\n",
       "      <th>Coverage [%]</th>\n",
       "      <th># Peptides</th>\n",
       "      <th>Ctrl_BR1</th>\n",
       "      <th>Ctrl_BR2</th>\n",
       "      <th>Ctrl_BR3</th>\n",
       "      <th>3h_BR1</th>\n",
       "      <th>3h_BR2</th>\n",
       "      <th>...</th>\n",
       "      <th>9h_BR3</th>\n",
       "      <th>12h_BR1</th>\n",
       "      <th>12h_BR2</th>\n",
       "      <th>12h_BR3</th>\n",
       "      <th>16h_BR1</th>\n",
       "      <th>16h_BR2</th>\n",
       "      <th>16h_BR3</th>\n",
       "      <th>F.stat</th>\n",
       "      <th>p.value</th>\n",
       "      <th>Neglog10p</th>\n",
       "    </tr>\n",
       "  </thead>\n",
       "  <tbody>\n",
       "    <tr>\n",
       "      <th>0</th>\n",
       "      <td>Q9Y2L1</td>\n",
       "      <td>Exosome complex exonuclease RRP44</td>\n",
       "      <td>DIS3</td>\n",
       "      <td>6</td>\n",
       "      <td>4</td>\n",
       "      <td>92.2</td>\n",
       "      <td>96.5</td>\n",
       "      <td>92.9</td>\n",
       "      <td>96.6</td>\n",
       "      <td>87.0</td>\n",
       "      <td>...</td>\n",
       "      <td>103.2</td>\n",
       "      <td>102.0</td>\n",
       "      <td>103.0</td>\n",
       "      <td>105.8</td>\n",
       "      <td>102.4</td>\n",
       "      <td>117.6</td>\n",
       "      <td>115.5</td>\n",
       "      <td>11.787</td>\n",
       "      <td>0.000272</td>\n",
       "      <td>3.5657</td>\n",
       "    </tr>\n",
       "    <tr>\n",
       "      <th>1</th>\n",
       "      <td>Q6PKG0</td>\n",
       "      <td>La-related protein 1</td>\n",
       "      <td>LARP1</td>\n",
       "      <td>11</td>\n",
       "      <td>10</td>\n",
       "      <td>99.6</td>\n",
       "      <td>103.3</td>\n",
       "      <td>103.5</td>\n",
       "      <td>107.7</td>\n",
       "      <td>106.6</td>\n",
       "      <td>...</td>\n",
       "      <td>99.1</td>\n",
       "      <td>95.3</td>\n",
       "      <td>99.7</td>\n",
       "      <td>93.3</td>\n",
       "      <td>94.8</td>\n",
       "      <td>92.5</td>\n",
       "      <td>93.2</td>\n",
       "      <td>10.947</td>\n",
       "      <td>0.000386</td>\n",
       "      <td>3.4138</td>\n",
       "    </tr>\n",
       "    <tr>\n",
       "      <th>2</th>\n",
       "      <td>P60709</td>\n",
       "      <td>Actin, cytoplasmic 1</td>\n",
       "      <td>ACTB</td>\n",
       "      <td>71</td>\n",
       "      <td>29</td>\n",
       "      <td>100.0</td>\n",
       "      <td>101.7</td>\n",
       "      <td>100.9</td>\n",
       "      <td>107.7</td>\n",
       "      <td>107.1</td>\n",
       "      <td>...</td>\n",
       "      <td>98.2</td>\n",
       "      <td>96.5</td>\n",
       "      <td>93.9</td>\n",
       "      <td>91.1</td>\n",
       "      <td>99.1</td>\n",
       "      <td>100.4</td>\n",
       "      <td>105.6</td>\n",
       "      <td>10.507</td>\n",
       "      <td>0.000467</td>\n",
       "      <td>3.3304</td>\n",
       "    </tr>\n",
       "  </tbody>\n",
       "</table>\n",
       "<p>3 rows × 26 columns</p>\n",
       "</div>"
      ],
      "text/plain": [
       "  Accession                            Protein   Gene  Coverage [%]  \\\n",
       "0    Q9Y2L1  Exosome complex exonuclease RRP44   DIS3             6   \n",
       "1    Q6PKG0               La-related protein 1  LARP1            11   \n",
       "2    P60709               Actin, cytoplasmic 1   ACTB            71   \n",
       "\n",
       "   # Peptides  Ctrl_BR1  Ctrl_BR2  Ctrl_BR3  3h_BR1  3h_BR2  ...  9h_BR3  \\\n",
       "0           4      92.2      96.5      92.9    96.6    87.0  ...   103.2   \n",
       "1          10      99.6     103.3     103.5   107.7   106.6  ...    99.1   \n",
       "2          29     100.0     101.7     100.9   107.7   107.1  ...    98.2   \n",
       "\n",
       "   12h_BR1  12h_BR2  12h_BR3  16h_BR1  16h_BR2  16h_BR3  F.stat   p.value  \\\n",
       "0    102.0    103.0    105.8    102.4    117.6    115.5  11.787  0.000272   \n",
       "1     95.3     99.7     93.3     94.8     92.5     93.2  10.947  0.000386   \n",
       "2     96.5     93.9     91.1     99.1    100.4    105.6  10.507  0.000467   \n",
       "\n",
       "   Neglog10p  \n",
       "0     3.5657  \n",
       "1     3.4138  \n",
       "2     3.3304  \n",
       "\n",
       "[3 rows x 26 columns]"
      ]
     },
     "execution_count": 80,
     "metadata": {},
     "output_type": "execute_result"
    }
   ],
   "source": [
    "#data DEseq HEK293 significant ones\n",
    "df_annotated = pandas.read_csv(file_directory+'1) input/proteomics/Pilot_ProteomicsData.csv',\n",
    "                               sep = ',')\n",
    "print(df_annotated.shape, '\\n', df_annotated.columns)\n",
    "df_annotated.head(3)"
   ]
  },
  {
   "cell_type": "code",
   "execution_count": 81,
   "id": "4d9bf2ec",
   "metadata": {},
   "outputs": [
    {
     "data": {
      "text/plain": [
       "0"
      ]
     },
     "execution_count": 81,
     "metadata": {},
     "output_type": "execute_result"
    }
   ],
   "source": [
    "# See if we have duplicate in Gene ( = having isoforms)\n",
    "df_annotated.duplicated(subset=[\"Gene\"]).sum()"
   ]
  },
  {
   "cell_type": "code",
   "execution_count": 82,
   "id": "ec2bca34",
   "metadata": {},
   "outputs": [
    {
     "data": {
      "text/html": [
       "<div>\n",
       "<style scoped>\n",
       "    .dataframe tbody tr th:only-of-type {\n",
       "        vertical-align: middle;\n",
       "    }\n",
       "\n",
       "    .dataframe tbody tr th {\n",
       "        vertical-align: top;\n",
       "    }\n",
       "\n",
       "    .dataframe thead th {\n",
       "        text-align: right;\n",
       "    }\n",
       "</style>\n",
       "<table border=\"1\" class=\"dataframe\">\n",
       "  <thead>\n",
       "    <tr style=\"text-align: right;\">\n",
       "      <th></th>\n",
       "      <th>Ctrl_BR1</th>\n",
       "      <th>Ctrl_BR2</th>\n",
       "      <th>Ctrl_BR3</th>\n",
       "      <th>3h_BR1</th>\n",
       "      <th>3h_BR2</th>\n",
       "      <th>3h_BR3</th>\n",
       "      <th>6h_BR1</th>\n",
       "      <th>6h_BR2</th>\n",
       "      <th>6h_BR3</th>\n",
       "      <th>9h_BR1</th>\n",
       "      <th>9h_BR2</th>\n",
       "      <th>9h_BR3</th>\n",
       "      <th>12h_BR1</th>\n",
       "      <th>12h_BR2</th>\n",
       "      <th>12h_BR3</th>\n",
       "      <th>16h_BR1</th>\n",
       "      <th>16h_BR2</th>\n",
       "      <th>16h_BR3</th>\n",
       "    </tr>\n",
       "    <tr>\n",
       "      <th>Gene</th>\n",
       "      <th></th>\n",
       "      <th></th>\n",
       "      <th></th>\n",
       "      <th></th>\n",
       "      <th></th>\n",
       "      <th></th>\n",
       "      <th></th>\n",
       "      <th></th>\n",
       "      <th></th>\n",
       "      <th></th>\n",
       "      <th></th>\n",
       "      <th></th>\n",
       "      <th></th>\n",
       "      <th></th>\n",
       "      <th></th>\n",
       "      <th></th>\n",
       "      <th></th>\n",
       "      <th></th>\n",
       "    </tr>\n",
       "  </thead>\n",
       "  <tbody>\n",
       "    <tr>\n",
       "      <th>DIS3</th>\n",
       "      <td>92.2</td>\n",
       "      <td>96.5</td>\n",
       "      <td>92.9</td>\n",
       "      <td>96.6</td>\n",
       "      <td>87.0</td>\n",
       "      <td>97.6</td>\n",
       "      <td>91.6</td>\n",
       "      <td>92.3</td>\n",
       "      <td>90.3</td>\n",
       "      <td>107.6</td>\n",
       "      <td>105.8</td>\n",
       "      <td>103.2</td>\n",
       "      <td>102.0</td>\n",
       "      <td>103.0</td>\n",
       "      <td>105.8</td>\n",
       "      <td>102.4</td>\n",
       "      <td>117.6</td>\n",
       "      <td>115.5</td>\n",
       "    </tr>\n",
       "    <tr>\n",
       "      <th>LARP1</th>\n",
       "      <td>99.6</td>\n",
       "      <td>103.3</td>\n",
       "      <td>103.5</td>\n",
       "      <td>107.7</td>\n",
       "      <td>106.6</td>\n",
       "      <td>103.5</td>\n",
       "      <td>103.5</td>\n",
       "      <td>106.4</td>\n",
       "      <td>101.5</td>\n",
       "      <td>94.0</td>\n",
       "      <td>102.6</td>\n",
       "      <td>99.1</td>\n",
       "      <td>95.3</td>\n",
       "      <td>99.7</td>\n",
       "      <td>93.3</td>\n",
       "      <td>94.8</td>\n",
       "      <td>92.5</td>\n",
       "      <td>93.2</td>\n",
       "    </tr>\n",
       "  </tbody>\n",
       "</table>\n",
       "</div>"
      ],
      "text/plain": [
       "       Ctrl_BR1  Ctrl_BR2  Ctrl_BR3  3h_BR1  3h_BR2  3h_BR3  6h_BR1  6h_BR2  \\\n",
       "Gene                                                                          \n",
       "DIS3       92.2      96.5      92.9    96.6    87.0    97.6    91.6    92.3   \n",
       "LARP1      99.6     103.3     103.5   107.7   106.6   103.5   103.5   106.4   \n",
       "\n",
       "       6h_BR3  9h_BR1  9h_BR2  9h_BR3  12h_BR1  12h_BR2  12h_BR3  16h_BR1  \\\n",
       "Gene                                                                        \n",
       "DIS3     90.3   107.6   105.8   103.2    102.0    103.0    105.8    102.4   \n",
       "LARP1   101.5    94.0   102.6    99.1     95.3     99.7     93.3     94.8   \n",
       "\n",
       "       16h_BR2  16h_BR3  \n",
       "Gene                     \n",
       "DIS3     117.6    115.5  \n",
       "LARP1     92.5     93.2  "
      ]
     },
     "execution_count": 82,
     "metadata": {},
     "output_type": "execute_result"
    }
   ],
   "source": [
    "# Only select expression columns\n",
    "df = df_annotated.set_index('Gene')\n",
    "df = df.iloc[:,4:-3]\n",
    "df.head(2)"
   ]
  },
  {
   "cell_type": "markdown",
   "id": "e45d0ee4",
   "metadata": {},
   "source": [
    "# Data transformation"
   ]
  },
  {
   "cell_type": "markdown",
   "id": "c2f3583a",
   "metadata": {},
   "source": [
    "## Linregress to select increase or decrease overtime"
   ]
  },
  {
   "cell_type": "markdown",
   "id": "dc291e33",
   "metadata": {},
   "source": [
    "### NoCtl in the slope"
   ]
  },
  {
   "cell_type": "code",
   "execution_count": 83,
   "id": "29ca899e",
   "metadata": {},
   "outputs": [
    {
     "name": "stdout",
     "output_type": "stream",
     "text": [
      "Index([3, 3, 3, 6, 6, 6, 9, 9, 9, 12, 12, 12, 16, 16, 16], dtype='int64')\n"
     ]
    },
    {
     "data": {
      "text/html": [
       "<div>\n",
       "<style scoped>\n",
       "    .dataframe tbody tr th:only-of-type {\n",
       "        vertical-align: middle;\n",
       "    }\n",
       "\n",
       "    .dataframe tbody tr th {\n",
       "        vertical-align: top;\n",
       "    }\n",
       "\n",
       "    .dataframe thead th {\n",
       "        text-align: right;\n",
       "    }\n",
       "</style>\n",
       "<table border=\"1\" class=\"dataframe\">\n",
       "  <thead>\n",
       "    <tr style=\"text-align: right;\">\n",
       "      <th></th>\n",
       "      <th>3</th>\n",
       "      <th>3</th>\n",
       "      <th>3</th>\n",
       "      <th>6</th>\n",
       "      <th>6</th>\n",
       "      <th>6</th>\n",
       "      <th>9</th>\n",
       "      <th>9</th>\n",
       "      <th>9</th>\n",
       "      <th>12</th>\n",
       "      <th>12</th>\n",
       "      <th>12</th>\n",
       "      <th>16</th>\n",
       "      <th>16</th>\n",
       "      <th>16</th>\n",
       "      <th>slope</th>\n",
       "      <th>intercept</th>\n",
       "      <th>rvalue</th>\n",
       "      <th>pvalue</th>\n",
       "    </tr>\n",
       "    <tr>\n",
       "      <th>Gene</th>\n",
       "      <th></th>\n",
       "      <th></th>\n",
       "      <th></th>\n",
       "      <th></th>\n",
       "      <th></th>\n",
       "      <th></th>\n",
       "      <th></th>\n",
       "      <th></th>\n",
       "      <th></th>\n",
       "      <th></th>\n",
       "      <th></th>\n",
       "      <th></th>\n",
       "      <th></th>\n",
       "      <th></th>\n",
       "      <th></th>\n",
       "      <th></th>\n",
       "      <th></th>\n",
       "      <th></th>\n",
       "      <th></th>\n",
       "    </tr>\n",
       "  </thead>\n",
       "  <tbody>\n",
       "    <tr>\n",
       "      <th>DIS3</th>\n",
       "      <td>96.6</td>\n",
       "      <td>87.0</td>\n",
       "      <td>97.6</td>\n",
       "      <td>91.6</td>\n",
       "      <td>92.3</td>\n",
       "      <td>90.3</td>\n",
       "      <td>107.6</td>\n",
       "      <td>105.8</td>\n",
       "      <td>103.2</td>\n",
       "      <td>102.0</td>\n",
       "      <td>103.0</td>\n",
       "      <td>105.8</td>\n",
       "      <td>102.4</td>\n",
       "      <td>117.6</td>\n",
       "      <td>115.5</td>\n",
       "      <td>1.515694</td>\n",
       "      <td>87.275616</td>\n",
       "      <td>0.805491</td>\n",
       "      <td>0.000290</td>\n",
       "    </tr>\n",
       "    <tr>\n",
       "      <th>LARP1</th>\n",
       "      <td>107.7</td>\n",
       "      <td>106.6</td>\n",
       "      <td>103.5</td>\n",
       "      <td>103.5</td>\n",
       "      <td>106.4</td>\n",
       "      <td>101.5</td>\n",
       "      <td>94.0</td>\n",
       "      <td>102.6</td>\n",
       "      <td>99.1</td>\n",
       "      <td>95.3</td>\n",
       "      <td>99.7</td>\n",
       "      <td>93.3</td>\n",
       "      <td>94.8</td>\n",
       "      <td>92.5</td>\n",
       "      <td>93.2</td>\n",
       "      <td>-1.009533</td>\n",
       "      <td>108.867704</td>\n",
       "      <td>-0.877613</td>\n",
       "      <td>0.000017</td>\n",
       "    </tr>\n",
       "    <tr>\n",
       "      <th>ACTB</th>\n",
       "      <td>107.7</td>\n",
       "      <td>107.1</td>\n",
       "      <td>103.4</td>\n",
       "      <td>102.3</td>\n",
       "      <td>102.3</td>\n",
       "      <td>103.0</td>\n",
       "      <td>94.4</td>\n",
       "      <td>92.6</td>\n",
       "      <td>98.2</td>\n",
       "      <td>96.5</td>\n",
       "      <td>93.9</td>\n",
       "      <td>91.1</td>\n",
       "      <td>99.1</td>\n",
       "      <td>100.4</td>\n",
       "      <td>105.6</td>\n",
       "      <td>-0.490661</td>\n",
       "      <td>104.354086</td>\n",
       "      <td>-0.435866</td>\n",
       "      <td>0.104359</td>\n",
       "    </tr>\n",
       "    <tr>\n",
       "      <th>PSMA2</th>\n",
       "      <td>111.4</td>\n",
       "      <td>104.4</td>\n",
       "      <td>106.1</td>\n",
       "      <td>104.9</td>\n",
       "      <td>106.0</td>\n",
       "      <td>102.1</td>\n",
       "      <td>96.3</td>\n",
       "      <td>94.2</td>\n",
       "      <td>93.9</td>\n",
       "      <td>93.9</td>\n",
       "      <td>98.1</td>\n",
       "      <td>95.4</td>\n",
       "      <td>91.1</td>\n",
       "      <td>104.2</td>\n",
       "      <td>94.6</td>\n",
       "      <td>-0.902140</td>\n",
       "      <td>108.073022</td>\n",
       "      <td>-0.692949</td>\n",
       "      <td>0.004183</td>\n",
       "    </tr>\n",
       "    <tr>\n",
       "      <th>PRRC1</th>\n",
       "      <td>119.6</td>\n",
       "      <td>102.7</td>\n",
       "      <td>107.6</td>\n",
       "      <td>108.2</td>\n",
       "      <td>104.0</td>\n",
       "      <td>105.6</td>\n",
       "      <td>86.3</td>\n",
       "      <td>90.7</td>\n",
       "      <td>91.0</td>\n",
       "      <td>91.1</td>\n",
       "      <td>92.3</td>\n",
       "      <td>90.8</td>\n",
       "      <td>97.0</td>\n",
       "      <td>109.5</td>\n",
       "      <td>96.7</td>\n",
       "      <td>-0.928729</td>\n",
       "      <td>108.084306</td>\n",
       "      <td>-0.461475</td>\n",
       "      <td>0.083357</td>\n",
       "    </tr>\n",
       "  </tbody>\n",
       "</table>\n",
       "</div>"
      ],
      "text/plain": [
       "           3      3      3      6      6      6      9      9      9     12  \\\n",
       "Gene                                                                          \n",
       "DIS3    96.6   87.0   97.6   91.6   92.3   90.3  107.6  105.8  103.2  102.0   \n",
       "LARP1  107.7  106.6  103.5  103.5  106.4  101.5   94.0  102.6   99.1   95.3   \n",
       "ACTB   107.7  107.1  103.4  102.3  102.3  103.0   94.4   92.6   98.2   96.5   \n",
       "PSMA2  111.4  104.4  106.1  104.9  106.0  102.1   96.3   94.2   93.9   93.9   \n",
       "PRRC1  119.6  102.7  107.6  108.2  104.0  105.6   86.3   90.7   91.0   91.1   \n",
       "\n",
       "          12     12     16     16     16     slope   intercept    rvalue  \\\n",
       "Gene                                                                       \n",
       "DIS3   103.0  105.8  102.4  117.6  115.5  1.515694   87.275616  0.805491   \n",
       "LARP1   99.7   93.3   94.8   92.5   93.2 -1.009533  108.867704 -0.877613   \n",
       "ACTB    93.9   91.1   99.1  100.4  105.6 -0.490661  104.354086 -0.435866   \n",
       "PSMA2   98.1   95.4   91.1  104.2   94.6 -0.902140  108.073022 -0.692949   \n",
       "PRRC1   92.3   90.8   97.0  109.5   96.7 -0.928729  108.084306 -0.461475   \n",
       "\n",
       "         pvalue  \n",
       "Gene             \n",
       "DIS3   0.000290  \n",
       "LARP1  0.000017  \n",
       "ACTB   0.104359  \n",
       "PSMA2  0.004183  \n",
       "PRRC1  0.083357  "
      ]
     },
     "execution_count": 83,
     "metadata": {},
     "output_type": "execute_result"
    }
   ],
   "source": [
    "# Regression is about time. So, exclude 37°C to keep 32°C and the time points \n",
    "df_linregress = df.iloc[:,3:]\n",
    "\n",
    "##Change df name as numeric to run linregress - 3,3,3 because of triplicate of 3 hours.\n",
    "df_linregress.columns = [ 3, 3, 3, 6, 6, 6, 9, 9, 9, 12, 12, 12, 16, 16 , 16]\n",
    "print(df_linregress.columns)\n",
    "\n",
    "\n",
    "## LinRegress Slope (output: slope, intercept, rvalue, pvalue)\n",
    "df_linregress_noCTL = df_linregress.assign(slope = (df_linregress.apply(lambda row: linregress(row.index, row.values).slope, axis=1)),\n",
    "                                     intercept = (df_linregress.apply(lambda row: linregress(row.index, row.values).intercept, axis=1)),\n",
    "                                     rvalue = (df_linregress.apply(lambda row: linregress(row.index, row.values).rvalue, axis=1)),\n",
    "                                     pvalue = (df_linregress.apply(lambda row: linregress(row.index, row.values).pvalue, axis=1)))\n",
    "\n",
    "# Only select linregress values\n",
    "df_linregress_noCTL.head(5)"
   ]
  },
  {
   "cell_type": "code",
   "execution_count": 84,
   "id": "5d050d91",
   "metadata": {},
   "outputs": [
    {
     "name": "stdout",
     "output_type": "stream",
     "text": [
      "on the 2405 proteins, 532 have significant linregress (non adjusted)\n",
      "\n",
      "on the 2405 proteins, 22 have adjusted significant linregress:\n",
      "['DIS3', 'LARP1', 'NUP93', 'NDUFB8', 'CTNND1', 'RPL21', 'KARS1', 'SRSF5', 'ATG3', 'AGPS', 'CIRBP', 'RPL19', 'RPS18', 'ERP44', 'RPS20', 'THRAP3', 'FUS', 'RPL13', 'RBM8A', 'MDC1', 'PRPF3', 'HNRNPL']\n"
     ]
    }
   ],
   "source": [
    "# adjusted p_value \n",
    "sign_answer, adj_pvalue, c , d  = multipletests(df_linregress_noCTL['pvalue'], alpha = 0.05, method='fdr_bh')\n",
    "df_linregress_noCTL['adj_pvalue'] = adj_pvalue\n",
    "\n",
    "# Select the proteins with significant Linregress nonAdj pavlue\n",
    "signif_nonAjd_linregress_proteins1 = list(df_linregress_noCTL[df_linregress_noCTL['pvalue'] < 0.05].index)\n",
    "print(f'on the {len(df_linregress_noCTL)} proteins, {len(signif_nonAjd_linregress_proteins1)} have significant linregress (non adjusted)')\n",
    "\n",
    "# Select the proteins with significant Linregress Adjusted pvalue\n",
    "adjPvalue_signif_linregress_proteins1 = list(df_linregress_noCTL[df_linregress_noCTL['adj_pvalue'] < 0.05].index)\n",
    "print(f'\\non the {len(df_linregress_noCTL)} proteins, {len(adjPvalue_signif_linregress_proteins1)} have adjusted significant linregress:')\n",
    "\n",
    "print(adjPvalue_signif_linregress_proteins1)"
   ]
  },
  {
   "cell_type": "code",
   "execution_count": 85,
   "id": "bc599312",
   "metadata": {},
   "outputs": [
    {
     "data": {
      "text/plain": [
       "302"
      ]
     },
     "execution_count": 85,
     "metadata": {},
     "output_type": "execute_result"
    }
   ],
   "source": [
    "# Select absolute Rvalue from that:\n",
    "high_Rval_prot_noCTL = df_linregress_noCTL[(df_linregress_noCTL['rvalue']< -0.6) \n",
    "                                     |(df_linregress_noCTL['rvalue'] > 0.6) ].index\n",
    "len(high_Rval_prot_noCTL)"
   ]
  },
  {
   "cell_type": "code",
   "execution_count": 86,
   "id": "d75c525c",
   "metadata": {},
   "outputs": [
    {
     "data": {
      "text/html": [
       "<div>\n",
       "<style scoped>\n",
       "    .dataframe tbody tr th:only-of-type {\n",
       "        vertical-align: middle;\n",
       "    }\n",
       "\n",
       "    .dataframe tbody tr th {\n",
       "        vertical-align: top;\n",
       "    }\n",
       "\n",
       "    .dataframe thead th {\n",
       "        text-align: right;\n",
       "    }\n",
       "</style>\n",
       "<table border=\"1\" class=\"dataframe\">\n",
       "  <thead>\n",
       "    <tr style=\"text-align: right;\">\n",
       "      <th></th>\n",
       "      <th>slope</th>\n",
       "      <th>intercept</th>\n",
       "      <th>rvalue</th>\n",
       "      <th>pvalue</th>\n",
       "      <th>adj_pvalue</th>\n",
       "    </tr>\n",
       "    <tr>\n",
       "      <th>Gene</th>\n",
       "      <th></th>\n",
       "      <th></th>\n",
       "      <th></th>\n",
       "      <th></th>\n",
       "      <th></th>\n",
       "    </tr>\n",
       "  </thead>\n",
       "  <tbody>\n",
       "    <tr>\n",
       "      <th>CIRBP</th>\n",
       "      <td>2.534112</td>\n",
       "      <td>78.746174</td>\n",
       "      <td>0.815935</td>\n",
       "      <td>0.000208</td>\n",
       "      <td>0.033331</td>\n",
       "    </tr>\n",
       "    <tr>\n",
       "      <th>RBM3</th>\n",
       "      <td>3.328080</td>\n",
       "      <td>72.288327</td>\n",
       "      <td>0.736582</td>\n",
       "      <td>0.001736</td>\n",
       "      <td>0.080206</td>\n",
       "    </tr>\n",
       "    <tr>\n",
       "      <th>SMYD5</th>\n",
       "      <td>-2.081712</td>\n",
       "      <td>118.285084</td>\n",
       "      <td>-0.727675</td>\n",
       "      <td>0.002105</td>\n",
       "      <td>0.080206</td>\n",
       "    </tr>\n",
       "  </tbody>\n",
       "</table>\n",
       "</div>"
      ],
      "text/plain": [
       "          slope   intercept    rvalue    pvalue  adj_pvalue\n",
       "Gene                                                       \n",
       "CIRBP  2.534112   78.746174  0.815935  0.000208    0.033331\n",
       "RBM3   3.328080   72.288327  0.736582  0.001736    0.080206\n",
       "SMYD5 -2.081712  118.285084 -0.727675  0.002105    0.080206"
      ]
     },
     "execution_count": 86,
     "metadata": {},
     "output_type": "execute_result"
    }
   ],
   "source": [
    "# Select the targets and see if we selected them:\n",
    "targets = 'CIRBP', 'RBM3', 'SMYD5'\n",
    "df_linregress_noCTL.loc[targets,:].iloc[:,-5:]"
   ]
  },
  {
   "cell_type": "code",
   "execution_count": 89,
   "id": "21eac635",
   "metadata": {},
   "outputs": [],
   "source": [
    "# Save the list of significant linregress proteins for Overlapping\n",
    "numpy.savetxt(file_directory+\"3) output/Proteomics/high_Rvalue_linregress_proteins.txt\", \n",
    "              high_Rval_prot_noCTL, delimiter=\"\\t\", fmt=\"% s\")\n",
    "\n",
    "\n",
    "df_linregress_noCTL.iloc[:,-5:].to_csv(file_directory+\"3) output/Proteomics/df_linregress_noCTL.csv\"\n",
    "                           , sep=',')"
   ]
  },
  {
   "cell_type": "markdown",
   "id": "5dde399e",
   "metadata": {},
   "source": [
    "## Select proteins from coefficient of variation"
   ]
  },
  {
   "cell_type": "raw",
   "id": "f826c1b1",
   "metadata": {},
   "source": [
    "The linregression approach gave information on the expression over time from 3 to 16 hours. \n",
    "We do not have information on proteins affected in early response but not later.\n",
    "Selection from Coefficient of Variations will allow us to identify proteins:\n",
    "    - at a specific time (like 3h for proteins affected in early response)\n",
    "    - with the higher variation. Could increase from 3 to 9 hours. And decrease afterward."
   ]
  },
  {
   "cell_type": "markdown",
   "id": "bf3127c6",
   "metadata": {},
   "source": [
    "### general Variation (all the conditions)"
   ]
  },
  {
   "cell_type": "code",
   "execution_count": 22,
   "id": "b1ef8d02",
   "metadata": {},
   "outputs": [
    {
     "name": "stdout",
     "output_type": "stream",
     "text": [
      "        _ctl    _3h    _6h    _9h   _12h   _16h\n",
      "Gene                                           \n",
      "DIS3    92.9   96.6   91.6  105.8  103.0  115.5\n",
      "LARP1  103.3  106.6  103.5   99.1   95.3   93.2\n",
      "ACTB   100.9  107.1  102.3   94.4   93.9  100.4\n",
      "PSMA2  101.3  106.1  104.9   94.2   95.4   94.6\n",
      "PRRC1  103.6  107.6  105.6   90.7   91.1   97.0\n"
     ]
    }
   ],
   "source": [
    "# median instead of the separate triplicate\n",
    "## Have median of the triplicate\n",
    "df2 = df.copy()\n",
    "df2.columns = df2.columns.str.split('_').str[0]\n",
    "\n",
    "df2 = df2.assign(_ctl= (df2[['Ctrl']].median(axis=1)),\n",
    "                 _3h= (df2[['3h']].median(axis=1)),\n",
    "                 _6h= (df2[['6h']].median(axis=1)),\n",
    "                 _9h= (df2[['9h']].median(axis=1)),\n",
    "                 _12h= (df2[['12h']].median(axis=1)),\n",
    "                 _16h= (df2[['16h']].median(axis=1)) )\n",
    "\n",
    "df2 = df2.iloc[:,-6:]\n",
    "print(df2.head())"
   ]
  },
  {
   "cell_type": "code",
   "execution_count": 60,
   "id": "b02fe3a1",
   "metadata": {},
   "outputs": [
    {
     "name": "stderr",
     "output_type": "stream",
     "text": [
      "C:\\Users\\kja11\\anaconda3\\Lib\\site-packages\\seaborn\\_oldcore.py:1119: FutureWarning: use_inf_as_na option is deprecated and will be removed in a future version. Convert inf values to NaN before operating instead.\n",
      "  with pd.option_context('mode.use_inf_as_na', True):\n"
     ]
    },
    {
     "data": {
      "image/png": "[encoded data removed]",
      "text/plain": [
       "<Figure size 640x480 with 1 Axes>"
      ]
     },
     "metadata": {},
     "output_type": "display_data"
    }
   ],
   "source": [
    "# coefficient of variation (CV) of gene expression across time points\n",
    "cv_expression = df2.std(axis=1) / df2.mean(axis=1)\n",
    "\n",
    "seaborn.histplot(cv_expression, bins=200, kde=True)\n",
    "# plt.title('Histogram of the Coeff of Variation')\n",
    "plt.xlabel('Coeff of Variation')\n",
    "plt.ylabel('Frequency')\n",
    "\n",
    "threshold = 0.1\n",
    "plt.axvline(threshold,color=\"red\",linestyle=\"--\")\n",
    "plt.show()"
   ]
  },
  {
   "cell_type": "code",
   "execution_count": 61,
   "id": "0044341c",
   "metadata": {
    "scrolled": true
   },
   "outputs": [
    {
     "name": "stdout",
     "output_type": "stream",
     "text": [
      "174 \n",
      "\n",
      "CIRBP 0.13410257811454962\n",
      "RBM3 0.16388714556587683\n",
      "SMYD5 0.12194110824260447\n"
     ]
    }
   ],
   "source": [
    "print(len(cv_expression[cv_expression > threshold]), '\\n')\n",
    "\n",
    "HighCV_prot = cv_expression[cv_expression > threshold].index\n",
    "\n",
    "targets = 'CIRBP', 'RBM3', 'SMYD5'\n",
    "for target in targets:\n",
    "    print(target, cv_expression[target])"
   ]
  },
  {
   "cell_type": "code",
   "execution_count": 62,
   "id": "c45ba7fd",
   "metadata": {},
   "outputs": [],
   "source": [
    "# Save the list of significant linregress proteins for Overlapping\n",
    "numpy.savetxt(file_directory+\"3) output/Proteomics/high_CoeffVar_proteins.txt\", \n",
    "              HighCV_prot, delimiter=\"\\t\", fmt=\"% s\")"
   ]
  },
  {
   "cell_type": "code",
   "execution_count": 63,
   "id": "d7daabd1",
   "metadata": {},
   "outputs": [
    {
     "data": {
      "text/plain": [
       "45"
      ]
     },
     "execution_count": 63,
     "metadata": {},
     "output_type": "execute_result"
    }
   ],
   "source": [
    "set1 = set(high_Rval_prot_noCTL)\n",
    "set2 = set(HighCV_prot)\n",
    "\n",
    "common_elements = set(set1).intersection(set2)\n",
    "common_elements = list(common_elements)\n",
    "len(common_elements)"
   ]
  },
  {
   "cell_type": "markdown",
   "id": "1531b105",
   "metadata": {},
   "source": [
    "### Variation between CTRL and 3h to select early response proteins"
   ]
  },
  {
   "cell_type": "code",
   "execution_count": 64,
   "id": "bc039299",
   "metadata": {},
   "outputs": [
    {
     "name": "stderr",
     "output_type": "stream",
     "text": [
      "C:\\Users\\kja11\\anaconda3\\Lib\\site-packages\\seaborn\\_oldcore.py:1119: FutureWarning: use_inf_as_na option is deprecated and will be removed in a future version. Convert inf values to NaN before operating instead.\n",
      "  with pd.option_context('mode.use_inf_as_na', True):\n"
     ]
    },
    {
     "data": {
      "image/png": "[encoded data removed]",
      "text/plain": [
       "<Figure size 640x480 with 1 Axes>"
      ]
     },
     "metadata": {},
     "output_type": "display_data"
    }
   ],
   "source": [
    "# coefficient of variation (CV) of gene expression between 3h and CTL\n",
    "cv_expression = df2.iloc[:,:2].std(axis=1) / df2.iloc[:,:2].mean(axis=1)\n",
    "\n",
    "seaborn.histplot(cv_expression, bins=200, kde=True)\n",
    "# plt.title('Histogram of the Coeff of Variation')\n",
    "plt.xlabel('Coeff of Variation')\n",
    "plt.ylabel('Frequency')\n",
    "\n",
    "threshold = 0.1\n",
    "plt.axvline(threshold,color=\"red\",linestyle=\"--\")\n",
    "plt.show()"
   ]
  },
  {
   "cell_type": "code",
   "execution_count": 72,
   "id": "0f321d39",
   "metadata": {},
   "outputs": [
    {
     "name": "stdout",
     "output_type": "stream",
     "text": [
      "179 \n",
      "\n",
      "CIRBP 0.032052380352292326 CIRBP non selected\n",
      "RBM3 0.0008275093986969074 RBM3 non selected\n",
      "SMYD5 0.1139049837567471 SMYD5 yes\n",
      "\n",
      "SMYD5 is here, not the two other. This is normal they changed at 9H\n"
     ]
    }
   ],
   "source": [
    "print(len(cv_expression[cv_expression > threshold]), '\\n')\n",
    "\n",
    "early_res_CV_prot = cv_expression[cv_expression > threshold].index\n",
    "\n",
    "targets = 'CIRBP', 'RBM3', 'SMYD5'\n",
    "for target in targets:\n",
    "    \n",
    "    if target in df[df.index.isin(early_res_CV_prot)].index:\n",
    "        print(target, cv_expression[target], target,'yes')\n",
    "    else:\n",
    "        print(target, cv_expression[target], target,'non selected')\n",
    "\n",
    "print('\\nSMYD5 is here, not the two other. This is normal they changed at 9H')"
   ]
  },
  {
   "cell_type": "code",
   "execution_count": 73,
   "id": "4e9ecb44",
   "metadata": {},
   "outputs": [],
   "source": [
    "# Save the list of significant linregress proteins for Overlapping\n",
    "numpy.savetxt(file_directory+\"3) output/Proteomics/Early_res_CoeffVar_proteins.txt\", \n",
    "              early_res_CV_prot, delimiter=\"\\t\", fmt=\"% s\")"
   ]
  }
 ],
 "metadata": {
  "kernelspec": {
   "display_name": "Python 3 (ipykernel)",
   "language": "python",
   "name": "python3"
  },
  "language_info": {
   "codemirror_mode": {
    "name": "ipython",
    "version": 3
   },
   "file_extension": ".py",
   "mimetype": "text/x-python",
   "name": "python",
   "nbconvert_exporter": "python",
   "pygments_lexer": "ipython3",
   "version": "3.11.5"
  }
 },
 "nbformat": 4,
 "nbformat_minor": 5
}
