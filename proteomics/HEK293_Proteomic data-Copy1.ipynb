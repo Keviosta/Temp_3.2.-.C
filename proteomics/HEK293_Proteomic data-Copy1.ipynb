{
 "cells": [
  {
   "cell_type": "markdown",
   "id": "e75f975e",
   "metadata": {},
   "source": [
    "# Questions "
   ]
  },
  {
   "cell_type": "raw",
   "id": "bf083271",
   "metadata": {},
   "source": [
    "Pour les moyennes, prendre plutot la mediane. C'est mieux pour peu de valeur comme ça.\n",
    "\n",
    "Faire un PCA plot à partir des 147 proteins , avec les données Zscore.\n",
    "\n",
    "Overlap with the rest of the data: Mice\n"
   ]
  },
  {
   "cell_type": "markdown",
   "id": "bbc34159",
   "metadata": {},
   "source": [
    "1) Overlaying to screen data, and/or DEGS. I think we are particulary interested in repressors that go down with hypothermia or activators that go up with hypothermia \n",
    "2) might be interesting to plot individual plots for known cold induced genes (CIRBP, RBM3; SMYD5) and see which other genes mirror or are opposite"
   ]
  },
  {
   "cell_type": "markdown",
   "id": "19069ee0",
   "metadata": {},
   "source": [
    "# Import, options"
   ]
  },
  {
   "cell_type": "code",
   "execution_count": 30,
   "id": "2adb646b",
   "metadata": {},
   "outputs": [],
   "source": [
    "import numpy, seaborn, pandas\n",
    "import scipy.stats as stats\n",
    "import matplotlib, matplotlib.pyplot as plt\n",
    "import statsmodels.api\n",
    "\n",
    "from statsmodels.stats.multitest import multipletests\n",
    "from scipy.stats import linregress"
   ]
  },
  {
   "cell_type": "code",
   "execution_count": 31,
   "id": "0c188f4e",
   "metadata": {},
   "outputs": [],
   "source": [
    "matplotlib.rcParams.update({'svg.fonttype' : 'none'})\n",
    "#'font.size':20, 'xtick.labelsize':20, 'ytick.labelsize':20,'axes.grid' : True, 'grid.alpha': 0.5, 'grid.linestyle' : ':',                            'figure.figsize':(8, 5), "
   ]
  },
  {
   "cell_type": "code",
   "execution_count": 32,
   "id": "6ae19579",
   "metadata": {},
   "outputs": [],
   "source": [
    "file_directory = \"/Users/kja11/OneDrive - Menntaský/PostDoc_Hypothermia/in_silico/Python/\""
   ]
  },
  {
   "cell_type": "markdown",
   "id": "8e0197ea",
   "metadata": {},
   "source": [
    "# Data Download"
   ]
  },
  {
   "cell_type": "code",
   "execution_count": 33,
   "id": "09e0d65e",
   "metadata": {},
   "outputs": [],
   "source": [
    "# Values are Protein abundance by TMT reporter ion intensity\n",
    "# Stats are ANOVA\n",
    "# Peptides number = 15487"
   ]
  },
  {
   "cell_type": "code",
   "execution_count": 34,
   "id": "1268085d",
   "metadata": {
    "scrolled": true
   },
   "outputs": [
    {
     "name": "stdout",
     "output_type": "stream",
     "text": [
      "(2405, 26) \n",
      " Index(['Accession', 'Protein', 'Gene', 'Coverage [%]', '# Peptides',\n",
      "       'Ctrl_BR1', 'Ctrl_BR2', 'Ctrl_BR3', '3h_BR1', '3h_BR2', '3h_BR3',\n",
      "       '6h_BR1', '6h_BR2', '6h_BR3', '9h_BR1', '9h_BR2', '9h_BR3', '12h_BR1',\n",
      "       '12h_BR2', '12h_BR3', '16h_BR1', '16h_BR2', '16h_BR3', 'F.stat',\n",
      "       'p.value', 'Neglog10p'],\n",
      "      dtype='object')\n"
     ]
    },
    {
     "data": {
      "text/html": [
       "<div>\n",
       "<style scoped>\n",
       "    .dataframe tbody tr th:only-of-type {\n",
       "        vertical-align: middle;\n",
       "    }\n",
       "\n",
       "    .dataframe tbody tr th {\n",
       "        vertical-align: top;\n",
       "    }\n",
       "\n",
       "    .dataframe thead th {\n",
       "        text-align: right;\n",
       "    }\n",
       "</style>\n",
       "<table border=\"1\" class=\"dataframe\">\n",
       "  <thead>\n",
       "    <tr style=\"text-align: right;\">\n",
       "      <th></th>\n",
       "      <th>Accession</th>\n",
       "      <th>Protein</th>\n",
       "      <th>Gene</th>\n",
       "      <th>Coverage [%]</th>\n",
       "      <th># Peptides</th>\n",
       "      <th>Ctrl_BR1</th>\n",
       "      <th>Ctrl_BR2</th>\n",
       "      <th>Ctrl_BR3</th>\n",
       "      <th>3h_BR1</th>\n",
       "      <th>3h_BR2</th>\n",
       "      <th>...</th>\n",
       "      <th>9h_BR3</th>\n",
       "      <th>12h_BR1</th>\n",
       "      <th>12h_BR2</th>\n",
       "      <th>12h_BR3</th>\n",
       "      <th>16h_BR1</th>\n",
       "      <th>16h_BR2</th>\n",
       "      <th>16h_BR3</th>\n",
       "      <th>F.stat</th>\n",
       "      <th>p.value</th>\n",
       "      <th>Neglog10p</th>\n",
       "    </tr>\n",
       "  </thead>\n",
       "  <tbody>\n",
       "    <tr>\n",
       "      <th>0</th>\n",
       "      <td>Q9Y2L1</td>\n",
       "      <td>Exosome complex exonuclease RRP44</td>\n",
       "      <td>DIS3</td>\n",
       "      <td>6</td>\n",
       "      <td>4</td>\n",
       "      <td>92.2</td>\n",
       "      <td>96.5</td>\n",
       "      <td>92.9</td>\n",
       "      <td>96.6</td>\n",
       "      <td>87.0</td>\n",
       "      <td>...</td>\n",
       "      <td>103.2</td>\n",
       "      <td>102.0</td>\n",
       "      <td>103.0</td>\n",
       "      <td>105.8</td>\n",
       "      <td>102.4</td>\n",
       "      <td>117.6</td>\n",
       "      <td>115.5</td>\n",
       "      <td>11.787</td>\n",
       "      <td>0.000272</td>\n",
       "      <td>3.5657</td>\n",
       "    </tr>\n",
       "    <tr>\n",
       "      <th>1</th>\n",
       "      <td>Q6PKG0</td>\n",
       "      <td>La-related protein 1</td>\n",
       "      <td>LARP1</td>\n",
       "      <td>11</td>\n",
       "      <td>10</td>\n",
       "      <td>99.6</td>\n",
       "      <td>103.3</td>\n",
       "      <td>103.5</td>\n",
       "      <td>107.7</td>\n",
       "      <td>106.6</td>\n",
       "      <td>...</td>\n",
       "      <td>99.1</td>\n",
       "      <td>95.3</td>\n",
       "      <td>99.7</td>\n",
       "      <td>93.3</td>\n",
       "      <td>94.8</td>\n",
       "      <td>92.5</td>\n",
       "      <td>93.2</td>\n",
       "      <td>10.947</td>\n",
       "      <td>0.000386</td>\n",
       "      <td>3.4138</td>\n",
       "    </tr>\n",
       "    <tr>\n",
       "      <th>2</th>\n",
       "      <td>P60709</td>\n",
       "      <td>Actin, cytoplasmic 1</td>\n",
       "      <td>ACTB</td>\n",
       "      <td>71</td>\n",
       "      <td>29</td>\n",
       "      <td>100.0</td>\n",
       "      <td>101.7</td>\n",
       "      <td>100.9</td>\n",
       "      <td>107.7</td>\n",
       "      <td>107.1</td>\n",
       "      <td>...</td>\n",
       "      <td>98.2</td>\n",
       "      <td>96.5</td>\n",
       "      <td>93.9</td>\n",
       "      <td>91.1</td>\n",
       "      <td>99.1</td>\n",
       "      <td>100.4</td>\n",
       "      <td>105.6</td>\n",
       "      <td>10.507</td>\n",
       "      <td>0.000467</td>\n",
       "      <td>3.3304</td>\n",
       "    </tr>\n",
       "  </tbody>\n",
       "</table>\n",
       "<p>3 rows × 26 columns</p>\n",
       "</div>"
      ],
      "text/plain": [
       "  Accession                            Protein   Gene  Coverage [%]  \\\n",
       "0    Q9Y2L1  Exosome complex exonuclease RRP44   DIS3             6   \n",
       "1    Q6PKG0               La-related protein 1  LARP1            11   \n",
       "2    P60709               Actin, cytoplasmic 1   ACTB            71   \n",
       "\n",
       "   # Peptides  Ctrl_BR1  Ctrl_BR2  Ctrl_BR3  3h_BR1  3h_BR2  ...  9h_BR3  \\\n",
       "0           4      92.2      96.5      92.9    96.6    87.0  ...   103.2   \n",
       "1          10      99.6     103.3     103.5   107.7   106.6  ...    99.1   \n",
       "2          29     100.0     101.7     100.9   107.7   107.1  ...    98.2   \n",
       "\n",
       "   12h_BR1  12h_BR2  12h_BR3  16h_BR1  16h_BR2  16h_BR3  F.stat   p.value  \\\n",
       "0    102.0    103.0    105.8    102.4    117.6    115.5  11.787  0.000272   \n",
       "1     95.3     99.7     93.3     94.8     92.5     93.2  10.947  0.000386   \n",
       "2     96.5     93.9     91.1     99.1    100.4    105.6  10.507  0.000467   \n",
       "\n",
       "   Neglog10p  \n",
       "0     3.5657  \n",
       "1     3.4138  \n",
       "2     3.3304  \n",
       "\n",
       "[3 rows x 26 columns]"
      ]
     },
     "execution_count": 34,
     "metadata": {},
     "output_type": "execute_result"
    }
   ],
   "source": [
    "#data DEseq HEK293 significant ones\n",
    "df_annotated = pandas.read_csv(file_directory+'1) input/proteomics/Pilot_ProteomicsData.csv',\n",
    "                               sep = ',')\n",
    "print(df_annotated.shape, '\\n', df_annotated.columns)\n",
    "df_annotated.head(3)"
   ]
  },
  {
   "cell_type": "markdown",
   "id": "e45d0ee4",
   "metadata": {},
   "source": [
    "# Data transformation"
   ]
  },
  {
   "cell_type": "code",
   "execution_count": 35,
   "id": "2ea3adda",
   "metadata": {},
   "outputs": [
    {
     "data": {
      "text/html": [
       "<div>\n",
       "<style scoped>\n",
       "    .dataframe tbody tr th:only-of-type {\n",
       "        vertical-align: middle;\n",
       "    }\n",
       "\n",
       "    .dataframe tbody tr th {\n",
       "        vertical-align: top;\n",
       "    }\n",
       "\n",
       "    .dataframe thead th {\n",
       "        text-align: right;\n",
       "    }\n",
       "</style>\n",
       "<table border=\"1\" class=\"dataframe\">\n",
       "  <thead>\n",
       "    <tr style=\"text-align: right;\">\n",
       "      <th></th>\n",
       "      <th>Ctrl_BR1</th>\n",
       "      <th>Ctrl_BR2</th>\n",
       "      <th>Ctrl_BR3</th>\n",
       "      <th>3h_BR1</th>\n",
       "      <th>3h_BR2</th>\n",
       "      <th>3h_BR3</th>\n",
       "      <th>6h_BR1</th>\n",
       "      <th>6h_BR2</th>\n",
       "      <th>6h_BR3</th>\n",
       "      <th>9h_BR1</th>\n",
       "      <th>9h_BR2</th>\n",
       "      <th>9h_BR3</th>\n",
       "      <th>12h_BR1</th>\n",
       "      <th>12h_BR2</th>\n",
       "      <th>12h_BR3</th>\n",
       "      <th>16h_BR1</th>\n",
       "      <th>16h_BR2</th>\n",
       "      <th>16h_BR3</th>\n",
       "    </tr>\n",
       "    <tr>\n",
       "      <th>Gene</th>\n",
       "      <th></th>\n",
       "      <th></th>\n",
       "      <th></th>\n",
       "      <th></th>\n",
       "      <th></th>\n",
       "      <th></th>\n",
       "      <th></th>\n",
       "      <th></th>\n",
       "      <th></th>\n",
       "      <th></th>\n",
       "      <th></th>\n",
       "      <th></th>\n",
       "      <th></th>\n",
       "      <th></th>\n",
       "      <th></th>\n",
       "      <th></th>\n",
       "      <th></th>\n",
       "      <th></th>\n",
       "    </tr>\n",
       "  </thead>\n",
       "  <tbody>\n",
       "    <tr>\n",
       "      <th>DIS3</th>\n",
       "      <td>92.2</td>\n",
       "      <td>96.5</td>\n",
       "      <td>92.9</td>\n",
       "      <td>96.6</td>\n",
       "      <td>87.0</td>\n",
       "      <td>97.6</td>\n",
       "      <td>91.6</td>\n",
       "      <td>92.3</td>\n",
       "      <td>90.3</td>\n",
       "      <td>107.6</td>\n",
       "      <td>105.8</td>\n",
       "      <td>103.2</td>\n",
       "      <td>102.0</td>\n",
       "      <td>103.0</td>\n",
       "      <td>105.8</td>\n",
       "      <td>102.4</td>\n",
       "      <td>117.6</td>\n",
       "      <td>115.5</td>\n",
       "    </tr>\n",
       "    <tr>\n",
       "      <th>LARP1</th>\n",
       "      <td>99.6</td>\n",
       "      <td>103.3</td>\n",
       "      <td>103.5</td>\n",
       "      <td>107.7</td>\n",
       "      <td>106.6</td>\n",
       "      <td>103.5</td>\n",
       "      <td>103.5</td>\n",
       "      <td>106.4</td>\n",
       "      <td>101.5</td>\n",
       "      <td>94.0</td>\n",
       "      <td>102.6</td>\n",
       "      <td>99.1</td>\n",
       "      <td>95.3</td>\n",
       "      <td>99.7</td>\n",
       "      <td>93.3</td>\n",
       "      <td>94.8</td>\n",
       "      <td>92.5</td>\n",
       "      <td>93.2</td>\n",
       "    </tr>\n",
       "  </tbody>\n",
       "</table>\n",
       "</div>"
      ],
      "text/plain": [
       "       Ctrl_BR1  Ctrl_BR2  Ctrl_BR3  3h_BR1  3h_BR2  3h_BR3  6h_BR1  6h_BR2  \\\n",
       "Gene                                                                          \n",
       "DIS3       92.2      96.5      92.9    96.6    87.0    97.6    91.6    92.3   \n",
       "LARP1      99.6     103.3     103.5   107.7   106.6   103.5   103.5   106.4   \n",
       "\n",
       "       6h_BR3  9h_BR1  9h_BR2  9h_BR3  12h_BR1  12h_BR2  12h_BR3  16h_BR1  \\\n",
       "Gene                                                                        \n",
       "DIS3     90.3   107.6   105.8   103.2    102.0    103.0    105.8    102.4   \n",
       "LARP1   101.5    94.0   102.6    99.1     95.3     99.7     93.3     94.8   \n",
       "\n",
       "       16h_BR2  16h_BR3  \n",
       "Gene                     \n",
       "DIS3     117.6    115.5  \n",
       "LARP1     92.5     93.2  "
      ]
     },
     "execution_count": 35,
     "metadata": {},
     "output_type": "execute_result"
    }
   ],
   "source": [
    "# Only select expression columns\n",
    "df = df_annotated.set_index('Gene')\n",
    "df = df.iloc[:,4:-3]\n",
    "df.head(2)"
   ]
  },
  {
   "cell_type": "markdown",
   "id": "5c752245",
   "metadata": {},
   "source": [
    "## To Zscore for heatmap"
   ]
  },
  {
   "cell_type": "code",
   "execution_count": 36,
   "id": "d564dc04",
   "metadata": {},
   "outputs": [
    {
     "data": {
      "text/html": [
       "<div>\n",
       "<style scoped>\n",
       "    .dataframe tbody tr th:only-of-type {\n",
       "        vertical-align: middle;\n",
       "    }\n",
       "\n",
       "    .dataframe tbody tr th {\n",
       "        vertical-align: top;\n",
       "    }\n",
       "\n",
       "    .dataframe thead th {\n",
       "        text-align: right;\n",
       "    }\n",
       "</style>\n",
       "<table border=\"1\" class=\"dataframe\">\n",
       "  <thead>\n",
       "    <tr style=\"text-align: right;\">\n",
       "      <th></th>\n",
       "      <th>Ctrl</th>\n",
       "      <th>Ctrl</th>\n",
       "      <th>Ctrl</th>\n",
       "      <th>3h</th>\n",
       "      <th>3h</th>\n",
       "      <th>3h</th>\n",
       "      <th>6h</th>\n",
       "      <th>6h</th>\n",
       "      <th>6h</th>\n",
       "      <th>9h</th>\n",
       "      <th>9h</th>\n",
       "      <th>9h</th>\n",
       "      <th>12h</th>\n",
       "      <th>12h</th>\n",
       "      <th>12h</th>\n",
       "      <th>16h</th>\n",
       "      <th>16h</th>\n",
       "      <th>16h</th>\n",
       "    </tr>\n",
       "    <tr>\n",
       "      <th>Gene</th>\n",
       "      <th></th>\n",
       "      <th></th>\n",
       "      <th></th>\n",
       "      <th></th>\n",
       "      <th></th>\n",
       "      <th></th>\n",
       "      <th></th>\n",
       "      <th></th>\n",
       "      <th></th>\n",
       "      <th></th>\n",
       "      <th></th>\n",
       "      <th></th>\n",
       "      <th></th>\n",
       "      <th></th>\n",
       "      <th></th>\n",
       "      <th></th>\n",
       "      <th></th>\n",
       "      <th></th>\n",
       "    </tr>\n",
       "  </thead>\n",
       "  <tbody>\n",
       "    <tr>\n",
       "      <th>DIS3</th>\n",
       "      <td>-0.653263</td>\n",
       "      <td>-0.239042</td>\n",
       "      <td>-0.955599</td>\n",
       "      <td>-0.256279</td>\n",
       "      <td>-1.296774</td>\n",
       "      <td>-0.271000</td>\n",
       "      <td>-1.192699</td>\n",
       "      <td>-0.682300</td>\n",
       "      <td>-1.273195</td>\n",
       "      <td>0.983209</td>\n",
       "      <td>0.380976</td>\n",
       "      <td>0.320070</td>\n",
       "      <td>0.272872</td>\n",
       "      <td>0.425982</td>\n",
       "      <td>0.622966</td>\n",
       "      <td>0.159868</td>\n",
       "      <td>1.382528</td>\n",
       "      <td>1.440664</td>\n",
       "    </tr>\n",
       "    <tr>\n",
       "      <th>LARP1</th>\n",
       "      <td>-0.020087</td>\n",
       "      <td>0.552889</td>\n",
       "      <td>0.599936</td>\n",
       "      <td>0.658457</td>\n",
       "      <td>0.911576</td>\n",
       "      <td>0.520616</td>\n",
       "      <td>0.579019</td>\n",
       "      <td>0.563896</td>\n",
       "      <td>0.331780</td>\n",
       "      <td>-0.781334</td>\n",
       "      <td>0.066175</td>\n",
       "      <td>-0.133731</td>\n",
       "      <td>-0.542082</td>\n",
       "      <td>-0.073251</td>\n",
       "      <td>-0.746845</td>\n",
       "      <td>-0.461492</td>\n",
       "      <td>-0.815508</td>\n",
       "      <td>-0.771343</td>\n",
       "    </tr>\n",
       "  </tbody>\n",
       "</table>\n",
       "</div>"
      ],
      "text/plain": [
       "           Ctrl      Ctrl      Ctrl        3h        3h        3h        6h  \\\n",
       "Gene                                                                          \n",
       "DIS3  -0.653263 -0.239042 -0.955599 -0.256279 -1.296774 -0.271000 -1.192699   \n",
       "LARP1 -0.020087  0.552889  0.599936  0.658457  0.911576  0.520616  0.579019   \n",
       "\n",
       "             6h        6h        9h        9h        9h       12h       12h  \\\n",
       "Gene                                                                          \n",
       "DIS3  -0.682300 -1.273195  0.983209  0.380976  0.320070  0.272872  0.425982   \n",
       "LARP1  0.563896  0.331780 -0.781334  0.066175 -0.133731 -0.542082 -0.073251   \n",
       "\n",
       "            12h       16h       16h       16h  \n",
       "Gene                                           \n",
       "DIS3   0.622966  0.159868  1.382528  1.440664  \n",
       "LARP1 -0.746845 -0.461492 -0.815508 -0.771343  "
      ]
     },
     "execution_count": 36,
     "metadata": {},
     "output_type": "execute_result"
    }
   ],
   "source": [
    "# Convert to Z_score\n",
    "df_zscore = stats.zscore(df, axis = 0)\n",
    "df_zscore.columns = df_zscore.columns.str.split('_').str[0]\n",
    "df_zscore.head(2)"
   ]
  },
  {
   "cell_type": "code",
   "execution_count": 37,
   "id": "48af5e28",
   "metadata": {},
   "outputs": [
    {
     "name": "stdout",
     "output_type": "stream",
     "text": [
      "            _ctl       _3h       _6h       _9h      _12h      _16h\n",
      "Gene                                                              \n",
      "DIS3   -0.653263 -0.271000 -1.192699  0.380976  0.425982  1.382528\n",
      "LARP1   0.552889  0.658457  0.563896 -0.133731 -0.542082 -0.771343\n",
      "ACTB    0.218390  0.658457  0.400358 -0.729436 -0.950691 -0.109933\n",
      "PSMA2   0.277089  0.869464  0.528543 -0.709283 -0.516717 -0.632473\n",
      "PRRC1   0.587827  1.070722  0.919315 -1.104490 -1.052948 -0.281625\n",
      "...          ...       ...       ...       ...       ...       ...\n",
      "RPL22   0.321114 -0.083159  0.519466 -0.041783  0.031208 -0.158988\n",
      "NOC2L  -0.353929 -0.237668 -0.112454  0.256632  0.053125  0.121395\n",
      "PSME1   0.042292 -0.412855 -0.327406  0.054430 -0.058123 -0.265458\n",
      "EPRS1  -0.016408 -0.113730  0.177033  0.230683  0.029602 -0.412437\n",
      "IMPDH2  0.098694  0.032742  0.057925  0.021225  0.153673 -0.436965\n",
      "\n",
      "[2405 rows x 6 columns]\n"
     ]
    }
   ],
   "source": [
    "# median instead of the separate triplicate\n",
    "## Have median of the triplicate\n",
    "df_zscore = df_zscore.assign(_ctl= (df_zscore[['Ctrl']].median(axis=1)),\n",
    "                             _3h= (df_zscore[['3h']].median(axis=1)),\n",
    "                             _6h= (df_zscore[['6h']].median(axis=1)),\n",
    "                             _9h= (df_zscore[['9h']].median(axis=1)),\n",
    "                             _12h= (df_zscore[['12h']].median(axis=1)),\n",
    "                             _16h= (df_zscore[['16h']].median(axis=1)) )\n",
    "\n",
    "df_zscore = df_zscore.iloc[:,-6:]\n",
    "print(df_zscore)"
   ]
  },
  {
   "cell_type": "markdown",
   "id": "a901a25b",
   "metadata": {},
   "source": [
    "## Linregress "
   ]
  },
  {
   "cell_type": "code",
   "execution_count": 38,
   "id": "69e8067d",
   "metadata": {},
   "outputs": [
    {
     "name": "stdout",
     "output_type": "stream",
     "text": [
      "Index([0, 0, 0, 3, 3, 3, 6, 6, 6, 9, 9, 9, 12, 12, 12, 16, 16, 16], dtype='int64')\n"
     ]
    },
    {
     "data": {
      "text/html": [
       "<div>\n",
       "<style scoped>\n",
       "    .dataframe tbody tr th:only-of-type {\n",
       "        vertical-align: middle;\n",
       "    }\n",
       "\n",
       "    .dataframe tbody tr th {\n",
       "        vertical-align: top;\n",
       "    }\n",
       "\n",
       "    .dataframe thead th {\n",
       "        text-align: right;\n",
       "    }\n",
       "</style>\n",
       "<table border=\"1\" class=\"dataframe\">\n",
       "  <thead>\n",
       "    <tr style=\"text-align: right;\">\n",
       "      <th></th>\n",
       "      <th>slope</th>\n",
       "      <th>rvalue</th>\n",
       "      <th>pvalue</th>\n",
       "    </tr>\n",
       "    <tr>\n",
       "      <th>Gene</th>\n",
       "      <th></th>\n",
       "      <th></th>\n",
       "      <th></th>\n",
       "    </tr>\n",
       "  </thead>\n",
       "  <tbody>\n",
       "    <tr>\n",
       "      <th>DIS3</th>\n",
       "      <td>1.224167</td>\n",
       "      <td>0.793442</td>\n",
       "      <td>0.000085</td>\n",
       "    </tr>\n",
       "    <tr>\n",
       "      <th>LARP1</th>\n",
       "      <td>-0.711667</td>\n",
       "      <td>-0.778966</td>\n",
       "      <td>0.000139</td>\n",
       "    </tr>\n",
       "    <tr>\n",
       "      <th>ACTB</th>\n",
       "      <td>-0.336410</td>\n",
       "      <td>-0.386037</td>\n",
       "      <td>0.113583</td>\n",
       "    </tr>\n",
       "    <tr>\n",
       "      <th>PSMA2</th>\n",
       "      <td>-0.592244</td>\n",
       "      <td>-0.580626</td>\n",
       "      <td>0.011519</td>\n",
       "    </tr>\n",
       "    <tr>\n",
       "      <th>PRRC1</th>\n",
       "      <td>-0.672885</td>\n",
       "      <td>-0.425001</td>\n",
       "      <td>0.078723</td>\n",
       "    </tr>\n",
       "  </tbody>\n",
       "</table>\n",
       "</div>"
      ],
      "text/plain": [
       "          slope    rvalue    pvalue\n",
       "Gene                               \n",
       "DIS3   1.224167  0.793442  0.000085\n",
       "LARP1 -0.711667 -0.778966  0.000139\n",
       "ACTB  -0.336410 -0.386037  0.113583\n",
       "PSMA2 -0.592244 -0.580626  0.011519\n",
       "PRRC1 -0.672885 -0.425001  0.078723"
      ]
     },
     "execution_count": 38,
     "metadata": {},
     "output_type": "execute_result"
    }
   ],
   "source": [
    "# Regression is about time. So, exclude 37°C to keep 32°C and the time points \n",
    "df_linregress = df.copy()\n",
    "\n",
    "##Change df name as numeric to run linregress - 3,3,3 because of triplicate of 3 hours.\n",
    "df_linregress.columns = [0, 0, 0, 3, 3, 3, 6, 6, 6, 9, 9, 9, 12, 12, 12, 16, 16, 16]\n",
    "print(df_linregress.columns)\n",
    "\n",
    "## LinRegress Slope (output: slope, intercept, rvalue, pvalue)\n",
    "df_linregress = df_linregress.assign(slope = (df_linregress.apply(lambda row: linregress(row.index, row.values).slope, axis=1)),\n",
    "                                     rvalue = (df_linregress.apply(lambda row: linregress(row.index, row.values).rvalue, axis=1)),\n",
    "                                     pvalue = (df_linregress.apply(lambda row: linregress(row.index, row.values).pvalue, axis=1)))\n",
    "\n",
    "# Only select linregress values\n",
    "df_linregress = df_linregress.iloc[:,-3:]\n",
    "df_linregress.head(5)"
   ]
  },
  {
   "cell_type": "markdown",
   "id": "39d26250",
   "metadata": {},
   "source": [
    "### Selection of the Significant Linregress proteins"
   ]
  },
  {
   "cell_type": "code",
   "execution_count": 45,
   "id": "0bc02635",
   "metadata": {},
   "outputs": [
    {
     "name": "stdout",
     "output_type": "stream",
     "text": [
      "on the 2405 proteins, 448 have significant linregress (non adjusted)\n",
      "\n",
      "on the 2405 proteins, 11 have adjusted significant linregress:\n",
      "[0, 1, 5, 11, 12, 13, 25, 36, 54, 60, 70]\n"
     ]
    }
   ],
   "source": [
    "# adjusted p_value \n",
    "sign_answer, adj_pvalue, c , d  = multipletests(df_linregress['pvalue'], alpha = 0.05, method='fdr_bh')\n",
    "df_linregress['adj_pvalue'] = adj_pvalue\n",
    "\n",
    "# Select the proteins with significant Linregress nonAdj pavlue\n",
    "signif_nonAjd_linregress_proteins = list(df_linregress[df_linregress['pvalue'] < 0.05].index)\n",
    "print(f'on the {len(df_linregress)} proteins, {len(signif_nonAjd_linregress_proteins)} have significant linregress (non adjusted)')\n",
    "\n",
    "# Select the proteins with significant Linregress Adjusted pvalue\n",
    "adjPvalue_signif_linregress_proteins = list(df_linregress[df_linregress['adj_pvalue'] < 0.05].index)\n",
    "print(f'\\non the {len(df_linregress)} proteins, {len(adjPvalue_signif_linregress_proteins)} have adjusted significant linregress:')\n",
    "\n",
    "print(adjPvalue_signif_linregress_proteins)"
   ]
  },
  {
   "cell_type": "markdown",
   "id": "ec51b78f",
   "metadata": {},
   "source": [
    "### Selection of the Significant Linregress proteins with Rvalue > 0.6 (abs)"
   ]
  },
  {
   "cell_type": "code",
   "execution_count": 40,
   "id": "704e06f8",
   "metadata": {},
   "outputs": [
    {
     "name": "stdout",
     "output_type": "stream",
     "text": [
      "        Interval  Count\n",
      "0   -1.0 to -0.9      0\n",
      "1   -0.9 to -0.8      0\n",
      "2   -0.8 to -0.7      7\n",
      "3   -0.7 to -0.6     25\n",
      "4   -0.6 to -0.5     64\n",
      "5   -0.5 to -0.4     30\n",
      "6   -0.4 to -0.3      0\n",
      "7   -0.3 to -0.2      0\n",
      "8   -0.2 to -0.1      0\n",
      "9   -0.1 to -0.0      0\n",
      "10   -0.0 to 0.1      0\n",
      "11    0.1 to 0.2      0\n",
      "12    0.2 to 0.3      0\n",
      "13    0.3 to 0.4      0\n",
      "14    0.4 to 0.5     64\n",
      "15    0.5 to 0.6    161\n",
      "16    0.6 to 0.7     72\n",
      "17    0.7 to 0.8     21\n",
      "18    0.8 to 0.9      4\n"
     ]
    }
   ],
   "source": [
    "# Deeper visualization of the Rvalue of all the significant linregress proteins\n",
    "values = df_linregress[df_linregress.index.isin(signif_nonAjd_linregress_proteins)].rvalue\n",
    "bin_edges = numpy.arange(-1, 1, 0.1) \n",
    "hist, edges = numpy.histogram(values, bins=bin_edges)\n",
    "\n",
    "## Create a DataFrame for better visualization\n",
    "bin_intervals = [f\"{edges[i].round(1)} to {edges[i+1].round(1)}\" for i in range(len(edges)-1)]\n",
    "count_df = pandas.DataFrame({'Interval': bin_intervals, 'Count': hist})\n",
    "print(count_df)"
   ]
  },
  {
   "cell_type": "code",
   "execution_count": 41,
   "id": "8389c7de",
   "metadata": {},
   "outputs": [
    {
     "data": {
      "text/plain": [
       "129"
      ]
     },
     "execution_count": 41,
     "metadata": {},
     "output_type": "execute_result"
    }
   ],
   "source": [
    "high_Rval_prot = df_linregress[(df_linregress['rvalue']< -0.6) |(df_linregress['rvalue'] > 0.6) ].index\n",
    "len(high_Rval_prot)"
   ]
  },
  {
   "cell_type": "code",
   "execution_count": 42,
   "id": "e30b187b",
   "metadata": {},
   "outputs": [],
   "source": [
    "# # Save the list of significant linregress proteins for Overlapping\n",
    "# numpy.savetxt(file_directory+\"3) output/Proteomics/signif_nonAjd_linregress_proteins.txt\", \n",
    "#               signif_nonAjd_linregress_proteins, delimiter=\"\\t\", fmt=\"% s\")\n",
    "\n",
    "# # Save the list of significant linregress proteins for Overlapping\n",
    "# numpy.savetxt(file_directory+\"3) output/Proteomics/adjPvalue_signif_linregress_proteins.txt\", \n",
    "#               adjPvalue_signif_linregress_proteins, delimiter=\"\\t\", fmt=\"% s\")\n",
    "\n",
    "# # Save the list of significant linregress proteins for Overlapping\n",
    "# numpy.savetxt(file_directory+\"3) output/Proteomics/high_Rval_prot_linregress_proteins.txt\", \n",
    "#               high_Rval_prot, delimiter=\"\\t\", fmt=\"% s\")"
   ]
  },
  {
   "cell_type": "markdown",
   "id": "60f1b4b4",
   "metadata": {},
   "source": [
    "# Methods"
   ]
  },
  {
   "cell_type": "markdown",
   "id": "92a54792",
   "metadata": {},
   "source": [
    "## Slope of all the proteins identified"
   ]
  },
  {
   "cell_type": "code",
   "execution_count": 46,
   "id": "d7712283",
   "metadata": {
    "scrolled": true
   },
   "outputs": [],
   "source": [
    "df_linregress.reset_index(inplace = True)\n",
    "\n",
    "#define the colors\n",
    "colors = ['blue' if x < -0.5 and -numpy.log10(y) > -numpy.log10(0.05)\n",
    "          else 'red' if x > 0.5 and -numpy.log10(y) > -numpy.log10(0.05)\n",
    "          else 'black' if x > -0.5 and x < 0.5\n",
    "          else 'grey' for x, y in zip(df_linregress['slope'], \n",
    "                                      df_linregress['adj_pvalue'])]\n",
    "\n",
    "blue_indices = [gene for gene, color in zip(df_linregress['Gene'], colors) if color == 'blue']\n",
    "red_indices = [gene for gene, color in zip(df_linregress['Gene'], colors) if color == 'red']\n",
    "grey_indices = [gene for gene, color in zip(df_linregress['Gene'], colors) if color == 'grey']\n",
    "\n",
    "blue_genes_n = len(set(blue_indices))\n",
    "red_genes_n = len(set(red_indices))\n",
    "grey_genes_n = len(set(grey_indices))"
   ]
  },
  {
   "cell_type": "code",
   "execution_count": 47,
   "id": "07a50fe0",
   "metadata": {},
   "outputs": [
    {
     "name": "stdout",
     "output_type": "stream",
     "text": [
      "2405 \n",
      "\n"
     ]
    },
    {
     "data": {
      "image/png": "[encoded data removed]",
      "text/plain": [
       "<Figure size 640x480 with 1 Axes>"
      ]
     },
     "metadata": {},
     "output_type": "display_data"
    }
   ],
   "source": [
    "# Plot all the protein from their slope value\n",
    "## Plot, after convertion  y to log10(pvalue)\n",
    "top_pvalue = df_linregress.sort_values(by='adj_pvalue', ascending=True).head(25)\n",
    "top_neg_slope = df_linregress.sort_values(by='slope', ascending=True).head(15)\n",
    "top_pos_slope = df_linregress.sort_values(by='slope', ascending=False).head(15)\n",
    "\n",
    "print(len(df_linregress), '\\n')\n",
    "plt.scatter(x=df_linregress['slope'], \n",
    "            y=df_linregress['adj_pvalue'].apply(lambda x:-numpy.log10(x)),\n",
    "            s=5,\n",
    "            c = colors)\n",
    "\n",
    "plt.xlabel(\"Slope\")\n",
    "plt.ylabel(\"adjp.value -log10\")\n",
    "\n",
    "# Annotate points on the plot with Symbol names\n",
    "for index, row in top_pvalue.iterrows():\n",
    "    plt.annotate(row['Gene'], (row['slope'], -numpy.log10(row['adj_pvalue'])),\n",
    "                fontsize = 10)\n",
    "    \n",
    "for index, row in top_neg_slope.iterrows():\n",
    "    plt.annotate(row['Gene'], (row['slope'], -numpy.log10(row['adj_pvalue'])),\n",
    "                fontsize = 10)\n",
    "    \n",
    "for index, row in top_pos_slope.iterrows():\n",
    "    plt.annotate(row['Gene'], (row['slope'], -numpy.log10(row['adj_pvalue'])),\n",
    "                fontsize = 10)\n",
    "    \n",
    "# pvalue <0.05\n",
    "plt.axhline(-numpy.log10(0.05),color=\"grey\",linestyle=\"--\")\n",
    "plt.axvline(-0.5,color=\"grey\",linestyle=\"--\")\n",
    "plt.axvline(0.5,color=\"grey\",linestyle=\"--\")\n",
    "\n",
    "# title_file = 'volcano_proteomic_slope'\n",
    "plt.savefig(file_directory+'3) output/Proteomics/'+'volcano_slope_proteomics_adjpval'+'.svg')"
   ]
  },
  {
   "cell_type": "code",
   "execution_count": 48,
   "id": "7852e0a8",
   "metadata": {},
   "outputs": [],
   "source": [
    "#define the colors\n",
    "colors = ['blue' if x < -0.6 and -numpy.log10(y) > -numpy.log10(0.05)\n",
    "          else 'red' if x > 0.6 and -numpy.log10(y) > -numpy.log10(0.05)\n",
    "          else 'black' if x > -0.6 and x < 0.6\n",
    "          else 'grey' for x, y in zip(df_linregress['rvalue'], \n",
    "                                      df_linregress['adj_pvalue'])]\n",
    "\n",
    "blue_indices = [gene for gene, color in zip(df_linregress['Gene'], colors) if color == 'blue']\n",
    "red_indices = [gene for gene, color in zip(df_linregress['Gene'], colors) if color == 'red']\n",
    "grey_indices = [gene for gene, color in zip(df_linregress['Gene'], colors) if color == 'grey']\n",
    "\n",
    "blue_genes_n = len(set(blue_indices))\n",
    "red_genes_n = len(set(red_indices))\n",
    "grey_genes_n = len(set(grey_indices))"
   ]
  },
  {
   "cell_type": "code",
   "execution_count": 49,
   "id": "a702ac75",
   "metadata": {
    "scrolled": false
   },
   "outputs": [
    {
     "name": "stdout",
     "output_type": "stream",
     "text": [
      "129\n"
     ]
    },
    {
     "data": {
      "text/plain": [
       "<matplotlib.lines.Line2D at 0x254c58ade10>"
      ]
     },
     "execution_count": 49,
     "metadata": {},
     "output_type": "execute_result"
    },
    {
     "data": {
      "image/png": "[encoded data removed]",
      "text/plain": [
       "<Figure size 640x480 with 1 Axes>"
      ]
     },
     "metadata": {},
     "output_type": "display_data"
    }
   ],
   "source": [
    "# Plot all the protein from their slope value\n",
    "## Plot, after convertion  y to log10(pvalue)\n",
    "df_linregress_high_Rval = df_linregress[df_linregress['Gene'].isin(high_Rval_prot)]\n",
    "print(len(df_linregress_high_Rval))\n",
    "\n",
    "top_neg_slope = df_linregress_high_Rval.sort_values(by='rvalue', ascending=True).head(15)\n",
    "top_pos_slope = df_linregress_high_Rval.sort_values(by='rvalue', ascending=False).head(15)\n",
    "\n",
    "\n",
    "plt.scatter(x=df_linregress['rvalue'], \n",
    "            y=df_linregress['adj_pvalue'].apply(lambda x:-numpy.log10(x)),s=5,\n",
    "            c= colors)\n",
    "\n",
    "plt.xlabel(\"rvalue\")\n",
    "plt.ylabel(\"adjp.value -log10\")\n",
    "\n",
    "# Annotate points on the plot with Symbol names\n",
    "for index, row in top_neg_slope.iterrows():\n",
    "    plt.annotate(row['Gene'], (row['rvalue'], -numpy.log10(row['adj_pvalue'])),\n",
    "                fontsize = 10)\n",
    "    \n",
    "for index, row in top_pos_slope.iterrows():\n",
    "    plt.annotate(row['Gene'], (row['rvalue'], -numpy.log10(row['adj_pvalue'])),\n",
    "                fontsize = 10)\n",
    "    \n",
    "# pvalue <0.05\n",
    "plt.axhline(-numpy.log10(0.05),color=\"grey\",linestyle=\"--\")\n",
    "plt.axvline(-0.6,color=\"grey\",linestyle=\"--\")\n",
    "plt.axvline(0.6,color=\"grey\",linestyle=\"--\")\n",
    "\n",
    "# plt.savefig(file_directory+'3) output/Proteomics/'+'volcano_high_rvalue_proteomics_adjpval'+'.svg')"
   ]
  },
  {
   "cell_type": "markdown",
   "id": "a9013182",
   "metadata": {},
   "source": [
    "## Check if our known targets are well affected at 32°C"
   ]
  },
  {
   "cell_type": "code",
   "execution_count": 50,
   "id": "5bd1ccf3",
   "metadata": {},
   "outputs": [
    {
     "data": {
      "text/html": [
       "<div>\n",
       "<style scoped>\n",
       "    .dataframe tbody tr th:only-of-type {\n",
       "        vertical-align: middle;\n",
       "    }\n",
       "\n",
       "    .dataframe tbody tr th {\n",
       "        vertical-align: top;\n",
       "    }\n",
       "\n",
       "    .dataframe thead th {\n",
       "        text-align: right;\n",
       "    }\n",
       "</style>\n",
       "<table border=\"1\" class=\"dataframe\">\n",
       "  <thead>\n",
       "    <tr style=\"text-align: right;\">\n",
       "      <th></th>\n",
       "      <th>Ctrl_BR1</th>\n",
       "      <th>Ctrl_BR2</th>\n",
       "      <th>Ctrl_BR3</th>\n",
       "      <th>3h_BR1</th>\n",
       "      <th>3h_BR2</th>\n",
       "      <th>3h_BR3</th>\n",
       "      <th>6h_BR1</th>\n",
       "      <th>6h_BR2</th>\n",
       "      <th>6h_BR3</th>\n",
       "      <th>9h_BR1</th>\n",
       "      <th>9h_BR2</th>\n",
       "      <th>9h_BR3</th>\n",
       "      <th>12h_BR1</th>\n",
       "      <th>12h_BR2</th>\n",
       "      <th>12h_BR3</th>\n",
       "      <th>16h_BR1</th>\n",
       "      <th>16h_BR2</th>\n",
       "      <th>16h_BR3</th>\n",
       "    </tr>\n",
       "    <tr>\n",
       "      <th>Gene</th>\n",
       "      <th></th>\n",
       "      <th></th>\n",
       "      <th></th>\n",
       "      <th></th>\n",
       "      <th></th>\n",
       "      <th></th>\n",
       "      <th></th>\n",
       "      <th></th>\n",
       "      <th></th>\n",
       "      <th></th>\n",
       "      <th></th>\n",
       "      <th></th>\n",
       "      <th></th>\n",
       "      <th></th>\n",
       "      <th></th>\n",
       "      <th></th>\n",
       "      <th></th>\n",
       "      <th></th>\n",
       "    </tr>\n",
       "  </thead>\n",
       "  <tbody>\n",
       "    <tr>\n",
       "      <th>CIRBP</th>\n",
       "      <td>79.2</td>\n",
       "      <td>101.4</td>\n",
       "      <td>88.4</td>\n",
       "      <td>78.7</td>\n",
       "      <td>92.5</td>\n",
       "      <td>96.6</td>\n",
       "      <td>86.9</td>\n",
       "      <td>84.4</td>\n",
       "      <td>94.5</td>\n",
       "      <td>96.3</td>\n",
       "      <td>95.7</td>\n",
       "      <td>113.2</td>\n",
       "      <td>126.1</td>\n",
       "      <td>113.9</td>\n",
       "      <td>98.2</td>\n",
       "      <td>114.9</td>\n",
       "      <td>121.1</td>\n",
       "      <td>117.9</td>\n",
       "    </tr>\n",
       "    <tr>\n",
       "      <th>RBM3</th>\n",
       "      <td>80.3</td>\n",
       "      <td>90.6</td>\n",
       "      <td>85.4</td>\n",
       "      <td>79.8</td>\n",
       "      <td>85.5</td>\n",
       "      <td>94.5</td>\n",
       "      <td>88.8</td>\n",
       "      <td>83.5</td>\n",
       "      <td>98.6</td>\n",
       "      <td>102.3</td>\n",
       "      <td>98.5</td>\n",
       "      <td>102.7</td>\n",
       "      <td>104.8</td>\n",
       "      <td>88.9</td>\n",
       "      <td>121.1</td>\n",
       "      <td>127.3</td>\n",
       "      <td>104.0</td>\n",
       "      <td>163.3</td>\n",
       "    </tr>\n",
       "    <tr>\n",
       "      <th>SMYD5</th>\n",
       "      <td>101.6</td>\n",
       "      <td>100.2</td>\n",
       "      <td>111.3</td>\n",
       "      <td>119.4</td>\n",
       "      <td>121.4</td>\n",
       "      <td>98.9</td>\n",
       "      <td>95.0</td>\n",
       "      <td>119.9</td>\n",
       "      <td>101.0</td>\n",
       "      <td>82.8</td>\n",
       "      <td>107.0</td>\n",
       "      <td>100.5</td>\n",
       "      <td>96.7</td>\n",
       "      <td>98.9</td>\n",
       "      <td>91.0</td>\n",
       "      <td>78.6</td>\n",
       "      <td>81.2</td>\n",
       "      <td>94.7</td>\n",
       "    </tr>\n",
       "  </tbody>\n",
       "</table>\n",
       "</div>"
      ],
      "text/plain": [
       "       Ctrl_BR1  Ctrl_BR2  Ctrl_BR3  3h_BR1  3h_BR2  3h_BR3  6h_BR1  6h_BR2  \\\n",
       "Gene                                                                          \n",
       "CIRBP      79.2     101.4      88.4    78.7    92.5    96.6    86.9    84.4   \n",
       "RBM3       80.3      90.6      85.4    79.8    85.5    94.5    88.8    83.5   \n",
       "SMYD5     101.6     100.2     111.3   119.4   121.4    98.9    95.0   119.9   \n",
       "\n",
       "       6h_BR3  9h_BR1  9h_BR2  9h_BR3  12h_BR1  12h_BR2  12h_BR3  16h_BR1  \\\n",
       "Gene                                                                        \n",
       "CIRBP    94.5    96.3    95.7   113.2    126.1    113.9     98.2    114.9   \n",
       "RBM3     98.6   102.3    98.5   102.7    104.8     88.9    121.1    127.3   \n",
       "SMYD5   101.0    82.8   107.0   100.5     96.7     98.9     91.0     78.6   \n",
       "\n",
       "       16h_BR2  16h_BR3  \n",
       "Gene                     \n",
       "CIRBP    121.1    117.9  \n",
       "RBM3     104.0    163.3  \n",
       "SMYD5     81.2     94.7  "
      ]
     },
     "execution_count": 50,
     "metadata": {},
     "output_type": "execute_result"
    }
   ],
   "source": [
    "# Select the targets and only select expression columns\n",
    "df_targets =  df[ (df.index == 'CIRBP') | (df.index == 'RBM3') | (df.index == 'SMYD5')]\n",
    "df_targets"
   ]
  },
  {
   "cell_type": "code",
   "execution_count": 51,
   "id": "467234bf",
   "metadata": {
    "scrolled": false
   },
   "outputs": [
    {
     "name": "stdout",
     "output_type": "stream",
     "text": [
      "    Gene conditions  value\n",
      "0  CIRBP       Ctrl   79.2\n",
      "1   RBM3       Ctrl   80.3\n",
      "2  SMYD5       Ctrl  101.6\n",
      "3  CIRBP       Ctrl  101.4\n",
      "4   RBM3       Ctrl   90.6, \n",
      "\n",
      "     index   Gene     slope    rvalue    pvalue  adj_pvalue\n",
      "54      54  CIRBP  2.051090  0.778714  0.000140    0.035609\n",
      "99      99   RBM3  2.746667  0.742683  0.000415    0.071257\n",
      "147    147  SMYD5 -1.466090 -0.647548  0.003667    0.118904\n"
     ]
    },
    {
     "name": "stderr",
     "output_type": "stream",
     "text": [
      "C:\\Users\\kja11\\anaconda3\\Lib\\site-packages\\seaborn\\_oldcore.py:1119: FutureWarning: use_inf_as_na option is deprecated and will be removed in a future version. Convert inf values to NaN before operating instead.\n",
      "  with pd.option_context('mode.use_inf_as_na', True):\n",
      "C:\\Users\\kja11\\anaconda3\\Lib\\site-packages\\seaborn\\_oldcore.py:1119: FutureWarning: use_inf_as_na option is deprecated and will be removed in a future version. Convert inf values to NaN before operating instead.\n",
      "  with pd.option_context('mode.use_inf_as_na', True):\n"
     ]
    },
    {
     "data": {
      "image/png": "[encoded data removed]",
      "text/plain": [
       "<Figure size 640x480 with 1 Axes>"
      ]
     },
     "metadata": {},
     "output_type": "display_data"
    },
    {
     "data": {
      "image/png": "[encoded data removed]",
      "text/plain": [
       "<Figure size 640x480 with 1 Axes>"
      ]
     },
     "metadata": {},
     "output_type": "display_data"
    },
    {
     "data": {
      "image/png": "[encoded data removed]",
      "text/plain": [
       "<Figure size 640x480 with 1 Axes>"
      ]
     },
     "metadata": {},
     "output_type": "display_data"
    },
    {
     "data": {
      "image/png": "[encoded data removed]",
      "text/plain": [
       "<Figure size 640x480 with 1 Axes>"
      ]
     },
     "metadata": {},
     "output_type": "display_data"
    }
   ],
   "source": [
    "# From Wide to Long table\n",
    "df_targets = df_targets.reset_index()\n",
    "df_targets = df_targets.melt(id_vars=[\"Gene\"], var_name=\"conditions\")\n",
    "\n",
    "## pull the technical triplicate\n",
    "df_targets['conditions'] = df_targets['conditions'].str.split('_').str[0]\n",
    "print(f'{df_targets.head()}, \\n')\n",
    "\n",
    "# Print linregess results for the targets\n",
    "print(df_linregress[(df_linregress['Gene'] == 'CIRBP')|(df_linregress['Gene'] == 'RBM3')\n",
    "                    |(df_linregress['Gene'] == 'SMYD5')])\n",
    "\n",
    "seaborn.lineplot(data = df_targets, x='conditions' , y='value', hue= \"Gene\",\n",
    "                err_style=\"bars\", errorbar=('se', 0.5))\n",
    "plt.ylabel(\"Protein abundance by TMT reporter ion intensity\")\n",
    "plt.xlabel(\"\")\n",
    "plt.show()\n",
    "plt.close()\n",
    "\n",
    "# Expression of the target proteins over time\n",
    "targets = ['CIRBP', 'RBM3', 'SMYD5']\n",
    "\n",
    "for target in targets:\n",
    "    df_plt = df_targets[df_targets['Gene'] == target]\n",
    "    seaborn.boxplot(df_plt, y = 'value', x = 'Gene', hue = 'conditions', \n",
    "                medianprops={'lw':2}, whiskerprops={'lw':2}, showcaps=True, showfliers=False)\n",
    "    \n",
    "    plt.ylabel(\"Protein abundance by TMT reporter ion intensity\")\n",
    "    plt.xlabel(\"\")\n",
    "    plt.show()\n",
    "    plt.close()"
   ]
  },
  {
   "cell_type": "markdown",
   "id": "3e18f6b8",
   "metadata": {},
   "source": [
    "## Overlap with RNAseq"
   ]
  },
  {
   "cell_type": "markdown",
   "id": "823ef82a",
   "metadata": {},
   "source": [
    "The overlapping targets are CHORDC1, NOC3L, CIRBP, SRSF5, RBM3 and HNRNPDL"
   ]
  },
  {
   "cell_type": "code",
   "execution_count": null,
   "id": "d88407d3",
   "metadata": {},
   "outputs": [],
   "source": [
    "# Select the overlapping targets and only select expression columns\n",
    "df_targets =  df[ (df.index == 'CIRBP') | (df.index == 'RBM3') | (df.index == 'SRSF5')\n",
    "                 | (df.index == 'HNRNPDL') | (df.index == 'CHORDC1') | (df.index == 'NOC3L')]\n",
    "\n",
    "df_targets"
   ]
  },
  {
   "cell_type": "code",
   "execution_count": null,
   "id": "b906856f",
   "metadata": {
    "scrolled": false
   },
   "outputs": [],
   "source": [
    "# Protein expression over time of the overlapped proteins.\n",
    "## From Wide to Long table\n",
    "df_targets = df_targets.reset_index()\n",
    "df_targets = df_targets.melt(id_vars=[\"Gene\"], var_name=\"conditions\")\n",
    "\n",
    "## pull the technical triplicate\n",
    "df_targets['conditions'] = df_targets['conditions'].str.split('_').str[0]\n",
    "print(f'{df_targets.head()}, \\n')\n",
    "\n",
    "## Print linregess results for the targets\n",
    "print(df_linregress[(df_linregress.index == 'CIRBP')|(df_linregress.index == 'RBM3')|(df_linregress.index == 'SMYD5')])\n",
    "\n",
    "\n",
    "## Expression of the target proteins over time\n",
    "# targets = ['CHORDC1', 'CIRBP', 'SRSF5', 'RBM3', 'HNRNPDL']\n",
    "targets = ['CHORDC1', 'SRSF5', 'HNRNPDL', 'NOC3L']\n",
    "\n",
    "for target in targets:\n",
    "    df_plt = df_targets[df_targets['Gene'] == target]\n",
    "    seaborn.boxplot(df_plt, y = 'value', x = 'Gene', hue = 'conditions', \n",
    "                medianprops={'lw':2}, whiskerprops={'lw':2}, showcaps=True, showfliers=False)\n",
    "    \n",
    "    plt.ylabel(\"Protein abundance by TMT reporter ion intensity\")\n",
    "    plt.xlabel(\"\")\n",
    "    plt.show()\n",
    "    plt.close()"
   ]
  },
  {
   "cell_type": "markdown",
   "id": "084bd92a",
   "metadata": {},
   "source": [
    "## Heatmap from expression"
   ]
  },
  {
   "cell_type": "markdown",
   "id": "6eb036d6",
   "metadata": {},
   "source": [
    "### Heatmap Linregress significant proteins only"
   ]
  },
  {
   "cell_type": "code",
   "execution_count": null,
   "id": "56280cea",
   "metadata": {},
   "outputs": [],
   "source": [
    "# Count number of cells in specific interval to select heatmap vmin/vmax\n",
    "values = df_zscore[df_zscore.index.isin(signif_nonAjd_linregress_proteins)].values.flatten()\n",
    "bin_edges = numpy.arange(-6, 8, 1) \n",
    "hist, edges = numpy.histogram(values, bins=bin_edges)\n",
    "\n",
    "## Create a DataFrame for better visualization\n",
    "bin_intervals = [f\"{edges[i]} to {edges[i+1]}\" for i in range(len(edges)-1)]\n",
    "count_df = pandas.DataFrame({'Interval': bin_intervals, 'Count': hist})\n",
    "# print(count_df.head(3), '\\n', count_df.tail(10))\n",
    "print(count_df)"
   ]
  },
  {
   "cell_type": "code",
   "execution_count": null,
   "id": "baa0238f",
   "metadata": {},
   "outputs": [],
   "source": [
    "# Same but with Linregress significant only\n",
    "## define the colors, one color per condition \n",
    "lut = dict(zip(df_zscore.columns.unique(),\n",
    "               seaborn.hls_palette(6) ))\n",
    "\n",
    "col_colors_conditions = df_zscore.columns.map(lut)\n",
    "\n",
    "## plot heatmap\n",
    "print('number of proteins:', len(df_zscore[df_zscore.index.isin(signif_nonAjd_linregress_proteins)]))\n",
    "\n",
    "seaborn.clustermap(df_zscore[df_zscore.index.isin(signif_nonAjd_linregress_proteins)], \n",
    "                   cmap='bwr', \n",
    "                   row_cluster=True, \n",
    "                   col_cluster=False, \n",
    "                   vmin=-6.5, vmax=6.5,\n",
    "                   col_colors = col_colors_conditions,\n",
    "                   cbar_kws={'label':'Protein abundance\\n by TMT reporter ion intensity\\n (z-score)'},\n",
    "                   xticklabels=False, yticklabels=False, \n",
    "                   method='complete', metric='cosine')"
   ]
  },
  {
   "cell_type": "markdown",
   "id": "d8870538",
   "metadata": {},
   "source": [
    "## Only adjusted pvalue"
   ]
  },
  {
   "cell_type": "code",
   "execution_count": null,
   "id": "3b05e3bd",
   "metadata": {},
   "outputs": [],
   "source": [
    "# Count number of cells in specific interval to select heatmap vmin/vmax\n",
    "df_sign_adjpav = df_zscore[df_zscore.index.isin(adjPvalue_signif_linregress_proteins)]\n",
    "print(len(df_sign_adjpav), df_sign_adjpav.min().min(), df_sign_adjpav.max().max(), '\\n')\n",
    "\n",
    "values = df_sign_adjpav.values.flatten()\n",
    "bin_edges = numpy.arange(-4, 5, 1) \n",
    "hist, edges = numpy.histogram(values, bins=bin_edges)\n",
    "\n",
    "## Create a DataFrame for better visualization\n",
    "bin_intervals = [f\"{edges[i]} to {edges[i+1]}\" for i in range(len(edges)-1)]\n",
    "count_df = pandas.DataFrame({'Interval': bin_intervals, 'Count': hist})\n",
    "print(count_df)"
   ]
  },
  {
   "cell_type": "code",
   "execution_count": null,
   "id": "60b31762",
   "metadata": {},
   "outputs": [],
   "source": [
    "# Heatmap of proteins expression \n",
    "## define the colors, one color per condition \n",
    "lut = dict(zip(df_sign_adjpav.columns.unique(),\n",
    "               seaborn.hls_palette(6) ))\n",
    "\n",
    "col_colors_conditions = df_sign_adjpav.columns.map(lut)\n",
    "\n",
    "## plot heatmap\n",
    "print('number of proteins:', len(df_sign_adjpav))\n",
    "seaborn.clustermap(df_sign_adjpav, \n",
    "                   cmap='bwr', \n",
    "                   row_cluster=True, \n",
    "                   col_cluster=False, \n",
    "                   vmin=-3.5, vmax=3.5,\n",
    "                   col_colors = col_colors_conditions,\n",
    "                   cbar_kws={'label':'Protein abundance\\n by TMT reporter ion intensity\\n (z-score)'},\n",
    "                   xticklabels=False, yticklabels=False, \n",
    "                   method='complete', metric='cosine')"
   ]
  },
  {
   "cell_type": "markdown",
   "id": "a62d7118",
   "metadata": {},
   "source": [
    "### Heatmap of proteins with rvalue > 0.6 (abs)"
   ]
  },
  {
   "cell_type": "code",
   "execution_count": 52,
   "id": "7b369671",
   "metadata": {},
   "outputs": [
    {
     "name": "stdout",
     "output_type": "stream",
     "text": [
      "129 -4.310420870711283 5.100283754499261 \n",
      "\n",
      "    Interval  Count\n",
      "0   -6 to -5      0\n",
      "1   -5 to -4      1\n",
      "2   -4 to -3      0\n",
      "3   -3 to -2      4\n",
      "4   -2 to -1     55\n",
      "5    -1 to 0    347\n",
      "6     0 to 1    311\n",
      "7     1 to 2     45\n",
      "8     2 to 3      7\n",
      "9     3 to 4      2\n",
      "10    4 to 5      1\n",
      "11    5 to 6      1\n"
     ]
    }
   ],
   "source": [
    "# Count number of cells in specific interval to select heatmap vmin/vmax\n",
    "df_high_Rval = df_zscore[df_zscore.index.isin(high_Rval_prot)]\n",
    "print(len(df_high_Rval), df_high_Rval.min().min(), df_high_Rval.max().max(), '\\n')\n",
    "\n",
    "values = df_high_Rval.values.flatten()\n",
    "bin_edges = numpy.arange(-6, 7, 1) \n",
    "hist, edges = numpy.histogram(values, bins=bin_edges)\n",
    "\n",
    "## Create a DataFrame for better visualization\n",
    "bin_intervals = [f\"{edges[i]} to {edges[i+1]}\" for i in range(len(edges)-1)]\n",
    "count_df = pandas.DataFrame({'Interval': bin_intervals, 'Count': hist})\n",
    "print(count_df)"
   ]
  },
  {
   "cell_type": "code",
   "execution_count": 53,
   "id": "af3f69b4",
   "metadata": {},
   "outputs": [
    {
     "name": "stdout",
     "output_type": "stream",
     "text": [
      "number of proteins: 129\n"
     ]
    },
    {
     "data": {
      "text/plain": [
       "<seaborn.matrix.ClusterGrid at 0x254c33f3850>"
      ]
     },
     "execution_count": 53,
     "metadata": {},
     "output_type": "execute_result"
    },
    {
     "data": {
      "image/png": "[encoded data removed]",
      "text/plain": [
       "<Figure size 1000x1000 with 5 Axes>"
      ]
     },
     "metadata": {},
     "output_type": "display_data"
    }
   ],
   "source": [
    "# Heatmap of proteins with rvalue > 0.6\n",
    "## define the colors, one color per condition \n",
    "lut = dict(zip(df_high_Rval.columns.unique(),\n",
    "               seaborn.hls_palette(6) ))\n",
    "\n",
    "col_colors_conditions = df_high_Rval.columns.map(lut)\n",
    "\n",
    "## plot heatmap\n",
    "print('number of proteins:', len(df_high_Rval))\n",
    "seaborn.clustermap(df_high_Rval, \n",
    "                   cmap='bwr', \n",
    "                   row_cluster=True, \n",
    "                   col_cluster=False, \n",
    "                   vmin=-6.5, vmax=6.5,\n",
    "                   col_colors = col_colors_conditions,\n",
    "                   cbar_kws={'label':'Protein abundance\\n by TMT reporter ion intensity\\n (z-score)'},\n",
    "                   xticklabels=False, yticklabels=False, \n",
    "                   method='complete', metric='cosine')"
   ]
  },
  {
   "cell_type": "code",
   "execution_count": null,
   "id": "8c94866c",
   "metadata": {},
   "outputs": [],
   "source": [
    "# Heatmap of proteins with rvalue > 0.6\n",
    "## define the colors, one color per condition \n",
    "lut = dict(zip(df_high_Rval.columns.unique(),\n",
    "               seaborn.hls_palette(6) ))\n",
    "\n",
    "col_colors_conditions = df_high_Rval.columns.map(lut)\n",
    "\n",
    "## plot heatmap\n",
    "print('number of proteins:', len(df_high_Rval))\n",
    "seaborn.clustermap(df_high_Rval, \n",
    "                   cmap='bwr', \n",
    "                   row_cluster=True, \n",
    "                   col_cluster=False, \n",
    "                   vmin=-6.5, vmax=6.5,\n",
    "                   col_colors = col_colors_conditions,\n",
    "                   cbar_kws={'label':'Protein abundance\\n by TMT reporter ion intensity\\n (z-score)'},\n",
    "                   xticklabels=False, yticklabels=False, \n",
    "                   method='complete', metric='cosine')"
   ]
  },
  {
   "cell_type": "code",
   "execution_count": null,
   "id": "f3da20ef",
   "metadata": {},
   "outputs": [],
   "source": [
    "# For more detail but not clustered\n",
    "# plt.subplots(figsize=(8, 30))\n",
    "# # plt.tight_layout()\n",
    "# seaborn.heatmap(df_high_Rval, annot=False, cmap=\"bwr\", \n",
    "#                 linewidths=0, center=0, vmin=-6.5, vmax=6.5,\n",
    "#                 cbar_kws={'label': 'Zscore \\n protein expression'})"
   ]
  },
  {
   "cell_type": "markdown",
   "id": "1020db90",
   "metadata": {},
   "source": [
    "## PCA"
   ]
  },
  {
   "cell_type": "code",
   "execution_count": null,
   "id": "02f698d9",
   "metadata": {},
   "outputs": [],
   "source": [
    "from sklearn.decomposition import PCA"
   ]
  },
  {
   "cell_type": "code",
   "execution_count": null,
   "id": "14f59129",
   "metadata": {},
   "outputs": [],
   "source": [
    "pca = PCA(n_components=2)\n",
    "principal_components = pca.fit_transform(df_zscore)\n",
    "\n",
    "df_pca = pandas.DataFrame(data=principal_components, columns=['PC1', 'PC2'], index=df_zscore.index)\n",
    "df_pca.head()"
   ]
  },
  {
   "cell_type": "code",
   "execution_count": null,
   "id": "10776db5",
   "metadata": {},
   "outputs": [],
   "source": [
    "pc1_mean = df_pca['PC1'].mean()\n",
    "pc1_std = df_pca['PC1'].std()\n",
    "pc2_mean = df_pca['PC2'].mean()\n",
    "pc2_std = df_pca['PC2'].std()\n",
    "\n",
    "# for standard deviation\n",
    "threshold = 3"
   ]
  },
  {
   "cell_type": "code",
   "execution_count": null,
   "id": "ac49e40e",
   "metadata": {
    "scrolled": false
   },
   "outputs": [],
   "source": [
    "# Plot the PCA results\n",
    "# plt.figure(figsize=(10, 7))\n",
    "plt.scatter(df_pca['PC1'], df_pca['PC2'])\n",
    "\n",
    "# Annotate points with gene names\n",
    "for gene in df_pca.index:\n",
    "    pc1_value = df_pca.loc[gene, 'PC1']\n",
    "    pc2_value = df_pca.loc[gene, 'PC2']\n",
    "    \n",
    "    # Label the outliers\n",
    "    if (abs(pc1_value - pc1_mean) > threshold * pc1_std) or (abs(pc2_value - pc2_mean) > threshold * pc2_std):\n",
    "        plt.annotate(gene, (df_pca.loc[gene, 'PC1'], df_pca.loc[gene, 'PC2']))\n",
    "    \n",
    "plt.xlabel('PC 1')\n",
    "plt.ylabel('PC 2')\n",
    "plt.title('PCA of Gene Expression Over Time')"
   ]
  },
  {
   "cell_type": "markdown",
   "id": "f47c5de7",
   "metadata": {},
   "source": [
    "# Cluster"
   ]
  },
  {
   "cell_type": "code",
   "execution_count": null,
   "id": "3e926db7",
   "metadata": {},
   "outputs": [],
   "source": [
    "import scipy.cluster.hierarchy as sch\n",
    "\n",
    "# Create the dendrogram to determine the optimal clusters\n",
    "dendrogram = sch.dendrogram(sch.linkage(df_zscore, method='ward'))\n",
    "plt.title('Dendrogram')\n",
    "plt.xlabel('Genes')\n",
    "plt.ylabel('Euclidean distances')\n",
    "plt.show()"
   ]
  },
  {
   "cell_type": "code",
   "execution_count": null,
   "id": "284b62cf",
   "metadata": {},
   "outputs": [],
   "source": [
    "# Fit hierarchical clustering with the chosen number of clusters\n",
    "from sklearn.cluster import AgglomerativeClustering\n",
    "\n",
    "optimal_clusters = 3\n",
    "hierarchical = AgglomerativeClustering(n_clusters=optimal_clusters, metric='euclidean', linkage='ward')\n",
    "df_zscore['Cluster'] = hierarchical.fit_predict(df_zscore)"
   ]
  },
  {
   "cell_type": "code",
   "execution_count": null,
   "id": "62535315",
   "metadata": {},
   "outputs": [],
   "source": [
    "# Plot the time series of each cluster\n",
    "cluster_col = df_zscore.pop('Cluster')\n",
    "for cluster in range(optimal_clusters):\n",
    "    cluster_data = df_zscore[cluster_col == cluster]\n",
    "    for gene in cluster_data.index:\n",
    "        plt.plot(df_zscore.columns, cluster_data.loc[gene], label=f'Gene {gene}')\n",
    "        \n",
    "    plt.title(f'Cluster {cluster}')\n",
    "    plt.xlabel('Time')\n",
    "    plt.ylabel('Protein Expression')\n",
    "    plt.legend('')\n",
    "    plt.show()"
   ]
  },
  {
   "cell_type": "markdown",
   "id": "2f78ccc1",
   "metadata": {},
   "source": [
    "# Test "
   ]
  },
  {
   "cell_type": "code",
   "execution_count": null,
   "id": "b7fd0699",
   "metadata": {},
   "outputs": [],
   "source": [
    "for gene in df_zscore.index:\n",
    "    plt.plot(df_zscore.columns, df_zscore.loc[gene], label=gene)"
   ]
  },
  {
   "cell_type": "code",
   "execution_count": null,
   "id": "c8b2dd80",
   "metadata": {},
   "outputs": [],
   "source": [
    "# coefficient of variation (CV) of gene expression across time points\n",
    "cv_expression = df_zscore.std(axis=1) / df_zscore.mean(axis=1)\n",
    "\n",
    "# Explore distribution of CV values\n",
    "plt.hist(cv_expression, bins=500)\n",
    "plt.xlabel('Coefficient of Variation (CV)')\n",
    "plt.ylabel('Frequency')\n",
    "plt.title('Distribution of CV Values')\n",
    "plt.xlim(-100,100)\n",
    "plt.show()\n"
   ]
  },
  {
   "cell_type": "code",
   "execution_count": null,
   "id": "fb5c6f4d",
   "metadata": {},
   "outputs": [],
   "source": [
    "threshold = np.percentile(cv_expression, 80)\n",
    "\n",
    "# Select genes with high coefficient of variation as potential candidates for transient expression\n",
    "transient_genes = cv_expression[cv_expression > threshold].index.tolist()"
   ]
  }
 ],
 "metadata": {
  "kernelspec": {
   "display_name": "Python 3 (ipykernel)",
   "language": "python",
   "name": "python3"
  },
  "language_info": {
   "codemirror_mode": {
    "name": "ipython",
    "version": 3
   },
   "file_extension": ".py",
   "mimetype": "text/x-python",
   "name": "python",
   "nbconvert_exporter": "python",
   "pygments_lexer": "ipython3",
   "version": "3.11.5"
  }
 },
 "nbformat": 4,
 "nbformat_minor": 5
}
