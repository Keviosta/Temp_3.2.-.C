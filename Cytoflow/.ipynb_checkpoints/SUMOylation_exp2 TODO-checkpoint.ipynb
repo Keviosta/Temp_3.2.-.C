{
 "cells": [
  {
   "cell_type": "code",
   "execution_count": null,
   "id": "83097173",
   "metadata": {
    "scrolled": true
   },
   "outputs": [],
   "source": [
    "import numpy, seaborn, pandas\n",
    "import scipy.stats as stats\n",
    "from scipy.stats import gaussian_kde\n",
    "import matplotlib, matplotlib.pyplot as plt\n",
    "\n",
    "import re #to search"
   ]
  },
  {
   "cell_type": "code",
   "execution_count": null,
   "id": "f160901c",
   "metadata": {},
   "outputs": [],
   "source": [
    "from IPython.core.display import display, HTML\n",
    "display(HTML(\"<style>.container { width: 90% !important; }</style>\"))"
   ]
  },
  {
   "cell_type": "code",
   "execution_count": null,
   "id": "1468893d",
   "metadata": {},
   "outputs": [],
   "source": [
    "file_directory = \"/Users/kja11/OneDrive - Menntaský (1)/Mild_Hypothermia_project/in_silico/Python/\"\n",
    "\n",
    "input_path = \"1) input/flow_cytometry/\"\n",
    "output_path = \"3) output/flow_cytometry/\""
   ]
  },
  {
   "cell_type": "markdown",
   "id": "b1cbe616",
   "metadata": {},
   "source": [
    "# Data Download and modification"
   ]
  },
  {
   "cell_type": "markdown",
   "id": "1c098b87",
   "metadata": {},
   "source": [
    "## Meta data"
   ]
  },
  {
   "cell_type": "code",
   "execution_count": null,
   "id": "38c6abf9",
   "metadata": {},
   "outputs": [],
   "source": [
    "# Meta data, important for sample_name\n",
    "df_meta = pandas.read_csv(file_directory + input_path + 'sumoylation_exp2_analyze_table.csv', sep = ',')\n",
    "\n",
    "# Interested in name and Mode (the most frequently occurring value)\n",
    "df_meta = df_meta.rename(columns = {'Unnamed: 0' : 'sample_name',\n",
    "                                    'HEK293/Single Cells | Geometric Mean (FL3-A :: mCherry-A)' : 'gMFI'})\n",
    "print(df_meta.shape, '\\n')\n",
    "df_meta.tail(5)"
   ]
  },
  {
   "cell_type": "code",
   "execution_count": null,
   "id": "64671f34",
   "metadata": {},
   "outputs": [],
   "source": [
    "# remove the last rows\n",
    "df_meta = df_meta[(df_meta['sample_name'] != 'Mean') & (df_meta['sample_name'] != 'SD')]\n",
    "df_meta.tail()"
   ]
  },
  {
   "cell_type": "code",
   "execution_count": null,
   "id": "365e6cc6",
   "metadata": {},
   "outputs": [],
   "source": [
    "# Have to rename the samples to have clear labelling  \n",
    "sample_name = df_meta.sample_name\n",
    "\n",
    "# select the three meta info\n",
    "df_meta['Temperature'] = sample_name.apply(lambda x: re.search(r'\\b(32|37)\\b', x).group()\n",
    "                                           if re.search(r'\\b(32|37)\\b', x) \n",
    "                                           else None)\n",
    "\n",
    "df_meta['mhi-target'] = sample_name.apply(lambda x: re.search(r'(rbm3|sp1|cirbp)', x, re.IGNORECASE).group().lower()\n",
    "                                           if re.search(r'(rbm3|sp1|cirbp)', x, re.IGNORECASE) \n",
    "                                           else None)\n",
    "\n",
    "df_meta['condition'] = sample_name.apply(lambda x: re.search(r'(Unstained|ctl|sumo1a|sumo1b|sumo2a|sumo2b)', x, re.IGNORECASE).group()\n",
    "                                          if re.search(r'(Unstained|ctl|sumo1a|sumo1b|sumo2a|sumo2b)', x, re.IGNORECASE) \n",
    "                                          else None)\n",
    "df_meta"
   ]
  },
  {
   "cell_type": "code",
   "execution_count": null,
   "id": "25ff6fb2",
   "metadata": {},
   "outputs": [],
   "source": [
    "# to not have None and create a clean label\n",
    "df_meta.loc[df_meta['condition'] == 'Unstained', ['mhi-target', 'Temperature']] = ['HEK293', 'control']\n",
    "\n",
    "label_serie = df_meta[['mhi-target', 'condition', 'Temperature']].agg('_'.join, axis=1)\n",
    "df_meta.insert(0, \"label\", label_serie)\n",
    "df_meta.head()"
   ]
  },
  {
   "cell_type": "code",
   "execution_count": null,
   "id": "27d0c156",
   "metadata": {},
   "outputs": [],
   "source": [
    "# Calculate Geometric mean fluorescence ratio\n",
    "gMFI_control = df_meta[df_meta.label == 'HEK293_Unstained_control']['gMFI'].iloc[0]\n",
    "df_meta = df_meta.assign(gMFI_ratio = (df_meta.gMFI/gMFI_control))\n",
    "\n",
    "# Add SampleID to merge with the flow data\n",
    "df_meta['SampleID'] = ''\n",
    "df_meta['SampleID'] = range(1, len(df_meta) + 1)\n",
    "df_meta = df_meta[['label','SampleID', 'gMFI_ratio']]\n",
    "df_meta.head()"
   ]
  },
  {
   "cell_type": "markdown",
   "id": "8b2e3348",
   "metadata": {},
   "source": [
    "## Flow data"
   ]
  },
  {
   "cell_type": "code",
   "execution_count": null,
   "id": "597c44d4",
   "metadata": {},
   "outputs": [],
   "source": [
    "#data Flow Cytometry\n",
    "df = pandas.read_csv(file_directory + input_path + 'concatsimple_1.csv', sep = ',')\n",
    "\n",
    "print(df.shape, '\\n')\n",
    "df"
   ]
  },
  {
   "cell_type": "code",
   "execution_count": null,
   "id": "8830699d",
   "metadata": {},
   "outputs": [],
   "source": [
    "print(f'Amount of SampleID: {df.SampleID.max()-1}')\n",
    "print(f'Amount of meta-info label: {len(df_meta.label.unique())}')"
   ]
  },
  {
   "cell_type": "markdown",
   "id": "49350814",
   "metadata": {},
   "source": [
    "## Merge"
   ]
  },
  {
   "cell_type": "code",
   "execution_count": null,
   "id": "2272176d",
   "metadata": {},
   "outputs": [],
   "source": [
    "# merge \n",
    "df = df_meta.merge(df)\n",
    "df = df.drop(['SampleID', 'TIME', 'gMFI_ratio'], axis=1)\n",
    "df"
   ]
  },
  {
   "cell_type": "code",
   "execution_count": null,
   "id": "56cbd261",
   "metadata": {},
   "outputs": [],
   "source": [
    "df.label.unique()"
   ]
  },
  {
   "cell_type": "markdown",
   "id": "1c0a5c2f",
   "metadata": {},
   "source": [
    "# Graphics"
   ]
  },
  {
   "cell_type": "code",
   "execution_count": null,
   "id": "293720c8",
   "metadata": {},
   "outputs": [],
   "source": [
    "# Define a function to process data and calculate KDE\n",
    "def process_and_plot(sample_data, color, label):\n",
    "    data = sample_data['mCherry-A'].apply(numpy.log10)\n",
    "    data = data[numpy.isfinite(data)] #not have infinte or nan\n",
    "    \n",
    "    # perform Kernel Density Estimation\n",
    "    kde = gaussian_kde(data)\n",
    "    x = numpy.linspace(min(data), max(data), 1000)\n",
    "    y = kde(x)\n",
    "    \n",
    "    # normalize to have y from 0 to 100\n",
    "    peak_y = numpy.max(y)\n",
    "    normalized_y = (y / peak_y) * 100\n",
    "    \n",
    "    # find Mode\n",
    "    mode_index = numpy.argmax(y)\n",
    "    mode_value = x[mode_index]\n",
    "\n",
    "    # Plot \n",
    "    plt.plot(x, normalized_y, color=color, alpha=0.7, label=f'{label}; {MHI.upper()}-MHI si{condition.upper()}' if label.startswith('3') else f'{label}')\n",
    "    plt.fill_between(x, normalized_y, color=color, alpha=0.3) # fill the curve\n",
    "    plt.axvline(mode_value, color=color, linestyle='--') # add vertical line \n",
    "    \n",
    "    return mode_value # return to see if one sample is missing "
   ]
  },
  {
   "cell_type": "code",
   "execution_count": null,
   "id": "d5cbf5fd",
   "metadata": {
    "scrolled": false
   },
   "outputs": [],
   "source": [
    "# Define parameters\n",
    "unstained_control = 'HEK293_Unstained_control'\n",
    "temperatures = [32, 37]\n",
    "MHIs = ['rbm3', 'sp1', 'cirbp']\n",
    "conditions = ['ctl', 'sumo1a', 'sumo1b', 'sumo2a', 'sumo2b']\n",
    "\n",
    "# Loop over MHIs and conditions\n",
    "missing_samples_l = []\n",
    "\n",
    "for MHI in MHIs:\n",
    "    for condition in conditions:\n",
    "        fig = plt.figure(figsize=(10, 6))\n",
    "\n",
    "        # Plot the Unstained control\n",
    "        sample_control = df[df['label'] == unstained_control]\n",
    "        process_and_plot(sample_control, 'gray', 'Unstained Control')\n",
    "        \n",
    "        mode_32 = None\n",
    "        mode_37 = None\n",
    "        missing_sample = False\n",
    "        \n",
    "        for temp, color in zip(temperatures, ['blue', 'red']):\n",
    "            label = f'{MHI}_{condition}_{temp}'\n",
    "            sample = df[df['label'] == label]\n",
    "            \n",
    "            # if one sample is missing, stop\n",
    "            if sample.empty:\n",
    "                missing_samples_l.append(label)\n",
    "                missing_sample = True\n",
    "                break \n",
    "            \n",
    "            # save mode value to calculate % later\n",
    "            mode_value = process_and_plot(sample, color, f'{temp}°C')\n",
    "            if temp == 32:\n",
    "                mode_32 = mode_value\n",
    "            elif temp == 37:\n",
    "                mode_37 = mode_value\n",
    "                \n",
    "        # Close the plot if any sample is missing        \n",
    "        if missing_sample:\n",
    "            plt.close(fig)  \n",
    "            continue\n",
    "                \n",
    "        # Calculate and annotate percentage change if both modes are available\n",
    "        if mode_32 is not None and mode_37 is not None:\n",
    "            percent_change = ((mode_32 - mode_37) / mode_37) * 100\n",
    "            plt.text(mode_32 + 0.1, 100, f'{percent_change:+.2f}%', color='blue', fontsize=10)\n",
    "\n",
    "        # Add labels and legend\n",
    "        plt.xlabel('Log10(mCherry-A Intensity)')\n",
    "        plt.ylabel('Normalized Density')\n",
    "        plt.title(f'KDE Plot for {MHI.upper()}-MHI si{condition.upper()}')\n",
    "        plt.legend(loc='upper left')\n",
    "\n",
    "        # Save the graph\n",
    "        filename = f'{MHI}_{condition}_KDE_plot.png'\n",
    "#         plt.savefig(filename)\n",
    "        plt.show()\n",
    "        plt.close(fig)\n",
    "\n",
    "#print missing samples   \n",
    "missing_samples_l"
   ]
  }
 ],
 "metadata": {
  "kernelspec": {
   "display_name": "Python 3 (ipykernel)",
   "language": "python",
   "name": "python3"
  },
  "language_info": {
   "codemirror_mode": {
    "name": "ipython",
    "version": 3
   },
   "file_extension": ".py",
   "mimetype": "text/x-python",
   "name": "python",
   "nbconvert_exporter": "python",
   "pygments_lexer": "ipython3",
   "version": "3.11.5"
  }
 },
 "nbformat": 4,
 "nbformat_minor": 5
}
