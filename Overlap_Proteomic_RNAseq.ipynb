{
 "cells": [
  {
   "cell_type": "code",
   "execution_count": 3,
   "id": "047ac771",
   "metadata": {},
   "outputs": [],
   "source": [
    "import pandas, numpy"
   ]
  },
  {
   "cell_type": "code",
   "execution_count": 4,
   "id": "2b543bcc",
   "metadata": {},
   "outputs": [],
   "source": [
    "file_directory = \"/Users/kja11/OneDrive - Menntaský/PostDoc_Hypothermia/in_silico/Python/\""
   ]
  },
  {
   "cell_type": "code",
   "execution_count": 11,
   "id": "0b380046",
   "metadata": {},
   "outputs": [],
   "source": [
    "proteomics_path = file_directory+'3) output/Proteomics/signif_linregress_proteins.txt'\n",
    "RNAseq_path = file_directory+'3) output/RNAseq/allsignif_genes_HEK293.txt'"
   ]
  },
  {
   "cell_type": "code",
   "execution_count": 16,
   "id": "e0c239db",
   "metadata": {},
   "outputs": [],
   "source": [
    "with open(proteomics_path) as f:\n",
    "    proteomics = f.read().splitlines()\n",
    "\n",
    "with open(RNAseq_path) as f:\n",
    "    RNAseq = f.read().splitlines()"
   ]
  },
  {
   "cell_type": "code",
   "execution_count": 17,
   "id": "06eb213f",
   "metadata": {},
   "outputs": [
    {
     "name": "stdout",
     "output_type": "stream",
     "text": [
      "['CHORDC1', 'CIRBP', 'SRSF5', 'RBM3', 'HNRNPDL']\n"
     ]
    }
   ],
   "source": [
    "# Convert lists to sets and find the intersection\n",
    "common_elements = set(proteomics).intersection(RNAseq)\n",
    "\n",
    "# Convert the result back to a list if needed\n",
    "common_elements = list(common_elements)\n",
    "\n",
    "print(common_elements)"
   ]
  }
 ],
 "metadata": {
  "kernelspec": {
   "display_name": "Python 3 (ipykernel)",
   "language": "python",
   "name": "python3"
  },
  "language_info": {
   "codemirror_mode": {
    "name": "ipython",
    "version": 3
   },
   "file_extension": ".py",
   "mimetype": "text/x-python",
   "name": "python",
   "nbconvert_exporter": "python",
   "pygments_lexer": "ipython3",
   "version": "3.11.5"
  }
 },
 "nbformat": 4,
 "nbformat_minor": 5
}
