{
 "cells": [
  {
   "cell_type": "code",
   "execution_count": 7,
   "id": "047ac771",
   "metadata": {},
   "outputs": [],
   "source": [
    "import pandas, numpy"
   ]
  },
  {
   "cell_type": "code",
   "execution_count": 8,
   "id": "2b543bcc",
   "metadata": {},
   "outputs": [],
   "source": [
    "file_directory = \"/Users/kja11/OneDrive - Menntaský/PostDoc_Hypothermia/in_silico/Python/\""
   ]
  },
  {
   "cell_type": "markdown",
   "id": "11641b7a",
   "metadata": {},
   "source": [
    "# Define Paths"
   ]
  },
  {
   "cell_type": "code",
   "execution_count": 9,
   "id": "bc9b487e",
   "metadata": {},
   "outputs": [],
   "source": [
    "# proteomic data\n",
    "proteomics_path = file_directory+'3) output/Proteomics/'\n",
    "\n",
    "# RNAseq data\n",
    "RNAseq_path = file_directory+'3) output/RNAseq/'\n",
    "RNAseq_path2 = file_directory+'1) input/RNAseq/'\n",
    "\n",
    "# GeCKO data\n",
    "GeCKO_path = file_directory+'1) input/GeCKO/'"
   ]
  },
  {
   "cell_type": "markdown",
   "id": "e0ca9247",
   "metadata": {},
   "source": [
    "# Open the files"
   ]
  },
  {
   "cell_type": "code",
   "execution_count": 18,
   "id": "e0c239db",
   "metadata": {},
   "outputs": [
    {
     "name": "stdout",
     "output_type": "stream",
     "text": [
      "Early_res_CoeffVar_proteins: 179\n",
      "proteomics_pval: 532\n",
      "proteomics_adjpval: 22\n",
      "proteomics_high_rval: 302\n",
      "RNAseq_HEK293: 139\n"
     ]
    }
   ],
   "source": [
    "#open .txt\n",
    "with open(proteomics_path+'signif_linregress_proteins.txt') as f:\n",
    "    proteomics_pval = f.read().splitlines()\n",
    "\n",
    "with open(proteomics_path+'adjPvalue_linregress_proteins.txt') as f:\n",
    "    proteomics_adjpval = f.read().splitlines() \n",
    "    \n",
    "with open(proteomics_path+'high_Rvalue_linregress_proteins.txt') as f:\n",
    "    proteomics_high_rval = f.read().splitlines() \n",
    "    \n",
    "with open(RNAseq_path+'allsignif_genes_HEK293.txt') as f:\n",
    "    RNAseq_HEK293 = f.read().splitlines()\n",
    "    \n",
    "with open(proteomics_path+'Early_res_CoeffVar_proteins.txt') as f:\n",
    "    Early_res_CoeffVar_proteins = f.read().splitlines()\n",
    "    \n",
    "print(\"Early_res_CoeffVar_proteins:\", len(Early_res_CoeffVar_proteins))\n",
    "print(\"proteomics_pval:\", len(proteomics_pval))\n",
    "print(\"proteomics_adjpval:\", len(proteomics_adjpval))\n",
    "print(\"proteomics_high_rval:\", len(proteomics_high_rval))\n",
    "print(\"RNAseq_HEK293:\", len(RNAseq_HEK293))"
   ]
  },
  {
   "cell_type": "code",
   "execution_count": 19,
   "id": "0673f472",
   "metadata": {},
   "outputs": [
    {
     "name": "stdout",
     "output_type": "stream",
     "text": [
      "GeCKO SP1 repressors: 495 \n",
      "GeCKO SP1 activators: 61\n",
      "GeCKO RMB3 repressor: 621 \n",
      "\n",
      "RNAseq_cortex_down: 2446 \n",
      "RNAseq_cortex_up: 2399\n",
      "RNAseq_hippoc_down: 1726 \n",
      "RNAseq_hippoc_up: 1990\n"
     ]
    }
   ],
   "source": [
    "# Open the .csv file\n",
    "# GeCKO screens data\n",
    "GeCKO_sp1rep = pandas.read_csv(GeCKO_path+'GeCKO_SP1_repressors.csv', sep = ',')['Gene Symbol']\n",
    "GeCKO_sp1activ = pandas.read_csv(GeCKO_path+'GeCKO_SP1_activators.csv', sep = ',')['Gene Symbol']\n",
    "print(\"GeCKO SP1 repressors:\", len(GeCKO_sp1rep), \"\\nGeCKO SP1 activators:\", len(GeCKO_sp1activ))\n",
    "\n",
    "GeCKO_rmb3rep = pandas.read_csv(GeCKO_path+'GeCKO_RBM3_repressors.csv', sep = ',')['Gene Symbol']\n",
    "print(\"GeCKO RMB3 repressor:\", len(GeCKO_rmb3rep), '\\n')\n",
    "\n",
    "# RNAseq Mice\n",
    "## Cortex\n",
    "RNAseq_cortex_down = pandas.read_csv(RNAseq_path2+'DESeq_in_vivo_cortex_temp_downregulated.csv', sep = ',')['gene']\n",
    "RNAseq_cortex_up = pandas.read_csv(RNAseq_path2+'DESeq_in_vivo_cortex_temp_upregulated.csv', sep = ',')['gene']\n",
    "print(\"RNAseq_cortex_down:\", len(RNAseq_cortex_down), \"\\nRNAseq_cortex_up:\", len(RNAseq_cortex_up))\n",
    "\n",
    "## Hippocampus\n",
    "RNAseq_hippoc_down = pandas.read_csv(RNAseq_path2+'DESeq_in_vivo_hippocampus_temp_downregulated.csv', sep = ',')['gene']\n",
    "RNAseq_hippoc_up = pandas.read_csv(RNAseq_path2+'DESeq_in_vivo_hippocampus_temp_upregulated.csv', sep = ',')['gene']\n",
    "print(\"RNAseq_hippoc_down:\", len(RNAseq_hippoc_down), \"\\nRNAseq_hippoc_up:\", len(RNAseq_hippoc_up))"
   ]
  },
  {
   "cell_type": "markdown",
   "id": "17a4ab81",
   "metadata": {},
   "source": [
    "# Overlap"
   ]
  },
  {
   "cell_type": "code",
   "execution_count": 20,
   "id": "c875e508",
   "metadata": {},
   "outputs": [
    {
     "name": "stdout",
     "output_type": "stream",
     "text": [
      "overlapping Proteomic and GeCKO screens:\n",
      "\n",
      "8 overlap Proteomic-HEK293 rvalue >0.6 (abs) and the GeCKO_sp1rep:\n",
      " ['DCTN3', 'RPL13', 'SMYD5', 'RBM8A', 'MATR3', 'RPS8', 'NOC3L', 'ARFGAP1'] \n",
      "\n",
      "1 overlap Proteomic-HEK293 rvalue >0.6 (abs) and the GeCKO_sp1activ:\n",
      " ['HNRNPDL'] \n",
      "\n",
      "10 overlap Proteomic-HEK293 rvalue >0.6 (abs) and the GeCKO_rmb3rep:\n",
      " ['DDX39A', 'AGPS', 'RPS23', 'RPS6', 'PGRMC1', 'RPS11', 'HNRNPL', 'SEMG1', 'CALD1', 'RCN1'] \n",
      "\n",
      "2 overlap adjpvalue <0.05 Proteomic-HEK293 and the GeCKO_sp1rep:\n",
      " ['RBM8A', 'RPL13'] \n",
      "\n",
      "0 overlap adjpvalue <0.05 Proteomic-HEK293 and the GeCKO_sp1activ:\n",
      " [] \n",
      "\n",
      "2 overlap adjpvalue <0.05 Proteomic-HEK293 and the GeCKO_rmb3rep:\n",
      " ['AGPS', 'HNRNPL'] \n",
      "\n",
      "5 overlap early_response_proteomic-HEK293 and the GeCKO_sp1rep:\n",
      " ['DCTN3', 'SMYD5', 'DDA1', 'UBA5', 'ARID1A'] \n",
      "\n",
      "0 overlap early_response_proteomic-HEK293 and the GeCKO_sp1activ:\n",
      " [] \n",
      "\n",
      "5 overlap early_response_proteomic-HEK293 and the GeCKO_rmb3rep:\n",
      " ['SAP18', 'VPS45', 'NDUFA9', 'POLR3C', 'CALD1'] \n",
      "\n"
     ]
    }
   ],
   "source": [
    "# Convert lists to sets and find the intersection\n",
    "print('overlapping Proteomic and GeCKO screens:\\n')\n",
    "\n",
    "datas1 = [proteomics_high_rval, proteomics_adjpval, Early_res_CoeffVar_proteins]\n",
    "labels1 = ['Proteomic-HEK293 rvalue >0.6 (abs)', 'adjpvalue <0.05 Proteomic-HEK293',\n",
    "          'early_response_proteomic-HEK293'] \n",
    "\n",
    "datas2 = [GeCKO_sp1rep, GeCKO_sp1activ, GeCKO_rmb3rep]\n",
    "labels2 = ['GeCKO_sp1rep', 'GeCKO_sp1activ', 'GeCKO_rmb3rep']\n",
    "\n",
    "for i in range(len(datas1)):\n",
    "    data1 = datas1[i]\n",
    "    label1 = labels1[i]\n",
    "    \n",
    "    for y in range(len(datas2)):\n",
    "        data2 = datas2[y]\n",
    "        label2 = labels2[y]\n",
    "        \n",
    "        common_elements = set(data1).intersection(data2)\n",
    "        common_elements = list(common_elements)\n",
    "        print(len(common_elements), f\"overlap {label1} and the {label2}:\\n\", common_elements, \"\\n\")"
   ]
  },
  {
   "cell_type": "code",
   "execution_count": 13,
   "id": "1bc283ee",
   "metadata": {},
   "outputs": [
    {
     "name": "stdout",
     "output_type": "stream",
     "text": [
      "overlapping Proteomic and RNAseq:\n",
      "\n",
      "4 overlap Proteomic-HEK293 rvalue >0.6 (abs) and the RNAseq_HEK293:\n",
      " ['CIRBP', 'SRSF5', 'CHORDC1', 'RBM3'] \n",
      "\n",
      "0 overlap Proteomic-HEK293 rvalue >0.6 (abs) and the RNAseq_hippoc_down:\n",
      " [] \n",
      "\n",
      "0 overlap Proteomic-HEK293 rvalue >0.6 (abs) and the RNAseq_hippoc_up:\n",
      " [] \n",
      "\n",
      "0 overlap Proteomic-HEK293 rvalue >0.6 (abs) and the RNAseq_cortex_down:\n",
      " [] \n",
      "\n",
      "0 overlap Proteomic-HEK293 rvalue >0.6 (abs) and the RNAseq_cortex_up:\n",
      " [] \n",
      "\n",
      "2 overlap adjpvalue <0.05 Proteomic-HEK293 and the RNAseq_HEK293:\n",
      " ['CIRBP', 'SRSF5'] \n",
      "\n",
      "0 overlap adjpvalue <0.05 Proteomic-HEK293 and the RNAseq_hippoc_down:\n",
      " [] \n",
      "\n",
      "0 overlap adjpvalue <0.05 Proteomic-HEK293 and the RNAseq_hippoc_up:\n",
      " [] \n",
      "\n",
      "0 overlap adjpvalue <0.05 Proteomic-HEK293 and the RNAseq_cortex_down:\n",
      " [] \n",
      "\n",
      "0 overlap adjpvalue <0.05 Proteomic-HEK293 and the RNAseq_cortex_up:\n",
      " [] \n",
      "\n",
      "1 overlap early_response_proteomic-HEK293 and the RNAseq_HEK293:\n",
      " ['WDHD1'] \n",
      "\n",
      "0 overlap early_response_proteomic-HEK293 and the RNAseq_hippoc_down:\n",
      " [] \n",
      "\n",
      "0 overlap early_response_proteomic-HEK293 and the RNAseq_hippoc_up:\n",
      " [] \n",
      "\n",
      "0 overlap early_response_proteomic-HEK293 and the RNAseq_cortex_down:\n",
      " [] \n",
      "\n",
      "0 overlap early_response_proteomic-HEK293 and the RNAseq_cortex_up:\n",
      " [] \n",
      "\n"
     ]
    }
   ],
   "source": [
    "# Convert lists to sets and find the intersection\n",
    "print('overlapping Proteomic and RNAseq:\\n')\n",
    "\n",
    "datas1 = [proteomics_high_rval, proteomics_adjpval, Early_res_CoeffVar_proteins]\n",
    "labels1 = ['Proteomic-HEK293 rvalue >0.6 (abs)', 'adjpvalue <0.05 Proteomic-HEK293',\n",
    "          'early_response_proteomic-HEK293'] \n",
    "\n",
    "datas2 = [RNAseq_HEK293, RNAseq_hippoc_down, RNAseq_hippoc_up, RNAseq_cortex_down, RNAseq_cortex_up]\n",
    "labels2 = ['RNAseq_HEK293','RNAseq_hippoc_down','RNAseq_hippoc_up','RNAseq_cortex_down','RNAseq_cortex_up']\n",
    "\n",
    "for i in range(len(datas1)):\n",
    "    data1 = datas1[i]\n",
    "    label1 = labels1[i]\n",
    "    \n",
    "    for y in range(len(datas2)):\n",
    "        data2 = datas2[y]\n",
    "        label2 = labels2[y]\n",
    "        \n",
    "        common_elements = set(data1).intersection(data2)\n",
    "        common_elements = list(common_elements)\n",
    "        print(len(common_elements), f\"overlap {label1} and the {label2}:\\n\", common_elements, \"\\n\")"
   ]
  }
 ],
 "metadata": {
  "kernelspec": {
   "display_name": "Python 3 (ipykernel)",
   "language": "python",
   "name": "python3"
  },
  "language_info": {
   "codemirror_mode": {
    "name": "ipython",
    "version": 3
   },
   "file_extension": ".py",
   "mimetype": "text/x-python",
   "name": "python",
   "nbconvert_exporter": "python",
   "pygments_lexer": "ipython3",
   "version": "3.11.5"
  }
 },
 "nbformat": 4,
 "nbformat_minor": 5
}
