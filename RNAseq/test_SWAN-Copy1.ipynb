{
 "cells": [
  {
   "cell_type": "code",
   "execution_count": 2,
   "id": "d55729ef",
   "metadata": {},
   "outputs": [],
   "source": [
    "import pandas, scipy, numpy, seaborn\n",
    "import matplotlib, matplotlib.pyplot as plt\n",
    "import swan_vis as swan"
   ]
  },
  {
   "cell_type": "code",
   "execution_count": 15,
   "id": "9689e500",
   "metadata": {},
   "outputs": [],
   "source": [
    "file_directory = \"/Users/kja11/OneDrive - Menntaský (1)/PostDoc_Hypothermia/in_silico/Python/\"\n",
    "path_exemple = \"1) input/RNAseq/data_example/data/\"\n",
    "path = \"1) input/RNAseq/\""
   ]
  },
  {
   "cell_type": "markdown",
   "id": "1e9da10e",
   "metadata": {},
   "source": [
    "# Data download"
   ]
  },
  {
   "cell_type": "code",
   "execution_count": 8,
   "id": "7cc1952d",
   "metadata": {},
   "outputs": [
    {
     "name": "stderr",
     "output_type": "stream",
     "text": [
      "C:\\Users\\kja11\\AppData\\Local\\Temp\\ipykernel_1684\\860551786.py:3: DtypeWarning: Columns (0) have mixed types. Specify dtype option on import or set low_memory=False.\n",
      "  hek_gtx_df = pandas.read_csv(hek_gtf, sep='\\t', comment='#', header=None)\n"
     ]
    },
    {
     "name": "stdout",
     "output_type": "stream",
     "text": [
      "  seqname  source      feature    start      end score strand frame  \\\n",
      "0       1  havana   transcript  3069168  3434342     .      +     .   \n",
      "1       1  havana         exon  3069168  3069296     .      +     .   \n",
      "2       1  havana          CDS  3069260  3069296     .      +     0   \n",
      "3       1  havana  start_codon  3069260  3069262     .      +     0   \n",
      "4       1  havana         exon  3186125  3186474     .      +     .   \n",
      "\n",
      "                                           attribute  \n",
      "0  gene_id \"ENSG00000142611\"; gene_version \"17\"; ...  \n",
      "1  gene_id \"ENSG00000142611\"; gene_version \"17\"; ...  \n",
      "2  gene_id \"ENSG00000142611\"; gene_version \"17\"; ...  \n",
      "3  gene_id \"ENSG00000142611\"; gene_version \"17\"; ...  \n",
      "4  gene_id \"ENSG00000142611\"; gene_version \"17\"; ...  \n"
     ]
    }
   ],
   "source": [
    "# Read the GTF file\n",
    "hek_gtf = file_directory + path + 'mytranscripts.gtf'\n",
    "hek_gtx_df = pandas.read_csv(hek_gtf, sep='\\t', comment='#', header=None)\n",
    "\n",
    "# Optionally, you can specify the column names for better readability\n",
    "hek_gtx_df.columns = ['seqname', 'source', 'feature', 'start', 'end',\n",
    "    'score', 'strand', 'frame', 'attribute']\n",
    "\n",
    "# Display the first few rows of the DataFrame\n",
    "print(hek_gtx_df.head())"
   ]
  },
  {
   "cell_type": "code",
   "execution_count": 17,
   "id": "37fa23a4",
   "metadata": {},
   "outputs": [
    {
     "name": "stdout",
     "output_type": "stream",
     "text": [
      "  seqname  source     feature   start     end score strand frame  \\\n",
      "0    chr1  HAVANA        gene  184876  195411     .      -     .   \n",
      "1    chr1   TALON  transcript  184876  199860     .      -     .   \n",
      "2    chr1   TALON        exon  199837  199860     .      -     .   \n",
      "3    chr1   TALON        exon  195263  195416     .      -     .   \n",
      "4    chr1  HAVANA        exon  188791  188902     .      -     .   \n",
      "\n",
      "                                           attribute  \n",
      "0  gene_id \"ENSG00000279457.4\"; gene_name \"FO5387...  \n",
      "1  gene_id \"ENSG00000279457.4\"; transcript_id \"TA...  \n",
      "2  gene_id \"ENSG00000279457.4\"; transcript_id \"TA...  \n",
      "3  gene_id \"ENSG00000279457.4\"; transcript_id \"TA...  \n",
      "4  gene_id \"ENSG00000279457.4\"; transcript_id \"TA...  \n"
     ]
    }
   ],
   "source": [
    "# Read the GTF file\n",
    "exp_gtf = file_directory + path_exemple + 'all_talon_observedOnly.gtf'\n",
    "exp_gtf_df = pandas.read_csv(exp_gtf, sep='\\t', comment='#', header=None)\n",
    "\n",
    "# Optionally, you can specify the column names for better readability\n",
    "exp_gtf_df.columns = ['seqname', 'source', 'feature', 'start', 'end',\n",
    "    'score', 'strand', 'frame', 'attribute']\n",
    "\n",
    "# Display the first few rows of the DataFrame\n",
    "print(exp_gtf_df.head())"
   ]
  },
  {
   "cell_type": "markdown",
   "id": "c66f19bc",
   "metadata": {},
   "source": [
    "# Methods"
   ]
  },
  {
   "cell_type": "code",
   "execution_count": 9,
   "id": "0e857c92",
   "metadata": {},
   "outputs": [
    {
     "name": "stdout",
     "output_type": "stream",
     "text": [
      "CPU times: total: 15.6 ms\n",
      "Wall time: 13.5 ms\n"
     ]
    }
   ],
   "source": [
    "%%time\n",
    "# initialize a new empty SwanGraph\n",
    "sg = swan.SwanGraph() "
   ]
  },
  {
   "cell_type": "code",
   "execution_count": 22,
   "id": "f236b573",
   "metadata": {},
   "outputs": [
    {
     "name": "stdout",
     "output_type": "stream",
     "text": [
      "\n",
      "Adding transcriptome to the SwanGraph\n",
      "CPU times: total: 38.7 s\n",
      "Wall time: 1min 34s\n"
     ]
    }
   ],
   "source": [
    "%%time\n",
    "# add a dataset's transcriptome to the SwanGraph EXEMPLE\n",
    "sg.add_transcriptome(exp_gtf)"
   ]
  },
  {
   "cell_type": "code",
   "execution_count": 25,
   "id": "2cce591d",
   "metadata": {},
   "outputs": [],
   "source": [
    "swan.validate_gtf(hek_gtf)"
   ]
  },
  {
   "cell_type": "code",
   "execution_count": 21,
   "id": "c835a30c",
   "metadata": {},
   "outputs": [
    {
     "name": "stdout",
     "output_type": "stream",
     "text": [
      "\n",
      "Adding transcriptome to the SwanGraph\n"
     ]
    },
    {
     "ename": "ValueError",
     "evalue": "too many values to unpack (expected 2)",
     "output_type": "error",
     "traceback": [
      "\u001b[1;31m---------------------------------------------------------------------------\u001b[0m",
      "\u001b[1;31mValueError\u001b[0m                                Traceback (most recent call last)",
      "File \u001b[1;32m<timed eval>:2\u001b[0m\n",
      "File \u001b[1;32m~\\anaconda3\\Lib\\site-packages\\swan_vis\\swangraph.py:158\u001b[0m, in \u001b[0;36mSwanGraph.add_transcriptome\u001b[1;34m(self, fname, pass_list, include_isms, verbose)\u001b[0m\n\u001b[0;32m    145\u001b[0m \u001b[38;5;250m\u001b[39m\u001b[38;5;124;03m\"\"\"\u001b[39;00m\n\u001b[0;32m    146\u001b[0m \u001b[38;5;124;03mAdds a whole transcriptome from a set of samples.\u001b[39;00m\n\u001b[0;32m    147\u001b[0m \n\u001b[1;32m   (...)\u001b[0m\n\u001b[0;32m    154\u001b[0m \u001b[38;5;124;03m\t\tDefault: False\u001b[39;00m\n\u001b[0;32m    155\u001b[0m \u001b[38;5;124;03m\"\"\"\u001b[39;00m\n\u001b[0;32m    157\u001b[0m \u001b[38;5;66;03m# use the add_dataset function to add transcripts to graph\u001b[39;00m\n\u001b[1;32m--> 158\u001b[0m tids \u001b[38;5;241m=\u001b[39m \u001b[38;5;28mself\u001b[39m\u001b[38;5;241m.\u001b[39madd_dataset(fname, pass_list\u001b[38;5;241m=\u001b[39mpass_list,\n\u001b[0;32m    159\u001b[0m \tinclude_isms\u001b[38;5;241m=\u001b[39minclude_isms,\n\u001b[0;32m    160\u001b[0m \tverbose\u001b[38;5;241m=\u001b[39mverbose)\n\u001b[0;32m    162\u001b[0m \u001b[38;5;66;03m# fill NaN annotation transcripts with false\u001b[39;00m\n\u001b[0;32m    163\u001b[0m \u001b[38;5;28;01mif\u001b[39;00m \u001b[38;5;124m'\u001b[39m\u001b[38;5;124mannotation\u001b[39m\u001b[38;5;124m'\u001b[39m \u001b[38;5;129;01min\u001b[39;00m \u001b[38;5;28mself\u001b[39m\u001b[38;5;241m.\u001b[39mt_df\u001b[38;5;241m.\u001b[39mcolumns:\n",
      "File \u001b[1;32m~\\anaconda3\\Lib\\site-packages\\swan_vis\\swangraph.py:200\u001b[0m, in \u001b[0;36mSwanGraph.add_dataset\u001b[1;34m(self, fname, pass_list, include_isms, annotation, verbose)\u001b[0m\n\u001b[0;32m    198\u001b[0m \u001b[38;5;28;01mif\u001b[39;00m ftype \u001b[38;5;241m==\u001b[39m \u001b[38;5;124m'\u001b[39m\u001b[38;5;124mgtf\u001b[39m\u001b[38;5;124m'\u001b[39m:\n\u001b[0;32m    199\u001b[0m \tcheck_file_loc(fname, \u001b[38;5;124m'\u001b[39m\u001b[38;5;124mGTF\u001b[39m\u001b[38;5;124m'\u001b[39m)\n\u001b[1;32m--> 200\u001b[0m \tt_df, exon_df, from_talon, from_cerberus \u001b[38;5;241m=\u001b[39m parse_gtf(fname, include_isms, verbose)\n\u001b[0;32m    201\u001b[0m \u001b[38;5;28;01melif\u001b[39;00m ftype \u001b[38;5;241m==\u001b[39m \u001b[38;5;124m'\u001b[39m\u001b[38;5;124mdb\u001b[39m\u001b[38;5;124m'\u001b[39m:\n\u001b[0;32m    202\u001b[0m \tcheck_file_loc(fname, \u001b[38;5;124m'\u001b[39m\u001b[38;5;124mTALON DB\u001b[39m\u001b[38;5;124m'\u001b[39m)\n",
      "File \u001b[1;32m~\\anaconda3\\Lib\\site-packages\\swan_vis\\utils.py:772\u001b[0m, in \u001b[0;36mparse_gtf\u001b[1;34m(gtf_file, include_isms, verbose)\u001b[0m\n\u001b[0;32m    769\u001b[0m \t\tpbar\u001b[38;5;241m.\u001b[39mupdate(\u001b[38;5;241m100\u001b[39m)\n\u001b[0;32m    770\u001b[0m \t\tpbar\u001b[38;5;241m.\u001b[39mset_description(\u001b[38;5;124m'\u001b[39m\u001b[38;5;124mProcessing transcripts\u001b[39m\u001b[38;5;124m'\u001b[39m)\n\u001b[1;32m--> 772\u001b[0m attributes \u001b[38;5;241m=\u001b[39m get_fields(fields)\n\u001b[0;32m    774\u001b[0m \u001b[38;5;66;03m# check if this gtf has transcript novelty vals\u001b[39;00m\n\u001b[0;32m    775\u001b[0m \u001b[38;5;66;03m# for the first transcript entry\u001b[39;00m\n\u001b[0;32m    776\u001b[0m \u001b[38;5;28;01mif\u001b[39;00m \u001b[38;5;129;01mnot\u001b[39;00m transcripts:\n",
      "File \u001b[1;32m~\\anaconda3\\Lib\\site-packages\\swan_vis\\utils.py:115\u001b[0m, in \u001b[0;36mget_fields\u001b[1;34m(fields)\u001b[0m\n\u001b[0;32m    112\u001b[0m \t\u001b[38;5;28;01mif\u001b[39;00m pair \u001b[38;5;241m==\u001b[39m \u001b[38;5;124m\"\u001b[39m\u001b[38;5;124m\"\u001b[39m: \u001b[38;5;28;01mcontinue\u001b[39;00m\n\u001b[0;32m    114\u001b[0m \tpair \u001b[38;5;241m=\u001b[39m pair\u001b[38;5;241m.\u001b[39mreplace(\u001b[38;5;124m'\u001b[39m\u001b[38;5;124m\"\u001b[39m\u001b[38;5;124m'\u001b[39m, \u001b[38;5;124m'\u001b[39m\u001b[38;5;124m'\u001b[39m)\n\u001b[1;32m--> 115\u001b[0m \tkey, val \u001b[38;5;241m=\u001b[39m pair\u001b[38;5;241m.\u001b[39msplit()\n\u001b[0;32m    116\u001b[0m \tattributes[key] \u001b[38;5;241m=\u001b[39m val\n\u001b[0;32m    118\u001b[0m \u001b[38;5;66;03m# put in placeholders for important attributes (such as gene_id) if they\u001b[39;00m\n\u001b[0;32m    119\u001b[0m \u001b[38;5;66;03m# are absent\u001b[39;00m\n",
      "\u001b[1;31mValueError\u001b[0m: too many values to unpack (expected 2)"
     ]
    }
   ],
   "source": [
    "%%time\n",
    "# add a dataset's transcriptome to the SwanGraph\n",
    "sg.add_transcriptome(hek_gtf)"
   ]
  },
  {
   "cell_type": "code",
   "execution_count": null,
   "id": "a63ba1ed",
   "metadata": {},
   "outputs": [],
   "source": []
  },
  {
   "cell_type": "code",
   "execution_count": null,
   "id": "56eed618",
   "metadata": {},
   "outputs": [],
   "source": []
  },
  {
   "cell_type": "code",
   "execution_count": null,
   "id": "c09304f3",
   "metadata": {},
   "outputs": [],
   "source": []
  },
  {
   "cell_type": "code",
   "execution_count": 57,
   "id": "d624e989",
   "metadata": {},
   "outputs": [
    {
     "name": "stdout",
     "output_type": "stream",
     "text": [
      "\n",
      "Adding annotation to the SwanGraph\n",
      "CPU times: total: 2min 39s\n",
      "Wall time: 6min 41s\n"
     ]
    }
   ],
   "source": [
    "%%time\n",
    "# add an annotation transcriptome to the graph\n",
    "sg.add_annotation(annot_gtf)"
   ]
  },
  {
   "cell_type": "code",
   "execution_count": 81,
   "id": "5d31289b",
   "metadata": {
    "collapsed": true
   },
   "outputs": [
    {
     "ename": "KeyError",
     "evalue": "'dataset'",
     "output_type": "error",
     "traceback": [
      "\u001b[1;31m---------------------------------------------------------------------------\u001b[0m",
      "\u001b[1;31mKeyError\u001b[0m                                  Traceback (most recent call last)",
      "\u001b[1;32m~\\AppData\\Local\\Temp\\ipykernel_25240\\4164607639.py\u001b[0m in \u001b[0;36m?\u001b[1;34m()\u001b[0m\n\u001b[1;32m----> 1\u001b[1;33m \u001b[0msg\u001b[0m\u001b[1;33m.\u001b[0m\u001b[0madd_metadata\u001b[0m\u001b[1;33m(\u001b[0m\u001b[0mmeta\u001b[0m\u001b[1;33m)\u001b[0m\u001b[1;33m\u001b[0m\u001b[1;33m\u001b[0m\u001b[0m\n\u001b[0m",
      "\u001b[1;32m~\\anaconda3\\Lib\\site-packages\\swan_vis\\swangraph.py\u001b[0m in \u001b[0;36m?\u001b[1;34m(self, fname, overwrite)\u001b[0m\n\u001b[0;32m    612\u001b[0m                 \u001b[1;32mfor\u001b[0m \u001b[0madata\u001b[0m \u001b[1;32min\u001b[0m \u001b[0madatas\u001b[0m\u001b[1;33m:\u001b[0m\u001b[1;33m\u001b[0m\u001b[1;33m\u001b[0m\u001b[0m\n\u001b[0;32m    613\u001b[0m \u001b[1;33m\u001b[0m\u001b[0m\n\u001b[0;32m    614\u001b[0m                         \u001b[1;31m# merge df with adata obs table\u001b[0m\u001b[1;33m\u001b[0m\u001b[1;33m\u001b[0m\u001b[0m\n\u001b[0;32m    615\u001b[0m                         \u001b[0madata\u001b[0m\u001b[1;33m.\u001b[0m\u001b[0mobs\u001b[0m \u001b[1;33m=\u001b[0m \u001b[0mreset_dupe_index\u001b[0m\u001b[1;33m(\u001b[0m\u001b[0madata\u001b[0m\u001b[1;33m.\u001b[0m\u001b[0mobs\u001b[0m\u001b[1;33m,\u001b[0m \u001b[1;34m'dataset'\u001b[0m\u001b[1;33m)\u001b[0m\u001b[1;33m\u001b[0m\u001b[1;33m\u001b[0m\u001b[0m\n\u001b[1;32m--> 616\u001b[1;33m                         \u001b[0madata\u001b[0m\u001b[1;33m.\u001b[0m\u001b[0mobs\u001b[0m \u001b[1;33m=\u001b[0m \u001b[0madata\u001b[0m\u001b[1;33m.\u001b[0m\u001b[0mobs\u001b[0m\u001b[1;33m.\u001b[0m\u001b[0mmerge\u001b[0m\u001b[1;33m(\u001b[0m\u001b[0mdf\u001b[0m\u001b[1;33m,\u001b[0m \u001b[0mhow\u001b[0m\u001b[1;33m=\u001b[0m\u001b[1;34m'left'\u001b[0m\u001b[1;33m,\u001b[0m \u001b[0mon\u001b[0m\u001b[1;33m=\u001b[0m\u001b[1;34m'dataset'\u001b[0m\u001b[1;33m)\u001b[0m\u001b[1;33m\u001b[0m\u001b[1;33m\u001b[0m\u001b[0m\n\u001b[0m\u001b[0;32m    617\u001b[0m                         \u001b[0madata\u001b[0m\u001b[1;33m.\u001b[0m\u001b[0mobs\u001b[0m \u001b[1;33m=\u001b[0m \u001b[0mset_dupe_index\u001b[0m\u001b[1;33m(\u001b[0m\u001b[0madata\u001b[0m\u001b[1;33m.\u001b[0m\u001b[0mobs\u001b[0m\u001b[1;33m,\u001b[0m \u001b[1;34m'dataset'\u001b[0m\u001b[1;33m)\u001b[0m\u001b[1;33m\u001b[0m\u001b[1;33m\u001b[0m\u001b[0m\n\u001b[0;32m    618\u001b[0m \u001b[1;33m\u001b[0m\u001b[0m\n\u001b[0;32m    619\u001b[0m                         \u001b[1;31m# make sure all dtypes in obs table are non intergers\u001b[0m\u001b[1;33m\u001b[0m\u001b[1;33m\u001b[0m\u001b[0m\n",
      "\u001b[1;32m~\\anaconda3\\Lib\\site-packages\\pandas\\core\\frame.py\u001b[0m in \u001b[0;36m?\u001b[1;34m(self, right, how, on, left_on, right_on, left_index, right_index, sort, suffixes, copy, indicator, validate)\u001b[0m\n\u001b[0;32m  10089\u001b[0m         \u001b[0mvalidate\u001b[0m\u001b[1;33m:\u001b[0m \u001b[0mstr\u001b[0m \u001b[1;33m|\u001b[0m \u001b[1;32mNone\u001b[0m \u001b[1;33m=\u001b[0m \u001b[1;32mNone\u001b[0m\u001b[1;33m,\u001b[0m\u001b[1;33m\u001b[0m\u001b[1;33m\u001b[0m\u001b[0m\n\u001b[0;32m  10090\u001b[0m     ) -> DataFrame:\n\u001b[0;32m  10091\u001b[0m         \u001b[1;32mfrom\u001b[0m \u001b[0mpandas\u001b[0m\u001b[1;33m.\u001b[0m\u001b[0mcore\u001b[0m\u001b[1;33m.\u001b[0m\u001b[0mreshape\u001b[0m\u001b[1;33m.\u001b[0m\u001b[0mmerge\u001b[0m \u001b[1;32mimport\u001b[0m \u001b[0mmerge\u001b[0m\u001b[1;33m\u001b[0m\u001b[1;33m\u001b[0m\u001b[0m\n\u001b[0;32m  10092\u001b[0m \u001b[1;33m\u001b[0m\u001b[0m\n\u001b[1;32m> 10093\u001b[1;33m         return merge(\n\u001b[0m\u001b[0;32m  10094\u001b[0m             \u001b[0mself\u001b[0m\u001b[1;33m,\u001b[0m\u001b[1;33m\u001b[0m\u001b[1;33m\u001b[0m\u001b[0m\n\u001b[0;32m  10095\u001b[0m             \u001b[0mright\u001b[0m\u001b[1;33m,\u001b[0m\u001b[1;33m\u001b[0m\u001b[1;33m\u001b[0m\u001b[0m\n\u001b[0;32m  10096\u001b[0m             \u001b[0mhow\u001b[0m\u001b[1;33m=\u001b[0m\u001b[0mhow\u001b[0m\u001b[1;33m,\u001b[0m\u001b[1;33m\u001b[0m\u001b[1;33m\u001b[0m\u001b[0m\n",
      "\u001b[1;32m~\\anaconda3\\Lib\\site-packages\\pandas\\core\\reshape\\merge.py\u001b[0m in \u001b[0;36m?\u001b[1;34m(left, right, how, on, left_on, right_on, left_index, right_index, sort, suffixes, copy, indicator, validate)\u001b[0m\n\u001b[0;32m    106\u001b[0m     \u001b[0mcopy\u001b[0m\u001b[1;33m:\u001b[0m \u001b[0mbool\u001b[0m \u001b[1;33m=\u001b[0m \u001b[1;32mTrue\u001b[0m\u001b[1;33m,\u001b[0m\u001b[1;33m\u001b[0m\u001b[1;33m\u001b[0m\u001b[0m\n\u001b[0;32m    107\u001b[0m     \u001b[0mindicator\u001b[0m\u001b[1;33m:\u001b[0m \u001b[0mbool\u001b[0m \u001b[1;33m=\u001b[0m \u001b[1;32mFalse\u001b[0m\u001b[1;33m,\u001b[0m\u001b[1;33m\u001b[0m\u001b[1;33m\u001b[0m\u001b[0m\n\u001b[0;32m    108\u001b[0m     \u001b[0mvalidate\u001b[0m\u001b[1;33m:\u001b[0m \u001b[0mstr\u001b[0m \u001b[1;33m|\u001b[0m \u001b[1;32mNone\u001b[0m \u001b[1;33m=\u001b[0m \u001b[1;32mNone\u001b[0m\u001b[1;33m,\u001b[0m\u001b[1;33m\u001b[0m\u001b[1;33m\u001b[0m\u001b[0m\n\u001b[0;32m    109\u001b[0m ) -> DataFrame:\n\u001b[1;32m--> 110\u001b[1;33m     op = _MergeOperation(\n\u001b[0m\u001b[0;32m    111\u001b[0m         \u001b[0mleft\u001b[0m\u001b[1;33m,\u001b[0m\u001b[1;33m\u001b[0m\u001b[1;33m\u001b[0m\u001b[0m\n\u001b[0;32m    112\u001b[0m         \u001b[0mright\u001b[0m\u001b[1;33m,\u001b[0m\u001b[1;33m\u001b[0m\u001b[1;33m\u001b[0m\u001b[0m\n\u001b[0;32m    113\u001b[0m         \u001b[0mhow\u001b[0m\u001b[1;33m=\u001b[0m\u001b[0mhow\u001b[0m\u001b[1;33m,\u001b[0m\u001b[1;33m\u001b[0m\u001b[1;33m\u001b[0m\u001b[0m\n",
      "\u001b[1;32m~\\anaconda3\\Lib\\site-packages\\pandas\\core\\reshape\\merge.py\u001b[0m in \u001b[0;36m?\u001b[1;34m(self, left, right, how, on, left_on, right_on, axis, left_index, right_index, sort, suffixes, indicator, validate)\u001b[0m\n\u001b[0;32m    699\u001b[0m         (\n\u001b[0;32m    700\u001b[0m             \u001b[0mself\u001b[0m\u001b[1;33m.\u001b[0m\u001b[0mleft_join_keys\u001b[0m\u001b[1;33m,\u001b[0m\u001b[1;33m\u001b[0m\u001b[1;33m\u001b[0m\u001b[0m\n\u001b[0;32m    701\u001b[0m             \u001b[0mself\u001b[0m\u001b[1;33m.\u001b[0m\u001b[0mright_join_keys\u001b[0m\u001b[1;33m,\u001b[0m\u001b[1;33m\u001b[0m\u001b[1;33m\u001b[0m\u001b[0m\n\u001b[0;32m    702\u001b[0m             \u001b[0mself\u001b[0m\u001b[1;33m.\u001b[0m\u001b[0mjoin_names\u001b[0m\u001b[1;33m,\u001b[0m\u001b[1;33m\u001b[0m\u001b[1;33m\u001b[0m\u001b[0m\n\u001b[1;32m--> 703\u001b[1;33m         ) = self._get_merge_keys()\n\u001b[0m\u001b[0;32m    704\u001b[0m \u001b[1;33m\u001b[0m\u001b[0m\n\u001b[0;32m    705\u001b[0m         \u001b[1;31m# validate the merge keys dtypes. We may need to coerce\u001b[0m\u001b[1;33m\u001b[0m\u001b[1;33m\u001b[0m\u001b[0m\n\u001b[0;32m    706\u001b[0m         \u001b[1;31m# to avoid incompatible dtypes\u001b[0m\u001b[1;33m\u001b[0m\u001b[1;33m\u001b[0m\u001b[0m\n",
      "\u001b[1;32m~\\anaconda3\\Lib\\site-packages\\pandas\\core\\reshape\\merge.py\u001b[0m in \u001b[0;36m?\u001b[1;34m(self)\u001b[0m\n\u001b[0;32m   1175\u001b[0m                     \u001b[1;32mif\u001b[0m \u001b[0mlk\u001b[0m \u001b[1;32mis\u001b[0m \u001b[1;32mnot\u001b[0m \u001b[1;32mNone\u001b[0m\u001b[1;33m:\u001b[0m\u001b[1;33m\u001b[0m\u001b[1;33m\u001b[0m\u001b[0m\n\u001b[0;32m   1176\u001b[0m                         \u001b[1;31m# Then we're either Hashable or a wrong-length arraylike,\u001b[0m\u001b[1;33m\u001b[0m\u001b[1;33m\u001b[0m\u001b[0m\n\u001b[0;32m   1177\u001b[0m                         \u001b[1;31m#  the latter of which will raise\u001b[0m\u001b[1;33m\u001b[0m\u001b[1;33m\u001b[0m\u001b[0m\n\u001b[0;32m   1178\u001b[0m                         \u001b[0mlk\u001b[0m \u001b[1;33m=\u001b[0m \u001b[0mcast\u001b[0m\u001b[1;33m(\u001b[0m\u001b[0mHashable\u001b[0m\u001b[1;33m,\u001b[0m \u001b[0mlk\u001b[0m\u001b[1;33m)\u001b[0m\u001b[1;33m\u001b[0m\u001b[1;33m\u001b[0m\u001b[0m\n\u001b[1;32m-> 1179\u001b[1;33m                         \u001b[0mleft_keys\u001b[0m\u001b[1;33m.\u001b[0m\u001b[0mappend\u001b[0m\u001b[1;33m(\u001b[0m\u001b[0mleft\u001b[0m\u001b[1;33m.\u001b[0m\u001b[0m_get_label_or_level_values\u001b[0m\u001b[1;33m(\u001b[0m\u001b[0mlk\u001b[0m\u001b[1;33m)\u001b[0m\u001b[1;33m)\u001b[0m\u001b[1;33m\u001b[0m\u001b[1;33m\u001b[0m\u001b[0m\n\u001b[0m\u001b[0;32m   1180\u001b[0m                         \u001b[0mjoin_names\u001b[0m\u001b[1;33m.\u001b[0m\u001b[0mappend\u001b[0m\u001b[1;33m(\u001b[0m\u001b[0mlk\u001b[0m\u001b[1;33m)\u001b[0m\u001b[1;33m\u001b[0m\u001b[1;33m\u001b[0m\u001b[0m\n\u001b[0;32m   1181\u001b[0m                     \u001b[1;32melse\u001b[0m\u001b[1;33m:\u001b[0m\u001b[1;33m\u001b[0m\u001b[1;33m\u001b[0m\u001b[0m\n\u001b[0;32m   1182\u001b[0m                         \u001b[1;31m# work-around for merge_asof(left_index=True)\u001b[0m\u001b[1;33m\u001b[0m\u001b[1;33m\u001b[0m\u001b[0m\n",
      "\u001b[1;32m~\\anaconda3\\Lib\\site-packages\\pandas\\core\\generic.py\u001b[0m in \u001b[0;36m?\u001b[1;34m(self, key, axis)\u001b[0m\n\u001b[0;32m   1846\u001b[0m                 \u001b[1;33m.\u001b[0m\u001b[0mget_level_values\u001b[0m\u001b[1;33m(\u001b[0m\u001b[0mkey\u001b[0m\u001b[1;33m)\u001b[0m  \u001b[1;31m# type: ignore[assignment]\u001b[0m\u001b[1;33m\u001b[0m\u001b[1;33m\u001b[0m\u001b[0m\n\u001b[0;32m   1847\u001b[0m                 \u001b[1;33m.\u001b[0m\u001b[0m_values\u001b[0m\u001b[1;33m\u001b[0m\u001b[1;33m\u001b[0m\u001b[0m\n\u001b[0;32m   1848\u001b[0m             )\n\u001b[0;32m   1849\u001b[0m         \u001b[1;32melse\u001b[0m\u001b[1;33m:\u001b[0m\u001b[1;33m\u001b[0m\u001b[1;33m\u001b[0m\u001b[0m\n\u001b[1;32m-> 1850\u001b[1;33m             \u001b[1;32mraise\u001b[0m \u001b[0mKeyError\u001b[0m\u001b[1;33m(\u001b[0m\u001b[0mkey\u001b[0m\u001b[1;33m)\u001b[0m\u001b[1;33m\u001b[0m\u001b[1;33m\u001b[0m\u001b[0m\n\u001b[0m\u001b[0;32m   1851\u001b[0m \u001b[1;33m\u001b[0m\u001b[0m\n\u001b[0;32m   1852\u001b[0m         \u001b[1;31m# Check for duplicates\u001b[0m\u001b[1;33m\u001b[0m\u001b[1;33m\u001b[0m\u001b[0m\n\u001b[0;32m   1853\u001b[0m         \u001b[1;32mif\u001b[0m \u001b[0mvalues\u001b[0m\u001b[1;33m.\u001b[0m\u001b[0mndim\u001b[0m \u001b[1;33m>\u001b[0m \u001b[1;36m1\u001b[0m\u001b[1;33m:\u001b[0m\u001b[1;33m\u001b[0m\u001b[1;33m\u001b[0m\u001b[0m\n",
      "\u001b[1;31mKeyError\u001b[0m: 'dataset'"
     ]
    }
   ],
   "source": [
    "%%time\n",
    "# add metadata\n",
    "sg.add_metadata(meta)\n",
    "sg.adata.obs"
   ]
  },
  {
   "cell_type": "code",
   "execution_count": 62,
   "id": "a6914c10",
   "metadata": {},
   "outputs": [
    {
     "name": "stderr",
     "output_type": "stream",
     "text": [
      "C:\\Users\\kja11\\anaconda3\\Lib\\site-packages\\swan_vis\\swangraph.py:366: ImplicitModificationWarning: Setting element `.layers['counts']` of view, initializing view as actual.\n",
      "  adata.layers['counts'] = adata.X\n"
     ]
    },
    {
     "name": "stdout",
     "output_type": "stream",
     "text": [
      "\n",
      "Adding abundance for datasets hepg2_1, hepg2_2, hffc6_1, hffc6_2, hffc6_3 to SwanGraph.\n",
      "Calculating TPM...\n",
      "Calculating PI...\n",
      "Calculating edge usage...\n"
     ]
    },
    {
     "name": "stderr",
     "output_type": "stream",
     "text": [
      "C:\\Users\\kja11\\anaconda3\\Lib\\site-packages\\anndata\\_core\\anndata.py:183: ImplicitModificationWarning: Transforming to str index.\n",
      "  warnings.warn(\"Transforming to str index.\", ImplicitModificationWarning)\n"
     ]
    },
    {
     "name": "stdout",
     "output_type": "stream",
     "text": [
      "Calculating TSS usage...\n",
      "Calculating TES usage...\n",
      "CPU times: total: 17 s\n",
      "Wall time: 34.4 s\n"
     ]
    }
   ],
   "source": [
    "%%time\n",
    "# add each dataset's abundance information to the SwanGraph\n",
    "sg.add_abundance(ab_file)"
   ]
  },
  {
   "cell_type": "markdown",
   "id": "f8272e06",
   "metadata": {},
   "source": [
    "## Saving and loading your SwanGraph\n",
    "Following this, you can save your SwanGraph so you can easily work with it again without re-adding all the data."
   ]
  },
  {
   "cell_type": "code",
   "execution_count": 65,
   "id": "4a98b57e",
   "metadata": {},
   "outputs": [
    {
     "name": "stdout",
     "output_type": "stream",
     "text": [
      "Saving graph as /Users/kja11/OneDrive - Menntaský (1)/PostDoc_Hypothermia/in_silico/Python/1) input/RNAseq/data_example/data/swan_tutorial.p\n"
     ]
    }
   ],
   "source": [
    "# # save the SwanGraph as a Python pickle file\n",
    "# sg.save_graph(file_directory + path + 'swan_tutorial')"
   ]
  },
  {
   "cell_type": "code",
   "execution_count": null,
   "id": "48393290",
   "metadata": {},
   "outputs": [],
   "source": [
    "# load up a saved SwanGraph from a pickle file\n",
    "sg = swan.read(file_directory + path + 'swan_tutorial')"
   ]
  },
  {
   "cell_type": "markdown",
   "id": "da18dfaf",
   "metadata": {},
   "source": [
    "## Visualization"
   ]
  },
  {
   "cell_type": "raw",
   "id": "665cf4ed",
   "metadata": {},
   "source": [
    "## Swan assigns a node to each unique splice site. Blue nodes are transcription start sites, orange nodes are transcription end sites, and yellow nodes are internal splice sites.\n",
    "- Splice junction pairs that span an exon are connected by exonic (green) edges. \n",
    "- Splice junction pairs that span an intron are connected by intronic (pink) edges."
   ]
  },
  {
   "cell_type": "code",
   "execution_count": 67,
   "id": "34765a85",
   "metadata": {},
   "outputs": [
    {
     "data": {
      "image/png": "[encoded data removed]",
      "text/plain": [
       "<Figure size 1400x280 with 1 Axes>"
      ]
     },
     "metadata": {},
     "output_type": "display_data"
    }
   ],
   "source": [
    "# see plot of a specific gene\n",
    "sg.plot_graph('GAPDH')"
   ]
  },
  {
   "cell_type": "code",
   "execution_count": 88,
   "id": "f30b01f9",
   "metadata": {
    "collapsed": true
   },
   "outputs": [
    {
     "ename": "ValueError",
     "evalue": "Cannot embed the 'pdf' image format",
     "output_type": "error",
     "traceback": [
      "\u001b[1;31m---------------------------------------------------------------------------\u001b[0m",
      "\u001b[1;31mValueError\u001b[0m                                Traceback (most recent call last)",
      "Cell \u001b[1;32mIn[88], line 5\u001b[0m\n\u001b[0;32m      1\u001b[0m \u001b[38;5;66;03m# Save all isoform information for gene ADRM1 as .pdf\u001b[39;00m\n\u001b[0;32m      2\u001b[0m \u001b[38;5;66;03m# sg.gen_report('ADRM1',\u001b[39;00m\n\u001b[0;32m      3\u001b[0m \u001b[38;5;66;03m#               prefix=file_directory + path + 'adrm1_tutorial')\u001b[39;00m\n\u001b[1;32m----> 5\u001b[0m display(Image(file_directory \u001b[38;5;241m+\u001b[39m path \u001b[38;5;241m+\u001b[39m \u001b[38;5;124m'\u001b[39m\u001b[38;5;124madrm1_tutorial_ENSG00000130706_report.pdf\u001b[39m\u001b[38;5;124m'\u001b[39m))\n",
      "File \u001b[1;32m~\\anaconda3\\Lib\\site-packages\\IPython\\core\\display.py:961\u001b[0m, in \u001b[0;36mImage.__init__\u001b[1;34m(self, data, url, filename, format, embed, width, height, retina, unconfined, metadata, alt)\u001b[0m\n\u001b[0;32m    958\u001b[0m \u001b[38;5;28mself\u001b[39m\u001b[38;5;241m.\u001b[39membed \u001b[38;5;241m=\u001b[39m embed \u001b[38;5;28;01mif\u001b[39;00m embed \u001b[38;5;129;01mis\u001b[39;00m \u001b[38;5;129;01mnot\u001b[39;00m \u001b[38;5;28;01mNone\u001b[39;00m \u001b[38;5;28;01melse\u001b[39;00m (url \u001b[38;5;129;01mis\u001b[39;00m \u001b[38;5;28;01mNone\u001b[39;00m)\n\u001b[0;32m    960\u001b[0m \u001b[38;5;28;01mif\u001b[39;00m \u001b[38;5;28mself\u001b[39m\u001b[38;5;241m.\u001b[39membed \u001b[38;5;129;01mand\u001b[39;00m \u001b[38;5;28mself\u001b[39m\u001b[38;5;241m.\u001b[39mformat \u001b[38;5;129;01mnot\u001b[39;00m \u001b[38;5;129;01min\u001b[39;00m \u001b[38;5;28mself\u001b[39m\u001b[38;5;241m.\u001b[39m_ACCEPTABLE_EMBEDDINGS:\n\u001b[1;32m--> 961\u001b[0m     \u001b[38;5;28;01mraise\u001b[39;00m \u001b[38;5;167;01mValueError\u001b[39;00m(\u001b[38;5;124m\"\u001b[39m\u001b[38;5;124mCannot embed the \u001b[39m\u001b[38;5;124m'\u001b[39m\u001b[38;5;132;01m%s\u001b[39;00m\u001b[38;5;124m'\u001b[39m\u001b[38;5;124m image format\u001b[39m\u001b[38;5;124m\"\u001b[39m \u001b[38;5;241m%\u001b[39m (\u001b[38;5;28mself\u001b[39m\u001b[38;5;241m.\u001b[39mformat))\n\u001b[0;32m    962\u001b[0m \u001b[38;5;28;01mif\u001b[39;00m \u001b[38;5;28mself\u001b[39m\u001b[38;5;241m.\u001b[39membed:\n\u001b[0;32m    963\u001b[0m     \u001b[38;5;28mself\u001b[39m\u001b[38;5;241m.\u001b[39m_mimetype \u001b[38;5;241m=\u001b[39m \u001b[38;5;28mself\u001b[39m\u001b[38;5;241m.\u001b[39m_MIMETYPES\u001b[38;5;241m.\u001b[39mget(\u001b[38;5;28mself\u001b[39m\u001b[38;5;241m.\u001b[39mformat)\n",
      "\u001b[1;31mValueError\u001b[0m: Cannot embed the 'pdf' image format"
     ]
    }
   ],
   "source": [
    "# Save all isoform information for gene ADRM1 as .pdf\n",
    "sg.gen_report('ADRM1',\n",
    "              prefix=file_directory + path + 'adrm1_tutorial')"
   ]
  },
  {
   "cell_type": "code",
   "execution_count": 83,
   "id": "ff3ee2b5",
   "metadata": {},
   "outputs": [
    {
     "data": {
      "text/html": [
       "<div>\n",
       "<style scoped>\n",
       "    .dataframe tbody tr th:only-of-type {\n",
       "        vertical-align: middle;\n",
       "    }\n",
       "\n",
       "    .dataframe tbody tr th {\n",
       "        vertical-align: top;\n",
       "    }\n",
       "\n",
       "    .dataframe thead th {\n",
       "        text-align: right;\n",
       "    }\n",
       "</style>\n",
       "<table border=\"1\" class=\"dataframe\">\n",
       "  <thead>\n",
       "    <tr style=\"text-align: right;\">\n",
       "      <th></th>\n",
       "      <th>level_0</th>\n",
       "      <th>index</th>\n",
       "      <th>dataset_back</th>\n",
       "      <th>total_counts</th>\n",
       "      <th>cell_line</th>\n",
       "      <th>replicate</th>\n",
       "      <th>description</th>\n",
       "    </tr>\n",
       "  </thead>\n",
       "  <tbody>\n",
       "    <tr>\n",
       "      <th>0</th>\n",
       "      <td>0</td>\n",
       "      <td>hepg2_1</td>\n",
       "      <td>hepg2_1</td>\n",
       "      <td>499647</td>\n",
       "      <td>hepg2</td>\n",
       "      <td>1</td>\n",
       "      <td>liver</td>\n",
       "    </tr>\n",
       "    <tr>\n",
       "      <th>1</th>\n",
       "      <td>1</td>\n",
       "      <td>hepg2_2</td>\n",
       "      <td>hepg2_2</td>\n",
       "      <td>848447</td>\n",
       "      <td>hepg2</td>\n",
       "      <td>2</td>\n",
       "      <td>liver</td>\n",
       "    </tr>\n",
       "    <tr>\n",
       "      <th>2</th>\n",
       "      <td>2</td>\n",
       "      <td>hffc6_1</td>\n",
       "      <td>hffc6_1</td>\n",
       "      <td>761493</td>\n",
       "      <td>hffc6</td>\n",
       "      <td>1</td>\n",
       "      <td>fibroblast</td>\n",
       "    </tr>\n",
       "    <tr>\n",
       "      <th>3</th>\n",
       "      <td>3</td>\n",
       "      <td>hffc6_2</td>\n",
       "      <td>hffc6_2</td>\n",
       "      <td>787967</td>\n",
       "      <td>hffc6</td>\n",
       "      <td>2</td>\n",
       "      <td>fibroblast</td>\n",
       "    </tr>\n",
       "    <tr>\n",
       "      <th>4</th>\n",
       "      <td>4</td>\n",
       "      <td>hffc6_3</td>\n",
       "      <td>hffc6_3</td>\n",
       "      <td>614921</td>\n",
       "      <td>hffc6</td>\n",
       "      <td>3</td>\n",
       "      <td>fibroblast</td>\n",
       "    </tr>\n",
       "  </tbody>\n",
       "</table>\n",
       "</div>"
      ],
      "text/plain": [
       "   level_0    index dataset_back total_counts cell_line replicate description\n",
       "0        0  hepg2_1      hepg2_1       499647     hepg2         1       liver\n",
       "1        1  hepg2_2      hepg2_2       848447     hepg2         2       liver\n",
       "2        2  hffc6_1      hffc6_1       761493     hffc6         1  fibroblast\n",
       "3        3  hffc6_2      hffc6_2       787967     hffc6         2  fibroblast\n",
       "4        4  hffc6_3      hffc6_3       614921     hffc6         3  fibroblast"
      ]
     },
     "execution_count": 83,
     "metadata": {},
     "output_type": "execute_result"
    }
   ],
   "source": [
    "#see the metadata from the sg\n",
    "sg.adata.obs"
   ]
  },
  {
   "cell_type": "code",
   "execution_count": 89,
   "id": "a4c805d0",
   "metadata": {},
   "outputs": [
    {
     "name": "stderr",
     "output_type": "stream",
     "text": [
      "Testing for DIE for each gene:   8%|███▌                                          | 1148/14684 [00:13<02:32, 88.73it/s]C:\\Users\\kja11\\anaconda3\\Lib\\site-packages\\swan_vis\\utils.py:993: FutureWarning: The behavior of .astype from SparseDtype to a non-sparse dtype is deprecated. In a future version, this will return a non-sparse array with the requested dtype. To retain the old behavior, use `obj.astype(SparseDtype(dtype))`\n",
      "  chi_table = gene_df[counts_cols].to_numpy()\n",
      "Testing for DIE for each gene:   9%|████▎                                         | 1382/14684 [00:15<02:21, 93.83it/s]C:\\Users\\kja11\\anaconda3\\Lib\\site-packages\\swan_vis\\utils.py:993: FutureWarning: The behavior of .astype from SparseDtype to a non-sparse dtype is deprecated. In a future version, this will return a non-sparse array with the requested dtype. To retain the old behavior, use `obj.astype(SparseDtype(dtype))`\n",
      "  chi_table = gene_df[counts_cols].to_numpy()\n",
      "C:\\Users\\kja11\\anaconda3\\Lib\\site-packages\\swan_vis\\utils.py:993: FutureWarning: The behavior of .astype from SparseDtype to a non-sparse dtype is deprecated. In a future version, this will return a non-sparse array with the requested dtype. To retain the old behavior, use `obj.astype(SparseDtype(dtype))`\n",
      "  chi_table = gene_df[counts_cols].to_numpy()\n",
      "Testing for DIE for each gene:  10%|████▋                                         | 1491/14684 [00:17<02:27, 89.50it/s]C:\\Users\\kja11\\anaconda3\\Lib\\site-packages\\swan_vis\\utils.py:993: FutureWarning: The behavior of .astype from SparseDtype to a non-sparse dtype is deprecated. In a future version, this will return a non-sparse array with the requested dtype. To retain the old behavior, use `obj.astype(SparseDtype(dtype))`\n",
      "  chi_table = gene_df[counts_cols].to_numpy()\n",
      "Testing for DIE for each gene:  16%|███████▏                                      | 2293/14684 [00:26<02:10, 94.94it/s]C:\\Users\\kja11\\anaconda3\\Lib\\site-packages\\swan_vis\\utils.py:993: FutureWarning: The behavior of .astype from SparseDtype to a non-sparse dtype is deprecated. In a future version, this will return a non-sparse array with the requested dtype. To retain the old behavior, use `obj.astype(SparseDtype(dtype))`\n",
      "  chi_table = gene_df[counts_cols].to_numpy()\n",
      "Testing for DIE for each gene:  16%|███████▍                                      | 2360/14684 [00:26<02:18, 89.04it/s]C:\\Users\\kja11\\anaconda3\\Lib\\site-packages\\swan_vis\\utils.py:993: FutureWarning: The behavior of .astype from SparseDtype to a non-sparse dtype is deprecated. In a future version, this will return a non-sparse array with the requested dtype. To retain the old behavior, use `obj.astype(SparseDtype(dtype))`\n",
      "  chi_table = gene_df[counts_cols].to_numpy()\n",
      "Testing for DIE for each gene:  17%|███████▋                                      | 2447/14684 [00:27<02:16, 89.59it/s]C:\\Users\\kja11\\anaconda3\\Lib\\site-packages\\swan_vis\\utils.py:993: FutureWarning: The behavior of .astype from SparseDtype to a non-sparse dtype is deprecated. In a future version, this will return a non-sparse array with the requested dtype. To retain the old behavior, use `obj.astype(SparseDtype(dtype))`\n",
      "  chi_table = gene_df[counts_cols].to_numpy()\n",
      "Testing for DIE for each gene:  22%|██████████                                    | 3221/14684 [00:36<02:07, 90.02it/s]C:\\Users\\kja11\\anaconda3\\Lib\\site-packages\\swan_vis\\utils.py:993: FutureWarning: The behavior of .astype from SparseDtype to a non-sparse dtype is deprecated. In a future version, this will return a non-sparse array with the requested dtype. To retain the old behavior, use `obj.astype(SparseDtype(dtype))`\n",
      "  chi_table = gene_df[counts_cols].to_numpy()\n",
      "Testing for DIE for each gene:  23%|██████████▌                                   | 3367/14684 [00:38<02:02, 92.70it/s]C:\\Users\\kja11\\anaconda3\\Lib\\site-packages\\swan_vis\\utils.py:993: FutureWarning: The behavior of .astype from SparseDtype to a non-sparse dtype is deprecated. In a future version, this will return a non-sparse array with the requested dtype. To retain the old behavior, use `obj.astype(SparseDtype(dtype))`\n",
      "  chi_table = gene_df[counts_cols].to_numpy()\n",
      "Testing for DIE for each gene:  24%|███████████                                   | 3524/14684 [00:39<01:52, 99.28it/s]C:\\Users\\kja11\\anaconda3\\Lib\\site-packages\\swan_vis\\utils.py:993: FutureWarning: The behavior of .astype from SparseDtype to a non-sparse dtype is deprecated. In a future version, this will return a non-sparse array with the requested dtype. To retain the old behavior, use `obj.astype(SparseDtype(dtype))`\n",
      "  chi_table = gene_df[counts_cols].to_numpy()\n",
      "Testing for DIE for each gene:  24%|███████████▏                                  | 3582/14684 [00:40<02:12, 83.56it/s]C:\\Users\\kja11\\anaconda3\\Lib\\site-packages\\swan_vis\\utils.py:993: FutureWarning: The behavior of .astype from SparseDtype to a non-sparse dtype is deprecated. In a future version, this will return a non-sparse array with the requested dtype. To retain the old behavior, use `obj.astype(SparseDtype(dtype))`\n",
      "  chi_table = gene_df[counts_cols].to_numpy()\n",
      "Testing for DIE for each gene:  25%|███████████▍                                  | 3653/14684 [00:41<01:56, 94.59it/s]C:\\Users\\kja11\\anaconda3\\Lib\\site-packages\\swan_vis\\utils.py:993: FutureWarning: The behavior of .astype from SparseDtype to a non-sparse dtype is deprecated. In a future version, this will return a non-sparse array with the requested dtype. To retain the old behavior, use `obj.astype(SparseDtype(dtype))`\n",
      "  chi_table = gene_df[counts_cols].to_numpy()\n",
      "Testing for DIE for each gene:  30%|█████████████▉                                | 4454/14684 [00:50<01:53, 89.96it/s]C:\\Users\\kja11\\anaconda3\\Lib\\site-packages\\swan_vis\\utils.py:993: FutureWarning: The behavior of .astype from SparseDtype to a non-sparse dtype is deprecated. In a future version, this will return a non-sparse array with the requested dtype. To retain the old behavior, use `obj.astype(SparseDtype(dtype))`\n",
      "  chi_table = gene_df[counts_cols].to_numpy()\n",
      "Testing for DIE for each gene:  35%|████████████████▎                             | 5209/14684 [00:57<01:40, 94.25it/s]C:\\Users\\kja11\\anaconda3\\Lib\\site-packages\\swan_vis\\utils.py:993: FutureWarning: The behavior of .astype from SparseDtype to a non-sparse dtype is deprecated. In a future version, this will return a non-sparse array with the requested dtype. To retain the old behavior, use `obj.astype(SparseDtype(dtype))`\n",
      "  chi_table = gene_df[counts_cols].to_numpy()\n",
      "Testing for DIE for each gene:  37%|█████████████████                             | 5442/14684 [01:00<01:41, 90.72it/s]C:\\Users\\kja11\\anaconda3\\Lib\\site-packages\\swan_vis\\utils.py:993: FutureWarning: The behavior of .astype from SparseDtype to a non-sparse dtype is deprecated. In a future version, this will return a non-sparse array with the requested dtype. To retain the old behavior, use `obj.astype(SparseDtype(dtype))`\n",
      "  chi_table = gene_df[counts_cols].to_numpy()\n",
      "Testing for DIE for each gene:  40%|██████████████████▌                           | 5925/14684 [01:05<01:40, 87.38it/s]C:\\Users\\kja11\\anaconda3\\Lib\\site-packages\\swan_vis\\utils.py:993: FutureWarning: The behavior of .astype from SparseDtype to a non-sparse dtype is deprecated. In a future version, this will return a non-sparse array with the requested dtype. To retain the old behavior, use `obj.astype(SparseDtype(dtype))`\n",
      "  chi_table = gene_df[counts_cols].to_numpy()\n",
      "C:\\Users\\kja11\\anaconda3\\Lib\\site-packages\\swan_vis\\utils.py:993: FutureWarning: The behavior of .astype from SparseDtype to a non-sparse dtype is deprecated. In a future version, this will return a non-sparse array with the requested dtype. To retain the old behavior, use `obj.astype(SparseDtype(dtype))`\n",
      "  chi_table = gene_df[counts_cols].to_numpy()\n",
      "Testing for DIE for each gene:  40%|██████████████████▌                           | 5944/14684 [01:06<01:41, 86.39it/s]C:\\Users\\kja11\\anaconda3\\Lib\\site-packages\\swan_vis\\utils.py:993: FutureWarning: The behavior of .astype from SparseDtype to a non-sparse dtype is deprecated. In a future version, this will return a non-sparse array with the requested dtype. To retain the old behavior, use `obj.astype(SparseDtype(dtype))`\n",
      "  chi_table = gene_df[counts_cols].to_numpy()\n"
     ]
    },
    {
     "name": "stderr",
     "output_type": "stream",
     "text": [
      "Testing for DIE for each gene:  42%|███████████████████▏                          | 6116/14684 [01:08<01:32, 93.13it/s]C:\\Users\\kja11\\anaconda3\\Lib\\site-packages\\swan_vis\\utils.py:993: FutureWarning: The behavior of .astype from SparseDtype to a non-sparse dtype is deprecated. In a future version, this will return a non-sparse array with the requested dtype. To retain the old behavior, use `obj.astype(SparseDtype(dtype))`\n",
      "  chi_table = gene_df[counts_cols].to_numpy()\n",
      "Testing for DIE for each gene:  43%|███████████████████▉                          | 6359/14684 [01:10<01:26, 95.84it/s]C:\\Users\\kja11\\anaconda3\\Lib\\site-packages\\swan_vis\\utils.py:993: FutureWarning: The behavior of .astype from SparseDtype to a non-sparse dtype is deprecated. In a future version, this will return a non-sparse array with the requested dtype. To retain the old behavior, use `obj.astype(SparseDtype(dtype))`\n",
      "  chi_table = gene_df[counts_cols].to_numpy()\n",
      "Testing for DIE for each gene:  44%|████████████████████▎                         | 6477/14684 [01:12<01:26, 94.51it/s]C:\\Users\\kja11\\anaconda3\\Lib\\site-packages\\swan_vis\\utils.py:993: FutureWarning: The behavior of .astype from SparseDtype to a non-sparse dtype is deprecated. In a future version, this will return a non-sparse array with the requested dtype. To retain the old behavior, use `obj.astype(SparseDtype(dtype))`\n",
      "  chi_table = gene_df[counts_cols].to_numpy()\n",
      "Testing for DIE for each gene:  45%|████████████████████▏                        | 6594/14684 [01:13<01:20, 100.37it/s]C:\\Users\\kja11\\anaconda3\\Lib\\site-packages\\swan_vis\\utils.py:993: FutureWarning: The behavior of .astype from SparseDtype to a non-sparse dtype is deprecated. In a future version, this will return a non-sparse array with the requested dtype. To retain the old behavior, use `obj.astype(SparseDtype(dtype))`\n",
      "  chi_table = gene_df[counts_cols].to_numpy()\n",
      "Testing for DIE for each gene:  45%|████████████████████▊                         | 6647/14684 [01:14<01:26, 92.64it/s]C:\\Users\\kja11\\anaconda3\\Lib\\site-packages\\swan_vis\\utils.py:993: FutureWarning: The behavior of .astype from SparseDtype to a non-sparse dtype is deprecated. In a future version, this will return a non-sparse array with the requested dtype. To retain the old behavior, use `obj.astype(SparseDtype(dtype))`\n",
      "  chi_table = gene_df[counts_cols].to_numpy()\n",
      "Testing for DIE for each gene:  48%|██████████████████████▏                       | 7079/14684 [01:18<01:19, 95.78it/s]C:\\Users\\kja11\\anaconda3\\Lib\\site-packages\\swan_vis\\utils.py:993: FutureWarning: The behavior of .astype from SparseDtype to a non-sparse dtype is deprecated. In a future version, this will return a non-sparse array with the requested dtype. To retain the old behavior, use `obj.astype(SparseDtype(dtype))`\n",
      "  chi_table = gene_df[counts_cols].to_numpy()\n",
      "Testing for DIE for each gene:  51%|███████████████████████▌                      | 7537/14684 [01:23<01:22, 86.83it/s]C:\\Users\\kja11\\anaconda3\\Lib\\site-packages\\swan_vis\\utils.py:993: FutureWarning: The behavior of .astype from SparseDtype to a non-sparse dtype is deprecated. In a future version, this will return a non-sparse array with the requested dtype. To retain the old behavior, use `obj.astype(SparseDtype(dtype))`\n",
      "  chi_table = gene_df[counts_cols].to_numpy()\n",
      "Testing for DIE for each gene:  59%|███████████████████████████                   | 8651/14684 [01:37<01:08, 88.52it/s]C:\\Users\\kja11\\anaconda3\\Lib\\site-packages\\swan_vis\\utils.py:993: FutureWarning: The behavior of .astype from SparseDtype to a non-sparse dtype is deprecated. In a future version, this will return a non-sparse array with the requested dtype. To retain the old behavior, use `obj.astype(SparseDtype(dtype))`\n",
      "  chi_table = gene_df[counts_cols].to_numpy()\n",
      "Testing for DIE for each gene:  61%|████████████████████████████                  | 8965/14684 [01:41<01:03, 89.78it/s]C:\\Users\\kja11\\anaconda3\\Lib\\site-packages\\swan_vis\\utils.py:993: FutureWarning: The behavior of .astype from SparseDtype to a non-sparse dtype is deprecated. In a future version, this will return a non-sparse array with the requested dtype. To retain the old behavior, use `obj.astype(SparseDtype(dtype))`\n",
      "  chi_table = gene_df[counts_cols].to_numpy()\n",
      "Testing for DIE for each gene:  61%|████████████████████████████▎                 | 9022/14684 [01:42<01:05, 86.23it/s]C:\\Users\\kja11\\anaconda3\\Lib\\site-packages\\swan_vis\\utils.py:993: FutureWarning: The behavior of .astype from SparseDtype to a non-sparse dtype is deprecated. In a future version, this will return a non-sparse array with the requested dtype. To retain the old behavior, use `obj.astype(SparseDtype(dtype))`\n",
      "  chi_table = gene_df[counts_cols].to_numpy()\n",
      "Testing for DIE for each gene:  62%|████████████████████████████▋                 | 9173/14684 [01:43<00:59, 92.45it/s]C:\\Users\\kja11\\anaconda3\\Lib\\site-packages\\swan_vis\\utils.py:993: FutureWarning: The behavior of .astype from SparseDtype to a non-sparse dtype is deprecated. In a future version, this will return a non-sparse array with the requested dtype. To retain the old behavior, use `obj.astype(SparseDtype(dtype))`\n",
      "  chi_table = gene_df[counts_cols].to_numpy()\n",
      "Testing for DIE for each gene:  64%|█████████████████████████████▎                | 9363/14684 [01:45<00:59, 89.91it/s]C:\\Users\\kja11\\anaconda3\\Lib\\site-packages\\swan_vis\\utils.py:993: FutureWarning: The behavior of .astype from SparseDtype to a non-sparse dtype is deprecated. In a future version, this will return a non-sparse array with the requested dtype. To retain the old behavior, use `obj.astype(SparseDtype(dtype))`\n",
      "  chi_table = gene_df[counts_cols].to_numpy()\n",
      "Testing for DIE for each gene:  67%|██████████████████████████████▋               | 9812/14684 [01:51<01:01, 79.16it/s]C:\\Users\\kja11\\anaconda3\\Lib\\site-packages\\swan_vis\\utils.py:993: FutureWarning: The behavior of .astype from SparseDtype to a non-sparse dtype is deprecated. In a future version, this will return a non-sparse array with the requested dtype. To retain the old behavior, use `obj.astype(SparseDtype(dtype))`\n",
      "  chi_table = gene_df[counts_cols].to_numpy()\n",
      "Testing for DIE for each gene:  68%|███████████████████████████████▏              | 9970/14684 [01:52<00:52, 89.16it/s]C:\\Users\\kja11\\anaconda3\\Lib\\site-packages\\swan_vis\\utils.py:993: FutureWarning: The behavior of .astype from SparseDtype to a non-sparse dtype is deprecated. In a future version, this will return a non-sparse array with the requested dtype. To retain the old behavior, use `obj.astype(SparseDtype(dtype))`\n",
      "  chi_table = gene_df[counts_cols].to_numpy()\n",
      "Testing for DIE for each gene:  68%|██████████████████████████████▊              | 10057/14684 [01:53<00:58, 78.64it/s]C:\\Users\\kja11\\anaconda3\\Lib\\site-packages\\swan_vis\\utils.py:993: FutureWarning: The behavior of .astype from SparseDtype to a non-sparse dtype is deprecated. In a future version, this will return a non-sparse array with the requested dtype. To retain the old behavior, use `obj.astype(SparseDtype(dtype))`\n",
      "  chi_table = gene_df[counts_cols].to_numpy()\n",
      "Testing for DIE for each gene:  69%|██████████████████████████████▊              | 10066/14684 [01:53<00:57, 79.67it/s]C:\\Users\\kja11\\anaconda3\\Lib\\site-packages\\swan_vis\\utils.py:993: FutureWarning: The behavior of .astype from SparseDtype to a non-sparse dtype is deprecated. In a future version, this will return a non-sparse array with the requested dtype. To retain the old behavior, use `obj.astype(SparseDtype(dtype))`\n",
      "  chi_table = gene_df[counts_cols].to_numpy()\n",
      "Testing for DIE for each gene:  75%|█████████████████████████████████▋           | 10995/14684 [02:05<00:48, 75.55it/s]C:\\Users\\kja11\\anaconda3\\Lib\\site-packages\\swan_vis\\utils.py:993: FutureWarning: The behavior of .astype from SparseDtype to a non-sparse dtype is deprecated. In a future version, this will return a non-sparse array with the requested dtype. To retain the old behavior, use `obj.astype(SparseDtype(dtype))`\n",
      "  chi_table = gene_df[counts_cols].to_numpy()\n",
      "Testing for DIE for each gene:  76%|█████████████████████████████████▉           | 11091/14684 [02:07<00:57, 62.56it/s]C:\\Users\\kja11\\anaconda3\\Lib\\site-packages\\swan_vis\\utils.py:993: FutureWarning: The behavior of .astype from SparseDtype to a non-sparse dtype is deprecated. In a future version, this will return a non-sparse array with the requested dtype. To retain the old behavior, use `obj.astype(SparseDtype(dtype))`\n",
      "  chi_table = gene_df[counts_cols].to_numpy()\n"
     ]
    },
    {
     "name": "stderr",
     "output_type": "stream",
     "text": [
      "Testing for DIE for each gene:  76%|██████████████████████████████████           | 11135/14684 [02:07<00:42, 82.66it/s]C:\\Users\\kja11\\anaconda3\\Lib\\site-packages\\swan_vis\\utils.py:993: FutureWarning: The behavior of .astype from SparseDtype to a non-sparse dtype is deprecated. In a future version, this will return a non-sparse array with the requested dtype. To retain the old behavior, use `obj.astype(SparseDtype(dtype))`\n",
      "  chi_table = gene_df[counts_cols].to_numpy()\n",
      "Testing for DIE for each gene:  76%|██████████████████████████████████▎          | 11197/14684 [02:08<00:47, 73.41it/s]C:\\Users\\kja11\\anaconda3\\Lib\\site-packages\\swan_vis\\utils.py:993: FutureWarning: The behavior of .astype from SparseDtype to a non-sparse dtype is deprecated. In a future version, this will return a non-sparse array with the requested dtype. To retain the old behavior, use `obj.astype(SparseDtype(dtype))`\n",
      "  chi_table = gene_df[counts_cols].to_numpy()\n",
      "Testing for DIE for each gene:  79%|███████████████████████████████████▎         | 11531/14684 [02:12<00:39, 79.16it/s]C:\\Users\\kja11\\anaconda3\\Lib\\site-packages\\swan_vis\\utils.py:993: FutureWarning: The behavior of .astype from SparseDtype to a non-sparse dtype is deprecated. In a future version, this will return a non-sparse array with the requested dtype. To retain the old behavior, use `obj.astype(SparseDtype(dtype))`\n",
      "  chi_table = gene_df[counts_cols].to_numpy()\n",
      "Testing for DIE for each gene:  80%|███████████████████████████████████▉         | 11727/14684 [02:15<00:36, 81.83it/s]C:\\Users\\kja11\\anaconda3\\Lib\\site-packages\\swan_vis\\utils.py:993: FutureWarning: The behavior of .astype from SparseDtype to a non-sparse dtype is deprecated. In a future version, this will return a non-sparse array with the requested dtype. To retain the old behavior, use `obj.astype(SparseDtype(dtype))`\n",
      "  chi_table = gene_df[counts_cols].to_numpy()\n",
      "Testing for DIE for each gene:  81%|████████████████████████████████████▎        | 11838/14684 [02:16<00:39, 71.40it/s]C:\\Users\\kja11\\anaconda3\\Lib\\site-packages\\swan_vis\\utils.py:993: FutureWarning: The behavior of .astype from SparseDtype to a non-sparse dtype is deprecated. In a future version, this will return a non-sparse array with the requested dtype. To retain the old behavior, use `obj.astype(SparseDtype(dtype))`\n",
      "  chi_table = gene_df[counts_cols].to_numpy()\n",
      "Testing for DIE for each gene:  82%|████████████████████████████████████▊        | 12006/14684 [02:18<00:45, 58.66it/s]C:\\Users\\kja11\\anaconda3\\Lib\\site-packages\\swan_vis\\utils.py:993: FutureWarning: The behavior of .astype from SparseDtype to a non-sparse dtype is deprecated. In a future version, this will return a non-sparse array with the requested dtype. To retain the old behavior, use `obj.astype(SparseDtype(dtype))`\n",
      "  chi_table = gene_df[counts_cols].to_numpy()\n",
      "Testing for DIE for each gene:  82%|█████████████████████████████████████        | 12109/14684 [02:20<00:29, 87.62it/s]C:\\Users\\kja11\\anaconda3\\Lib\\site-packages\\swan_vis\\utils.py:993: FutureWarning: The behavior of .astype from SparseDtype to a non-sparse dtype is deprecated. In a future version, this will return a non-sparse array with the requested dtype. To retain the old behavior, use `obj.astype(SparseDtype(dtype))`\n",
      "  chi_table = gene_df[counts_cols].to_numpy()\n",
      "Testing for DIE for each gene:  89%|████████████████████████████████████████     | 13080/14684 [02:31<00:16, 97.23it/s]C:\\Users\\kja11\\anaconda3\\Lib\\site-packages\\swan_vis\\utils.py:993: FutureWarning: The behavior of .astype from SparseDtype to a non-sparse dtype is deprecated. In a future version, this will return a non-sparse array with the requested dtype. To retain the old behavior, use `obj.astype(SparseDtype(dtype))`\n",
      "  chi_table = gene_df[counts_cols].to_numpy()\n",
      "Testing for DIE for each gene:  90%|████████████████████████████████████████▋    | 13270/14684 [02:33<00:15, 89.92it/s]C:\\Users\\kja11\\anaconda3\\Lib\\site-packages\\swan_vis\\utils.py:993: FutureWarning: The behavior of .astype from SparseDtype to a non-sparse dtype is deprecated. In a future version, this will return a non-sparse array with the requested dtype. To retain the old behavior, use `obj.astype(SparseDtype(dtype))`\n",
      "  chi_table = gene_df[counts_cols].to_numpy()\n",
      "Testing for DIE for each gene:  91%|████████████████████████████████████████▉    | 13338/14684 [02:34<00:14, 92.83it/s]C:\\Users\\kja11\\anaconda3\\Lib\\site-packages\\swan_vis\\utils.py:993: FutureWarning: The behavior of .astype from SparseDtype to a non-sparse dtype is deprecated. In a future version, this will return a non-sparse array with the requested dtype. To retain the old behavior, use `obj.astype(SparseDtype(dtype))`\n",
      "  chi_table = gene_df[counts_cols].to_numpy()\n",
      "Testing for DIE for each gene:  96%|███████████████████████████████████████████  | 14068/14684 [02:42<00:06, 90.33it/s]C:\\Users\\kja11\\anaconda3\\Lib\\site-packages\\swan_vis\\utils.py:993: FutureWarning: The behavior of .astype from SparseDtype to a non-sparse dtype is deprecated. In a future version, this will return a non-sparse array with the requested dtype. To retain the old behavior, use `obj.astype(SparseDtype(dtype))`\n",
      "  chi_table = gene_df[counts_cols].to_numpy()\n",
      "Testing for DIE for each gene:  97%|███████████████████████████████████████████▋ | 14258/14684 [02:44<00:05, 85.05it/s]C:\\Users\\kja11\\anaconda3\\Lib\\site-packages\\swan_vis\\utils.py:993: FutureWarning: The behavior of .astype from SparseDtype to a non-sparse dtype is deprecated. In a future version, this will return a non-sparse array with the requested dtype. To retain the old behavior, use `obj.astype(SparseDtype(dtype))`\n",
      "  chi_table = gene_df[counts_cols].to_numpy()\n",
      "Testing for DIE for each gene: 100%|█████████████████████████████████████████████| 14684/14684 [02:49<00:00, 86.59it/s]\n"
     ]
    }
   ],
   "source": [
    "# find genes that exhibit DIE between HFFc6 and HepG2\n",
    "obs_col = 'cell_line'\n",
    "obs_conditions = ['hepg2', 'hffc6']\n",
    "die_table, die_results = sg.die_gene_test(obs_col=obs_col,\n",
    "                                          obs_conditions=obs_conditions,\n",
    "                                          verbose=True)"
   ]
  },
  {
   "cell_type": "code",
   "execution_count": 35,
   "id": "b825107a",
   "metadata": {},
   "outputs": [
    {
     "name": "stdout",
     "output_type": "stream",
     "text": [
      "  seqname  source     feature  start    end score strand frame  \\\n",
      "0    chr1  HAVANA        gene  11869  14409     .      +     .   \n",
      "1    chr1  HAVANA  transcript  11869  14409     .      +     .   \n",
      "2    chr1  HAVANA        exon  11869  12227     .      +     .   \n",
      "3    chr1  HAVANA        exon  12613  12721     .      +     .   \n",
      "4    chr1  HAVANA        exon  13221  14409     .      +     .   \n",
      "\n",
      "                                           attribute  \n",
      "0  gene_id \"ENSG00000223972.5\"; gene_type \"transc...  \n",
      "1  gene_id \"ENSG00000223972.5\"; transcript_id \"EN...  \n",
      "2  gene_id \"ENSG00000223972.5\"; transcript_id \"EN...  \n",
      "3  gene_id \"ENSG00000223972.5\"; transcript_id \"EN...  \n",
      "4  gene_id \"ENSG00000223972.5\"; transcript_id \"EN...  \n"
     ]
    }
   ],
   "source": [
    "# Read the GTF file\n",
    "annot_df = pandas.read_csv(annot_gtf, sep='\\t', comment='#', header=None)\n",
    "\n",
    "# Optionally, you can specify the column names for better readability\n",
    "annot_df.columns = [\n",
    "    'seqname', 'source', 'feature', 'start', 'end',\n",
    "    'score', 'strand', 'frame', 'attribute'\n",
    "]\n",
    "\n",
    "# Display the first few rows of the DataFrame\n",
    "print(annot_df.head())"
   ]
  },
  {
   "cell_type": "code",
   "execution_count": 36,
   "id": "1e960e99",
   "metadata": {},
   "outputs": [
    {
     "name": "stderr",
     "output_type": "stream",
     "text": [
      "C:\\Users\\kja11\\AppData\\Local\\Temp\\ipykernel_25240\\4178251031.py:2: DtypeWarning: Columns (0) have mixed types. Specify dtype option on import or set low_memory=False.\n",
      "  gtf_df = pandas.read_csv(gtf_transcripts, sep='\\t', comment='#', header=None)\n"
     ]
    },
    {
     "name": "stdout",
     "output_type": "stream",
     "text": [
      "  seqname  source      feature    start      end score strand frame  \\\n",
      "0       1  havana   transcript  3069168  3434342     .      +     .   \n",
      "1       1  havana         exon  3069168  3069296     .      +     .   \n",
      "2       1  havana          CDS  3069260  3069296     .      +     0   \n",
      "3       1  havana  start_codon  3069260  3069262     .      +     0   \n",
      "4       1  havana         exon  3186125  3186474     .      +     .   \n",
      "\n",
      "                                           attribute  \n",
      "0  gene_id \"ENSG00000142611\"; gene_version \"17\"; ...  \n",
      "1  gene_id \"ENSG00000142611\"; gene_version \"17\"; ...  \n",
      "2  gene_id \"ENSG00000142611\"; gene_version \"17\"; ...  \n",
      "3  gene_id \"ENSG00000142611\"; gene_version \"17\"; ...  \n",
      "4  gene_id \"ENSG00000142611\"; gene_version \"17\"; ...  \n"
     ]
    }
   ],
   "source": [
    "# Display the first few rows of the DataFrame\n",
    "print(gtf_df.head())"
   ]
  },
  {
   "cell_type": "code",
   "execution_count": 75,
   "id": "68f077fc",
   "metadata": {
    "collapsed": true
   },
   "outputs": [
    {
     "name": "stdout",
     "output_type": "stream",
     "text": [
      "Analyzing 855 intronic edges for ES\n"
     ]
    },
    {
     "ename": "KeyboardInterrupt",
     "evalue": "",
     "output_type": "error",
     "traceback": [
      "\u001b[1;31m---------------------------------------------------------------------------\u001b[0m",
      "\u001b[1;31mKeyboardInterrupt\u001b[0m                         Traceback (most recent call last)",
      "File \u001b[1;32m<timed exec>:1\u001b[0m\n",
      "File \u001b[1;32m~\\anaconda3\\Lib\\site-packages\\swan_vis\\swangraph.py:1603\u001b[0m, in \u001b[0;36mSwanGraph.find_es_genes\u001b[1;34m(self, verbose)\u001b[0m\n\u001b[0;32m   1601\u001b[0m sub_G \u001b[38;5;241m=\u001b[39m \u001b[38;5;28mself\u001b[39m\u001b[38;5;241m.\u001b[39mG\u001b[38;5;241m.\u001b[39msubgraph(sub_nodes)\n\u001b[0;32m   1602\u001b[0m sub_edges \u001b[38;5;241m=\u001b[39m \u001b[38;5;28mlist\u001b[39m(sub_G\u001b[38;5;241m.\u001b[39medges())\n\u001b[1;32m-> 1603\u001b[0m \u001b[38;5;28mself\u001b[39m\u001b[38;5;241m.\u001b[39medge_df[\u001b[38;5;124m'\u001b[39m\u001b[38;5;124mtuple_edge_id\u001b[39m\u001b[38;5;124m'\u001b[39m] \u001b[38;5;241m=\u001b[39m \u001b[38;5;28mself\u001b[39m\u001b[38;5;241m.\u001b[39medge_df[[\u001b[38;5;124m'\u001b[39m\u001b[38;5;124mv1\u001b[39m\u001b[38;5;124m'\u001b[39m, \u001b[38;5;124m'\u001b[39m\u001b[38;5;124mv2\u001b[39m\u001b[38;5;124m'\u001b[39m]]\u001b[38;5;241m.\u001b[39mapply(\u001b[38;5;28mtuple\u001b[39m, axis\u001b[38;5;241m=\u001b[39m\u001b[38;5;241m1\u001b[39m)\n\u001b[0;32m   1604\u001b[0m sub_edges \u001b[38;5;241m=\u001b[39m \u001b[38;5;28mself\u001b[39m\u001b[38;5;241m.\u001b[39medge_df\u001b[38;5;241m.\u001b[39mloc[\u001b[38;5;28mself\u001b[39m\u001b[38;5;241m.\u001b[39medge_df\u001b[38;5;241m.\u001b[39mtuple_edge_id\u001b[38;5;241m.\u001b[39misin(sub_edges)]\n\u001b[0;32m   1605\u001b[0m \u001b[38;5;28mself\u001b[39m\u001b[38;5;241m.\u001b[39medge_df\u001b[38;5;241m.\u001b[39mdrop(\u001b[38;5;124m'\u001b[39m\u001b[38;5;124mtuple_edge_id\u001b[39m\u001b[38;5;124m'\u001b[39m, axis\u001b[38;5;241m=\u001b[39m\u001b[38;5;241m1\u001b[39m, inplace\u001b[38;5;241m=\u001b[39m\u001b[38;5;28;01mTrue\u001b[39;00m)\n",
      "File \u001b[1;32m~\\anaconda3\\Lib\\site-packages\\pandas\\core\\frame.py:9568\u001b[0m, in \u001b[0;36mDataFrame.apply\u001b[1;34m(self, func, axis, raw, result_type, args, **kwargs)\u001b[0m\n\u001b[0;32m   9557\u001b[0m \u001b[38;5;28;01mfrom\u001b[39;00m \u001b[38;5;21;01mpandas\u001b[39;00m\u001b[38;5;21;01m.\u001b[39;00m\u001b[38;5;21;01mcore\u001b[39;00m\u001b[38;5;21;01m.\u001b[39;00m\u001b[38;5;21;01mapply\u001b[39;00m \u001b[38;5;28;01mimport\u001b[39;00m frame_apply\n\u001b[0;32m   9559\u001b[0m op \u001b[38;5;241m=\u001b[39m frame_apply(\n\u001b[0;32m   9560\u001b[0m     \u001b[38;5;28mself\u001b[39m,\n\u001b[0;32m   9561\u001b[0m     func\u001b[38;5;241m=\u001b[39mfunc,\n\u001b[1;32m   (...)\u001b[0m\n\u001b[0;32m   9566\u001b[0m     kwargs\u001b[38;5;241m=\u001b[39mkwargs,\n\u001b[0;32m   9567\u001b[0m )\n\u001b[1;32m-> 9568\u001b[0m \u001b[38;5;28;01mreturn\u001b[39;00m op\u001b[38;5;241m.\u001b[39mapply()\u001b[38;5;241m.\u001b[39m__finalize__(\u001b[38;5;28mself\u001b[39m, method\u001b[38;5;241m=\u001b[39m\u001b[38;5;124m\"\u001b[39m\u001b[38;5;124mapply\u001b[39m\u001b[38;5;124m\"\u001b[39m)\n",
      "File \u001b[1;32m~\\anaconda3\\Lib\\site-packages\\pandas\\core\\apply.py:764\u001b[0m, in \u001b[0;36mFrameApply.apply\u001b[1;34m(self)\u001b[0m\n\u001b[0;32m    761\u001b[0m \u001b[38;5;28;01melif\u001b[39;00m \u001b[38;5;28mself\u001b[39m\u001b[38;5;241m.\u001b[39mraw:\n\u001b[0;32m    762\u001b[0m     \u001b[38;5;28;01mreturn\u001b[39;00m \u001b[38;5;28mself\u001b[39m\u001b[38;5;241m.\u001b[39mapply_raw()\n\u001b[1;32m--> 764\u001b[0m \u001b[38;5;28;01mreturn\u001b[39;00m \u001b[38;5;28mself\u001b[39m\u001b[38;5;241m.\u001b[39mapply_standard()\n",
      "File \u001b[1;32m~\\anaconda3\\Lib\\site-packages\\pandas\\core\\apply.py:891\u001b[0m, in \u001b[0;36mFrameApply.apply_standard\u001b[1;34m(self)\u001b[0m\n\u001b[0;32m    890\u001b[0m \u001b[38;5;28;01mdef\u001b[39;00m \u001b[38;5;21mapply_standard\u001b[39m(\u001b[38;5;28mself\u001b[39m):\n\u001b[1;32m--> 891\u001b[0m     results, res_index \u001b[38;5;241m=\u001b[39m \u001b[38;5;28mself\u001b[39m\u001b[38;5;241m.\u001b[39mapply_series_generator()\n\u001b[0;32m    893\u001b[0m     \u001b[38;5;66;03m# wrap results\u001b[39;00m\n\u001b[0;32m    894\u001b[0m     \u001b[38;5;28;01mreturn\u001b[39;00m \u001b[38;5;28mself\u001b[39m\u001b[38;5;241m.\u001b[39mwrap_results(results, res_index)\n",
      "File \u001b[1;32m~\\anaconda3\\Lib\\site-packages\\pandas\\core\\apply.py:908\u001b[0m, in \u001b[0;36mFrameApply.apply_series_generator\u001b[1;34m(self)\u001b[0m\n\u001b[0;32m    905\u001b[0m     \u001b[38;5;28;01mfor\u001b[39;00m i, v \u001b[38;5;129;01min\u001b[39;00m \u001b[38;5;28menumerate\u001b[39m(series_gen):\n\u001b[0;32m    906\u001b[0m         \u001b[38;5;66;03m# ignore SettingWithCopy here in case the user mutates\u001b[39;00m\n\u001b[0;32m    907\u001b[0m         results[i] \u001b[38;5;241m=\u001b[39m \u001b[38;5;28mself\u001b[39m\u001b[38;5;241m.\u001b[39mf(v)\n\u001b[1;32m--> 908\u001b[0m         \u001b[38;5;28;01mif\u001b[39;00m \u001b[38;5;28misinstance\u001b[39m(results[i], ABCSeries):\n\u001b[0;32m    909\u001b[0m             \u001b[38;5;66;03m# If we have a view on v, we need to make a copy because\u001b[39;00m\n\u001b[0;32m    910\u001b[0m             \u001b[38;5;66;03m#  series_generator will swap out the underlying data\u001b[39;00m\n\u001b[0;32m    911\u001b[0m             results[i] \u001b[38;5;241m=\u001b[39m results[i]\u001b[38;5;241m.\u001b[39mcopy(deep\u001b[38;5;241m=\u001b[39m\u001b[38;5;28;01mFalse\u001b[39;00m)\n\u001b[0;32m    913\u001b[0m \u001b[38;5;28;01mreturn\u001b[39;00m results, res_index\n",
      "File \u001b[1;32m~\\anaconda3\\Lib\\site-packages\\pandas\\core\\dtypes\\generic.py:45\u001b[0m, in \u001b[0;36mcreate_pandas_abc_type.<locals>._instancecheck\u001b[1;34m(cls, inst)\u001b[0m\n\u001b[0;32m     41\u001b[0m     \u001b[38;5;28;01mreturn\u001b[39;00m \u001b[38;5;28mgetattr\u001b[39m(inst, attr, \u001b[38;5;124m\"\u001b[39m\u001b[38;5;124m_typ\u001b[39m\u001b[38;5;124m\"\u001b[39m) \u001b[38;5;129;01min\u001b[39;00m comp\n\u001b[0;32m     43\u001b[0m \u001b[38;5;66;03m# https://github.com/python/mypy/issues/1006\u001b[39;00m\n\u001b[0;32m     44\u001b[0m \u001b[38;5;66;03m# error: 'classmethod' used with a non-method\u001b[39;00m\n\u001b[1;32m---> 45\u001b[0m \u001b[38;5;129m@classmethod\u001b[39m  \u001b[38;5;66;03m# type: ignore[misc]\u001b[39;00m\n\u001b[0;32m     46\u001b[0m \u001b[38;5;28;01mdef\u001b[39;00m \u001b[38;5;21m_instancecheck\u001b[39m(\u001b[38;5;28mcls\u001b[39m, inst) \u001b[38;5;241m-\u001b[39m\u001b[38;5;241m>\u001b[39m \u001b[38;5;28mbool\u001b[39m:\n\u001b[0;32m     47\u001b[0m     \u001b[38;5;28;01mreturn\u001b[39;00m _check(inst) \u001b[38;5;129;01mand\u001b[39;00m \u001b[38;5;129;01mnot\u001b[39;00m \u001b[38;5;28misinstance\u001b[39m(inst, \u001b[38;5;28mtype\u001b[39m)\n\u001b[0;32m     49\u001b[0m \u001b[38;5;129m@classmethod\u001b[39m  \u001b[38;5;66;03m# type: ignore[misc]\u001b[39;00m\n\u001b[0;32m     50\u001b[0m \u001b[38;5;28;01mdef\u001b[39;00m \u001b[38;5;21m_subclasscheck\u001b[39m(\u001b[38;5;28mcls\u001b[39m, inst) \u001b[38;5;241m-\u001b[39m\u001b[38;5;241m>\u001b[39m \u001b[38;5;28mbool\u001b[39m:\n\u001b[0;32m     51\u001b[0m     \u001b[38;5;66;03m# Raise instead of returning False\u001b[39;00m\n\u001b[0;32m     52\u001b[0m     \u001b[38;5;66;03m# This is consistent with default __subclasscheck__ behavior\u001b[39;00m\n",
      "\u001b[1;31mKeyboardInterrupt\u001b[0m: "
     ]
    }
   ],
   "source": [
    "%%time\n",
    "es_genes, es_transcripts = sg.find_es_genes()"
   ]
  },
  {
   "cell_type": "code",
   "execution_count": 76,
   "id": "5c3e8c7a",
   "metadata": {
    "collapsed": true
   },
   "outputs": [
    {
     "name": "stdout",
     "output_type": "stream",
     "text": [
      "Analyzing 1186 exonic edges for IR\n",
      "Unexpected exception formatting exception. Falling back to standard exception\n"
     ]
    },
    {
     "name": "stderr",
     "output_type": "stream",
     "text": [
      "Traceback (most recent call last):\n",
      "  File \"C:\\Users\\kja11\\anaconda3\\Lib\\site-packages\\IPython\\core\\magics\\execution.py\", line 1340, in time\n",
      "    exec(code, glob, local_ns)\n",
      "  File \"<timed exec>\", line 1, in <module>\n",
      "  File \"C:\\Users\\kja11\\anaconda3\\Lib\\site-packages\\swan_vis\\swangraph.py\", line 1501, in find_ir_genes\n",
      "    self.edge_df['tuple_edge_id'] = self.edge_df[['v1', 'v2']].apply(tuple, axis=1)\n",
      "                                    ^^^^^^^^^^^^^^^^^^^^^^^^^^^^^^^^^^^^^^^^^^^^^^^\n",
      "  File \"C:\\Users\\kja11\\anaconda3\\Lib\\site-packages\\pandas\\core\\frame.py\", line 9568, in apply\n",
      "    return op.apply().__finalize__(self, method=\"apply\")\n",
      "           ^^^^^^^^^^\n",
      "  File \"C:\\Users\\kja11\\anaconda3\\Lib\\site-packages\\pandas\\core\\apply.py\", line 764, in apply\n",
      "    return self.apply_standard()\n",
      "           ^^^^^^^^^^^^^^^^^^^^^\n",
      "  File \"C:\\Users\\kja11\\anaconda3\\Lib\\site-packages\\pandas\\core\\apply.py\", line 891, in apply_standard\n",
      "    results, res_index = self.apply_series_generator()\n",
      "                         ^^^^^^^^^^^^^^^^^^^^^^^^^^^^^\n",
      "  File \"C:\\Users\\kja11\\anaconda3\\Lib\\site-packages\\pandas\\core\\apply.py\", line 905, in apply_series_generator\n",
      "    for i, v in enumerate(series_gen):\n",
      "  File \"C:\\Users\\kja11\\anaconda3\\Lib\\site-packages\\pandas\\core\\apply.py\", line 1037, in series_generator\n",
      "    ser._mgr = mgr\n",
      "    ^^^^^^^^\n",
      "  File \"C:\\Users\\kja11\\anaconda3\\Lib\\site-packages\\pandas\\core\\generic.py\", line 5914, in __setattr__\n",
      "    object.__getattribute__(self, name)\n",
      "KeyboardInterrupt\n",
      "\n",
      "During handling of the above exception, another exception occurred:\n",
      "\n",
      "Traceback (most recent call last):\n",
      "  File \"C:\\Users\\kja11\\anaconda3\\Lib\\site-packages\\IPython\\core\\interactiveshell.py\", line 2120, in showtraceback\n",
      "    stb = self.InteractiveTB.structured_traceback(\n",
      "          ^^^^^^^^^^^^^^^^^^^^^^^^^^^^^^^^^^^^^^^^\n",
      "  File \"C:\\Users\\kja11\\anaconda3\\Lib\\site-packages\\IPython\\core\\ultratb.py\", line 1435, in structured_traceback\n",
      "    return FormattedTB.structured_traceback(\n",
      "           ^^^^^^^^^^^^^^^^^^^^^^^^^^^^^^^^^\n",
      "  File \"C:\\Users\\kja11\\anaconda3\\Lib\\site-packages\\IPython\\core\\ultratb.py\", line 1326, in structured_traceback\n",
      "    return VerboseTB.structured_traceback(\n",
      "           ^^^^^^^^^^^^^^^^^^^^^^^^^^^^^^^\n",
      "  File \"C:\\Users\\kja11\\anaconda3\\Lib\\site-packages\\IPython\\core\\ultratb.py\", line 1173, in structured_traceback\n",
      "    formatted_exception = self.format_exception_as_a_whole(etype, evalue, etb, number_of_lines_of_context,\n",
      "                          ^^^^^^^^^^^^^^^^^^^^^^^^^^^^^^^^^^^^^^^^^^^^^^^^^^^^^^^^^^^^^^^^^^^^^^^^^^^^^^^^\n",
      "  File \"C:\\Users\\kja11\\anaconda3\\Lib\\site-packages\\IPython\\core\\ultratb.py\", line 1063, in format_exception_as_a_whole\n",
      "    self.get_records(etb, number_of_lines_of_context, tb_offset) if etb else []\n",
      "    ^^^^^^^^^^^^^^^^^^^^^^^^^^^^^^^^^^^^^^^^^^^^^^^^^^^^^^^^^^^^\n",
      "  File \"C:\\Users\\kja11\\anaconda3\\Lib\\site-packages\\IPython\\core\\ultratb.py\", line 1155, in get_records\n",
      "    FrameInfo(\n",
      "  File \"C:\\Users\\kja11\\anaconda3\\Lib\\site-packages\\IPython\\core\\ultratb.py\", line 780, in __init__\n",
      "    ix = inspect.getsourcelines(frame)\n",
      "         ^^^^^^^^^^^^^^^^^^^^^^^^^^^^^\n",
      "  File \"C:\\Users\\kja11\\anaconda3\\Lib\\inspect.py\", line 1244, in getsourcelines\n",
      "    lines, lnum = findsource(object)\n",
      "                  ^^^^^^^^^^^^^^^^^^\n",
      "  File \"C:\\Users\\kja11\\anaconda3\\Lib\\inspect.py\", line 1081, in findsource\n",
      "    raise OSError('could not get source code')\n",
      "OSError: could not get source code\n"
     ]
    }
   ],
   "source": [
    "%%time\n",
    "ir_genes, ir_transcripts = sg.find_ir_genes()"
   ]
  },
  {
   "cell_type": "code",
   "execution_count": 29,
   "id": "246fad6e",
   "metadata": {},
   "outputs": [
    {
     "data": {
      "text/html": [
       "<div>\n",
       "<style scoped>\n",
       "    .dataframe tbody tr th:only-of-type {\n",
       "        vertical-align: middle;\n",
       "    }\n",
       "\n",
       "    .dataframe tbody tr th {\n",
       "        vertical-align: top;\n",
       "    }\n",
       "\n",
       "    .dataframe thead th {\n",
       "        text-align: right;\n",
       "    }\n",
       "</style>\n",
       "<table border=\"1\" class=\"dataframe\">\n",
       "  <thead>\n",
       "    <tr style=\"text-align: right;\">\n",
       "      <th></th>\n",
       "      <th>gene_id</th>\n",
       "      <th>gene_name</th>\n",
       "      <th>feature_id</th>\n",
       "      <th>s37rep2</th>\n",
       "      <th>s32rep3</th>\n",
       "      <th>s37rep1</th>\n",
       "      <th>s37rep3</th>\n",
       "      <th>s32rep1</th>\n",
       "      <th>s32rep2</th>\n",
       "    </tr>\n",
       "  </thead>\n",
       "  <tbody>\n",
       "    <tr>\n",
       "      <th>0</th>\n",
       "      <td>ENSG00000198034</td>\n",
       "      <td>RPS4X</td>\n",
       "      <td>ENST00000316084</td>\n",
       "      <td>232646</td>\n",
       "      <td>199874</td>\n",
       "      <td>190685</td>\n",
       "      <td>196125</td>\n",
       "      <td>160799</td>\n",
       "      <td>177622</td>\n",
       "    </tr>\n",
       "    <tr>\n",
       "      <th>1</th>\n",
       "      <td>ENSG00000142937</td>\n",
       "      <td>RPS8</td>\n",
       "      <td>ENST00000396651</td>\n",
       "      <td>191357</td>\n",
       "      <td>163277</td>\n",
       "      <td>156765</td>\n",
       "      <td>160123</td>\n",
       "      <td>133777</td>\n",
       "      <td>150626</td>\n",
       "    </tr>\n",
       "    <tr>\n",
       "      <th>2</th>\n",
       "      <td>ENSG00000182774</td>\n",
       "      <td>RPS17</td>\n",
       "      <td>ENST00000647841</td>\n",
       "      <td>188996</td>\n",
       "      <td>163258</td>\n",
       "      <td>157911</td>\n",
       "      <td>153051</td>\n",
       "      <td>133896</td>\n",
       "      <td>156007</td>\n",
       "    </tr>\n",
       "    <tr>\n",
       "      <th>3</th>\n",
       "      <td>ENSG00000229117</td>\n",
       "      <td>RPL41</td>\n",
       "      <td>ENST00000546591</td>\n",
       "      <td>182501</td>\n",
       "      <td>170503</td>\n",
       "      <td>142081</td>\n",
       "      <td>168055</td>\n",
       "      <td>126151</td>\n",
       "      <td>146154</td>\n",
       "    </tr>\n",
       "    <tr>\n",
       "      <th>4</th>\n",
       "      <td>ENSG00000142937</td>\n",
       "      <td>RPS8</td>\n",
       "      <td>ENST00000485390</td>\n",
       "      <td>182336</td>\n",
       "      <td>155347</td>\n",
       "      <td>148909</td>\n",
       "      <td>154214</td>\n",
       "      <td>126332</td>\n",
       "      <td>142296</td>\n",
       "    </tr>\n",
       "  </tbody>\n",
       "</table>\n",
       "</div>"
      ],
      "text/plain": [
       "           gene_id gene_name       feature_id  s37rep2  s32rep3  s37rep1  \\\n",
       "0  ENSG00000198034     RPS4X  ENST00000316084   232646   199874   190685   \n",
       "1  ENSG00000142937      RPS8  ENST00000396651   191357   163277   156765   \n",
       "2  ENSG00000182774     RPS17  ENST00000647841   188996   163258   157911   \n",
       "3  ENSG00000229117     RPL41  ENST00000546591   182501   170503   142081   \n",
       "4  ENSG00000142937      RPS8  ENST00000485390   182336   155347   148909   \n",
       "\n",
       "   s37rep3  s32rep1  s32rep2  \n",
       "0   196125   160799   177622  \n",
       "1   160123   133777   150626  \n",
       "2   153051   133896   156007  \n",
       "3   168055   126151   146154  \n",
       "4   154214   126332   142296  "
      ]
     },
     "execution_count": 29,
     "metadata": {},
     "output_type": "execute_result"
    }
   ],
   "source": [
    "df_transcripts.head()"
   ]
  },
  {
   "cell_type": "code",
   "execution_count": 37,
   "id": "b234db9c",
   "metadata": {
    "collapsed": true
   },
   "outputs": [
    {
     "ename": "Exception",
     "evalue": "File type must be gtf or db. Type received is fa",
     "output_type": "error",
     "traceback": [
      "\u001b[1;31m---------------------------------------------------------------------------\u001b[0m",
      "\u001b[1;31mException\u001b[0m                                 Traceback (most recent call last)",
      "File \u001b[1;32m<timed exec>:4\u001b[0m\n",
      "File \u001b[1;32m~\\anaconda3\\Lib\\site-packages\\swan_vis\\swangraph.py:129\u001b[0m, in \u001b[0;36mSwanGraph.add_annotation\u001b[1;34m(self, fname, verbose)\u001b[0m\n\u001b[0;32m    126\u001b[0m \t\u001b[38;5;28;01mraise\u001b[39;00m \u001b[38;5;167;01mValueError\u001b[39;00m(\u001b[38;5;124m'\u001b[39m\u001b[38;5;124mAnnotation already added to SwanGraph\u001b[39m\u001b[38;5;124m'\u001b[39m)\n\u001b[0;32m    128\u001b[0m \u001b[38;5;66;03m# use the add_dataset function to add stuff to graph\u001b[39;00m\n\u001b[1;32m--> 129\u001b[0m \u001b[38;5;28mself\u001b[39m\u001b[38;5;241m.\u001b[39madd_dataset(fname, include_isms\u001b[38;5;241m=\u001b[39m\u001b[38;5;28;01mTrue\u001b[39;00m, \\\n\u001b[0;32m    130\u001b[0m \tannotation\u001b[38;5;241m=\u001b[39m\u001b[38;5;28;01mTrue\u001b[39;00m, verbose\u001b[38;5;241m=\u001b[39mverbose)\n\u001b[0;32m    132\u001b[0m \u001b[38;5;66;03m# call all transcripts from the annotation \"Known\"\u001b[39;00m\n\u001b[0;32m    133\u001b[0m \u001b[38;5;28mself\u001b[39m\u001b[38;5;241m.\u001b[39mt_df\u001b[38;5;241m.\u001b[39mloc[\u001b[38;5;28mself\u001b[39m\u001b[38;5;241m.\u001b[39mt_df\u001b[38;5;241m.\u001b[39mannotation \u001b[38;5;241m==\u001b[39m \u001b[38;5;28;01mTrue\u001b[39;00m, \u001b[38;5;124m'\u001b[39m\u001b[38;5;124mnovelty\u001b[39m\u001b[38;5;124m'\u001b[39m] \u001b[38;5;241m=\u001b[39m \u001b[38;5;124m'\u001b[39m\u001b[38;5;124mKnown\u001b[39m\u001b[38;5;124m'\u001b[39m\n",
      "File \u001b[1;32m~\\anaconda3\\Lib\\site-packages\\swan_vis\\swangraph.py:188\u001b[0m, in \u001b[0;36mSwanGraph.add_dataset\u001b[1;34m(self, fname, pass_list, include_isms, annotation, verbose)\u001b[0m\n\u001b[0;32m    172\u001b[0m \u001b[38;5;250m\u001b[39m\u001b[38;5;124;03m\"\"\"\u001b[39;00m\n\u001b[0;32m    173\u001b[0m \u001b[38;5;124;03mAdd transcripts from a dataset from either a GTF or a TALON database.\u001b[39;00m\n\u001b[0;32m    174\u001b[0m \n\u001b[1;32m   (...)\u001b[0m\n\u001b[0;32m    184\u001b[0m \u001b[38;5;124;03m\t\tDefault: False\u001b[39;00m\n\u001b[0;32m    185\u001b[0m \u001b[38;5;124;03m\"\"\"\u001b[39;00m\n\u001b[0;32m    187\u001b[0m \u001b[38;5;66;03m# are we dealing with a gtf or a db?\u001b[39;00m\n\u001b[1;32m--> 188\u001b[0m ftype \u001b[38;5;241m=\u001b[39m gtf_or_db(fname)\n\u001b[0;32m    190\u001b[0m \u001b[38;5;28;01mif\u001b[39;00m annotation:\n\u001b[0;32m    191\u001b[0m \tdata \u001b[38;5;241m=\u001b[39m \u001b[38;5;124m'\u001b[39m\u001b[38;5;124mannotation\u001b[39m\u001b[38;5;124m'\u001b[39m\n",
      "File \u001b[1;32m~\\anaconda3\\Lib\\site-packages\\swan_vis\\utils.py:187\u001b[0m, in \u001b[0;36mgtf_or_db\u001b[1;34m(fname)\u001b[0m\n\u001b[0;32m    185\u001b[0m \u001b[38;5;28;01melif\u001b[39;00m ext \u001b[38;5;241m==\u001b[39m \u001b[38;5;124m'\u001b[39m\u001b[38;5;124mdb\u001b[39m\u001b[38;5;124m'\u001b[39m: \u001b[38;5;28;01mreturn\u001b[39;00m \u001b[38;5;124m'\u001b[39m\u001b[38;5;124mdb\u001b[39m\u001b[38;5;124m'\u001b[39m\n\u001b[0;32m    186\u001b[0m \u001b[38;5;28;01melse\u001b[39;00m:\n\u001b[1;32m--> 187\u001b[0m \t\u001b[38;5;28;01mraise\u001b[39;00m \u001b[38;5;167;01mException\u001b[39;00m(\u001b[38;5;124m'\u001b[39m\u001b[38;5;124mFile type must be gtf or db. \u001b[39m\u001b[38;5;124m'\u001b[39m\n\u001b[0;32m    188\u001b[0m \t\t\u001b[38;5;124m'\u001b[39m\u001b[38;5;124mType received is \u001b[39m\u001b[38;5;132;01m{}\u001b[39;00m\u001b[38;5;124m'\u001b[39m\u001b[38;5;241m.\u001b[39mformat(ext))\n",
      "\u001b[1;31mException\u001b[0m: File type must be gtf or db. Type received is fa"
     ]
    }
   ],
   "source": [
    "%%time\n",
    "sg = swan.SwanGraph()\n",
    "# add reference data\n",
    "sg.add_annotation(annot_gtf)"
   ]
  },
  {
   "cell_type": "code",
   "execution_count": 26,
   "id": "8b7a3326",
   "metadata": {
    "collapsed": true
   },
   "outputs": [
    {
     "name": "stdout",
     "output_type": "stream",
     "text": [
      "\n",
      "Adding transcriptome to the SwanGraph\n"
     ]
    },
    {
     "ename": "ValueError",
     "evalue": "too many values to unpack (expected 2)",
     "output_type": "error",
     "traceback": [
      "\u001b[1;31m---------------------------------------------------------------------------\u001b[0m",
      "\u001b[1;31mValueError\u001b[0m                                Traceback (most recent call last)",
      "File \u001b[1;32m<timed eval>:1\u001b[0m\n",
      "File \u001b[1;32m~\\anaconda3\\Lib\\site-packages\\swan_vis\\swangraph.py:158\u001b[0m, in \u001b[0;36mSwanGraph.add_transcriptome\u001b[1;34m(self, fname, pass_list, include_isms, verbose)\u001b[0m\n\u001b[0;32m    145\u001b[0m \u001b[38;5;250m\u001b[39m\u001b[38;5;124;03m\"\"\"\u001b[39;00m\n\u001b[0;32m    146\u001b[0m \u001b[38;5;124;03mAdds a whole transcriptome from a set of samples.\u001b[39;00m\n\u001b[0;32m    147\u001b[0m \n\u001b[1;32m   (...)\u001b[0m\n\u001b[0;32m    154\u001b[0m \u001b[38;5;124;03m\t\tDefault: False\u001b[39;00m\n\u001b[0;32m    155\u001b[0m \u001b[38;5;124;03m\"\"\"\u001b[39;00m\n\u001b[0;32m    157\u001b[0m \u001b[38;5;66;03m# use the add_dataset function to add transcripts to graph\u001b[39;00m\n\u001b[1;32m--> 158\u001b[0m tids \u001b[38;5;241m=\u001b[39m \u001b[38;5;28mself\u001b[39m\u001b[38;5;241m.\u001b[39madd_dataset(fname, pass_list\u001b[38;5;241m=\u001b[39mpass_list,\n\u001b[0;32m    159\u001b[0m \tinclude_isms\u001b[38;5;241m=\u001b[39minclude_isms,\n\u001b[0;32m    160\u001b[0m \tverbose\u001b[38;5;241m=\u001b[39mverbose)\n\u001b[0;32m    162\u001b[0m \u001b[38;5;66;03m# fill NaN annotation transcripts with false\u001b[39;00m\n\u001b[0;32m    163\u001b[0m \u001b[38;5;28;01mif\u001b[39;00m \u001b[38;5;124m'\u001b[39m\u001b[38;5;124mannotation\u001b[39m\u001b[38;5;124m'\u001b[39m \u001b[38;5;129;01min\u001b[39;00m \u001b[38;5;28mself\u001b[39m\u001b[38;5;241m.\u001b[39mt_df\u001b[38;5;241m.\u001b[39mcolumns:\n",
      "File \u001b[1;32m~\\anaconda3\\Lib\\site-packages\\swan_vis\\swangraph.py:200\u001b[0m, in \u001b[0;36mSwanGraph.add_dataset\u001b[1;34m(self, fname, pass_list, include_isms, annotation, verbose)\u001b[0m\n\u001b[0;32m    198\u001b[0m \u001b[38;5;28;01mif\u001b[39;00m ftype \u001b[38;5;241m==\u001b[39m \u001b[38;5;124m'\u001b[39m\u001b[38;5;124mgtf\u001b[39m\u001b[38;5;124m'\u001b[39m:\n\u001b[0;32m    199\u001b[0m \tcheck_file_loc(fname, \u001b[38;5;124m'\u001b[39m\u001b[38;5;124mGTF\u001b[39m\u001b[38;5;124m'\u001b[39m)\n\u001b[1;32m--> 200\u001b[0m \tt_df, exon_df, from_talon, from_cerberus \u001b[38;5;241m=\u001b[39m parse_gtf(fname, include_isms, verbose)\n\u001b[0;32m    201\u001b[0m \u001b[38;5;28;01melif\u001b[39;00m ftype \u001b[38;5;241m==\u001b[39m \u001b[38;5;124m'\u001b[39m\u001b[38;5;124mdb\u001b[39m\u001b[38;5;124m'\u001b[39m:\n\u001b[0;32m    202\u001b[0m \tcheck_file_loc(fname, \u001b[38;5;124m'\u001b[39m\u001b[38;5;124mTALON DB\u001b[39m\u001b[38;5;124m'\u001b[39m)\n",
      "File \u001b[1;32m~\\anaconda3\\Lib\\site-packages\\swan_vis\\utils.py:772\u001b[0m, in \u001b[0;36mparse_gtf\u001b[1;34m(gtf_file, include_isms, verbose)\u001b[0m\n\u001b[0;32m    769\u001b[0m \t\tpbar\u001b[38;5;241m.\u001b[39mupdate(\u001b[38;5;241m100\u001b[39m)\n\u001b[0;32m    770\u001b[0m \t\tpbar\u001b[38;5;241m.\u001b[39mset_description(\u001b[38;5;124m'\u001b[39m\u001b[38;5;124mProcessing transcripts\u001b[39m\u001b[38;5;124m'\u001b[39m)\n\u001b[1;32m--> 772\u001b[0m attributes \u001b[38;5;241m=\u001b[39m get_fields(fields)\n\u001b[0;32m    774\u001b[0m \u001b[38;5;66;03m# check if this gtf has transcript novelty vals\u001b[39;00m\n\u001b[0;32m    775\u001b[0m \u001b[38;5;66;03m# for the first transcript entry\u001b[39;00m\n\u001b[0;32m    776\u001b[0m \u001b[38;5;28;01mif\u001b[39;00m \u001b[38;5;129;01mnot\u001b[39;00m transcripts:\n",
      "File \u001b[1;32m~\\anaconda3\\Lib\\site-packages\\swan_vis\\utils.py:115\u001b[0m, in \u001b[0;36mget_fields\u001b[1;34m(fields)\u001b[0m\n\u001b[0;32m    112\u001b[0m \t\u001b[38;5;28;01mif\u001b[39;00m pair \u001b[38;5;241m==\u001b[39m \u001b[38;5;124m\"\u001b[39m\u001b[38;5;124m\"\u001b[39m: \u001b[38;5;28;01mcontinue\u001b[39;00m\n\u001b[0;32m    114\u001b[0m \tpair \u001b[38;5;241m=\u001b[39m pair\u001b[38;5;241m.\u001b[39mreplace(\u001b[38;5;124m'\u001b[39m\u001b[38;5;124m\"\u001b[39m\u001b[38;5;124m'\u001b[39m, \u001b[38;5;124m'\u001b[39m\u001b[38;5;124m'\u001b[39m)\n\u001b[1;32m--> 115\u001b[0m \tkey, val \u001b[38;5;241m=\u001b[39m pair\u001b[38;5;241m.\u001b[39msplit()\n\u001b[0;32m    116\u001b[0m \tattributes[key] \u001b[38;5;241m=\u001b[39m val\n\u001b[0;32m    118\u001b[0m \u001b[38;5;66;03m# put in placeholders for important attributes (such as gene_id) if they\u001b[39;00m\n\u001b[0;32m    119\u001b[0m \u001b[38;5;66;03m# are absent\u001b[39;00m\n",
      "\u001b[1;31mValueError\u001b[0m: too many values to unpack (expected 2)"
     ]
    }
   ],
   "source": [
    "# add transcriptome data\n",
    "%%time\n",
    "sg.add_transcriptome(gtf_transcripts)"
   ]
  },
  {
   "cell_type": "code",
   "execution_count": 27,
   "id": "2a80f5b0",
   "metadata": {
    "collapsed": true
   },
   "outputs": [
    {
     "ename": "TypeError",
     "evalue": "stat: path should be string, bytes, os.PathLike or integer, not DataFrame",
     "output_type": "error",
     "traceback": [
      "\u001b[1;31m---------------------------------------------------------------------------\u001b[0m",
      "\u001b[1;31mTypeError\u001b[0m                                 Traceback (most recent call last)",
      "Cell \u001b[1;32mIn[27], line 1\u001b[0m\n\u001b[1;32m----> 1\u001b[0m sg\u001b[38;5;241m.\u001b[39madd_abundance(df_transcripts)\n",
      "File \u001b[1;32m~\\anaconda3\\Lib\\site-packages\\swan_vis\\swangraph.py:563\u001b[0m, in \u001b[0;36mSwanGraph.add_abundance\u001b[1;34m(self, counts_file, how)\u001b[0m\n\u001b[0;32m    548\u001b[0m \u001b[38;5;28;01mdef\u001b[39;00m \u001b[38;5;21madd_abundance\u001b[39m(\u001b[38;5;28mself\u001b[39m,\n\u001b[0;32m    549\u001b[0m \t\t\t\t  counts_file,\n\u001b[0;32m    550\u001b[0m \t\t\t\t  how\u001b[38;5;241m=\u001b[39m\u001b[38;5;124m'\u001b[39m\u001b[38;5;124miso\u001b[39m\u001b[38;5;124m'\u001b[39m):\n\u001b[0;32m    551\u001b[0m \u001b[38;5;250m\t\u001b[39m\u001b[38;5;124;03m\"\"\"\u001b[39;00m\n\u001b[0;32m    552\u001b[0m \u001b[38;5;124;03m\tAdds abundance from a counts matrix to the SwanGraph. Transcripts in the\u001b[39;00m\n\u001b[0;32m    553\u001b[0m \u001b[38;5;124;03m\tSwanGraph but not in the counts matrix will be assigned 0 counts.\u001b[39;00m\n\u001b[1;32m   (...)\u001b[0m\n\u001b[0;32m    561\u001b[0m \u001b[38;5;124;03m\t\thow (str): {'iso', 'gene'}\u001b[39;00m\n\u001b[0;32m    562\u001b[0m \u001b[38;5;124;03m\t\"\"\"\u001b[39;00m\n\u001b[1;32m--> 563\u001b[0m \tadata \u001b[38;5;241m=\u001b[39m \u001b[38;5;28mself\u001b[39m\u001b[38;5;241m.\u001b[39mabundance_to_adata(counts_file, how\u001b[38;5;241m=\u001b[39mhow)\n\u001b[0;32m    564\u001b[0m \t\u001b[38;5;28mself\u001b[39m\u001b[38;5;241m.\u001b[39mmerge_adata_abundance(adata, how\u001b[38;5;241m=\u001b[39mhow)\n",
      "File \u001b[1;32m~\\anaconda3\\Lib\\site-packages\\swan_vis\\swangraph.py:299\u001b[0m, in \u001b[0;36mSwanGraph.abundance_to_adata\u001b[1;34m(self, counts_file, how)\u001b[0m\n\u001b[0;32m    286\u001b[0m \u001b[38;5;250m\u001b[39m\u001b[38;5;124;03m\"\"\"\u001b[39;00m\n\u001b[0;32m    287\u001b[0m \u001b[38;5;124;03mConvert expression matrix to adata\u001b[39;00m\n\u001b[0;32m    288\u001b[0m \n\u001b[1;32m   (...)\u001b[0m\n\u001b[0;32m    295\u001b[0m \u001b[38;5;124;03m\t\ttranscript-level expression\u001b[39;00m\n\u001b[0;32m    296\u001b[0m \u001b[38;5;124;03m\"\"\"\u001b[39;00m\n\u001b[0;32m    298\u001b[0m \u001b[38;5;66;03m# read in abundance file\u001b[39;00m\n\u001b[1;32m--> 299\u001b[0m check_file_loc(counts_file, \u001b[38;5;124m'\u001b[39m\u001b[38;5;124mabundance matrix\u001b[39m\u001b[38;5;124m'\u001b[39m)\n\u001b[0;32m    300\u001b[0m \u001b[38;5;28;01mtry\u001b[39;00m:\n\u001b[0;32m    301\u001b[0m \tdf \u001b[38;5;241m=\u001b[39m pd\u001b[38;5;241m.\u001b[39mread_csv(counts_file, sep\u001b[38;5;241m=\u001b[39m\u001b[38;5;124m'\u001b[39m\u001b[38;5;130;01m\\t\u001b[39;00m\u001b[38;5;124m'\u001b[39m)\n",
      "File \u001b[1;32m~\\anaconda3\\Lib\\site-packages\\swan_vis\\utils.py:146\u001b[0m, in \u001b[0;36mcheck_file_loc\u001b[1;34m(loc, ftype)\u001b[0m\n\u001b[0;32m    138\u001b[0m \u001b[38;5;28;01mdef\u001b[39;00m \u001b[38;5;21mcheck_file_loc\u001b[39m(loc, ftype):\n\u001b[0;32m    139\u001b[0m \u001b[38;5;250m\t\u001b[39m\u001b[38;5;124;03m\"\"\"\u001b[39;00m\n\u001b[0;32m    140\u001b[0m \u001b[38;5;124;03m\tCheck if a file exists. Raises an error if not.\u001b[39;00m\n\u001b[0;32m    141\u001b[0m \n\u001b[1;32m   (...)\u001b[0m\n\u001b[0;32m    144\u001b[0m \u001b[38;5;124;03m\t\tftype (str): File type\u001b[39;00m\n\u001b[0;32m    145\u001b[0m \u001b[38;5;124;03m\t\"\"\"\u001b[39;00m\n\u001b[1;32m--> 146\u001b[0m \t\u001b[38;5;28;01mif\u001b[39;00m \u001b[38;5;129;01mnot\u001b[39;00m os\u001b[38;5;241m.\u001b[39mpath\u001b[38;5;241m.\u001b[39misfile(loc):\n\u001b[0;32m    147\u001b[0m \t\t\u001b[38;5;28;01mraise\u001b[39;00m \u001b[38;5;167;01mException\u001b[39;00m(\u001b[38;5;124m'\u001b[39m\u001b[38;5;132;01m{}\u001b[39;00m\u001b[38;5;124m file not found at \u001b[39m\u001b[38;5;132;01m{}\u001b[39;00m\u001b[38;5;124m. \u001b[39m\u001b[38;5;124m'\u001b[39m\n\u001b[0;32m    148\u001b[0m \t\t\t\u001b[38;5;124m'\u001b[39m\u001b[38;5;124mCheck path.\u001b[39m\u001b[38;5;124m'\u001b[39m\u001b[38;5;241m.\u001b[39mformat(ftype, loc))\n",
      "File \u001b[1;32m<frozen genericpath>:30\u001b[0m, in \u001b[0;36misfile\u001b[1;34m(path)\u001b[0m\n",
      "\u001b[1;31mTypeError\u001b[0m: stat: path should be string, bytes, os.PathLike or integer, not DataFrame"
     ]
    }
   ],
   "source": [
    "%%time\n",
    "sg.add_abundance(df_transcripts)"
   ]
  },
  {
   "cell_type": "code",
   "execution_count": 20,
   "id": "95224e11",
   "metadata": {},
   "outputs": [
    {
     "data": {
      "text/html": [
       "<div>\n",
       "<style scoped>\n",
       "    .dataframe tbody tr th:only-of-type {\n",
       "        vertical-align: middle;\n",
       "    }\n",
       "\n",
       "    .dataframe tbody tr th {\n",
       "        vertical-align: top;\n",
       "    }\n",
       "\n",
       "    .dataframe thead th {\n",
       "        text-align: right;\n",
       "    }\n",
       "</style>\n",
       "<table border=\"1\" class=\"dataframe\">\n",
       "  <thead>\n",
       "    <tr style=\"text-align: right;\">\n",
       "      <th></th>\n",
       "      <th>gene_id</th>\n",
       "      <th>gene_name</th>\n",
       "      <th>feature_id</th>\n",
       "      <th>s37rep2</th>\n",
       "      <th>s32rep3</th>\n",
       "      <th>s37rep1</th>\n",
       "      <th>s37rep3</th>\n",
       "      <th>s32rep1</th>\n",
       "      <th>s32rep2</th>\n",
       "    </tr>\n",
       "  </thead>\n",
       "  <tbody>\n",
       "    <tr>\n",
       "      <th>0</th>\n",
       "      <td>ENSG00000198034</td>\n",
       "      <td>RPS4X</td>\n",
       "      <td>ENST00000316084</td>\n",
       "      <td>232646</td>\n",
       "      <td>199874</td>\n",
       "      <td>190685</td>\n",
       "      <td>196125</td>\n",
       "      <td>160799</td>\n",
       "      <td>177622</td>\n",
       "    </tr>\n",
       "    <tr>\n",
       "      <th>1</th>\n",
       "      <td>ENSG00000142937</td>\n",
       "      <td>RPS8</td>\n",
       "      <td>ENST00000396651</td>\n",
       "      <td>191357</td>\n",
       "      <td>163277</td>\n",
       "      <td>156765</td>\n",
       "      <td>160123</td>\n",
       "      <td>133777</td>\n",
       "      <td>150626</td>\n",
       "    </tr>\n",
       "    <tr>\n",
       "      <th>2</th>\n",
       "      <td>ENSG00000182774</td>\n",
       "      <td>RPS17</td>\n",
       "      <td>ENST00000647841</td>\n",
       "      <td>188996</td>\n",
       "      <td>163258</td>\n",
       "      <td>157911</td>\n",
       "      <td>153051</td>\n",
       "      <td>133896</td>\n",
       "      <td>156007</td>\n",
       "    </tr>\n",
       "    <tr>\n",
       "      <th>3</th>\n",
       "      <td>ENSG00000229117</td>\n",
       "      <td>RPL41</td>\n",
       "      <td>ENST00000546591</td>\n",
       "      <td>182501</td>\n",
       "      <td>170503</td>\n",
       "      <td>142081</td>\n",
       "      <td>168055</td>\n",
       "      <td>126151</td>\n",
       "      <td>146154</td>\n",
       "    </tr>\n",
       "    <tr>\n",
       "      <th>4</th>\n",
       "      <td>ENSG00000142937</td>\n",
       "      <td>RPS8</td>\n",
       "      <td>ENST00000485390</td>\n",
       "      <td>182336</td>\n",
       "      <td>155347</td>\n",
       "      <td>148909</td>\n",
       "      <td>154214</td>\n",
       "      <td>126332</td>\n",
       "      <td>142296</td>\n",
       "    </tr>\n",
       "    <tr>\n",
       "      <th>...</th>\n",
       "      <td>...</td>\n",
       "      <td>...</td>\n",
       "      <td>...</td>\n",
       "      <td>...</td>\n",
       "      <td>...</td>\n",
       "      <td>...</td>\n",
       "      <td>...</td>\n",
       "      <td>...</td>\n",
       "      <td>...</td>\n",
       "    </tr>\n",
       "    <tr>\n",
       "      <th>135598</th>\n",
       "      <td>ENSG00000127314</td>\n",
       "      <td>RAP1B</td>\n",
       "      <td>ENST00000535492</td>\n",
       "      <td>0</td>\n",
       "      <td>0</td>\n",
       "      <td>0</td>\n",
       "      <td>0</td>\n",
       "      <td>0</td>\n",
       "      <td>1</td>\n",
       "    </tr>\n",
       "    <tr>\n",
       "      <th>135599</th>\n",
       "      <td>ENSG00000127314</td>\n",
       "      <td>RAP1B</td>\n",
       "      <td>ENST00000544639</td>\n",
       "      <td>0</td>\n",
       "      <td>0</td>\n",
       "      <td>0</td>\n",
       "      <td>0</td>\n",
       "      <td>0</td>\n",
       "      <td>1</td>\n",
       "    </tr>\n",
       "    <tr>\n",
       "      <th>135600</th>\n",
       "      <td>ENSG00000144560</td>\n",
       "      <td>VGLL4</td>\n",
       "      <td>ENST00000458499</td>\n",
       "      <td>0</td>\n",
       "      <td>0</td>\n",
       "      <td>0</td>\n",
       "      <td>0</td>\n",
       "      <td>0</td>\n",
       "      <td>1</td>\n",
       "    </tr>\n",
       "    <tr>\n",
       "      <th>135601</th>\n",
       "      <td>ENSG00000091592</td>\n",
       "      <td>NLRP1</td>\n",
       "      <td>ENST00000699630</td>\n",
       "      <td>0</td>\n",
       "      <td>0</td>\n",
       "      <td>0</td>\n",
       "      <td>0</td>\n",
       "      <td>0</td>\n",
       "      <td>1</td>\n",
       "    </tr>\n",
       "    <tr>\n",
       "      <th>135602</th>\n",
       "      <td>ENSG00000169896</td>\n",
       "      <td>ITGAM</td>\n",
       "      <td>ENST00000648685</td>\n",
       "      <td>0</td>\n",
       "      <td>0</td>\n",
       "      <td>0</td>\n",
       "      <td>0</td>\n",
       "      <td>0</td>\n",
       "      <td>1</td>\n",
       "    </tr>\n",
       "  </tbody>\n",
       "</table>\n",
       "<p>135603 rows × 9 columns</p>\n",
       "</div>"
      ],
      "text/plain": [
       "                gene_id gene_name       feature_id  s37rep2  s32rep3  s37rep1  \\\n",
       "0       ENSG00000198034     RPS4X  ENST00000316084   232646   199874   190685   \n",
       "1       ENSG00000142937      RPS8  ENST00000396651   191357   163277   156765   \n",
       "2       ENSG00000182774     RPS17  ENST00000647841   188996   163258   157911   \n",
       "3       ENSG00000229117     RPL41  ENST00000546591   182501   170503   142081   \n",
       "4       ENSG00000142937      RPS8  ENST00000485390   182336   155347   148909   \n",
       "...                 ...       ...              ...      ...      ...      ...   \n",
       "135598  ENSG00000127314     RAP1B  ENST00000535492        0        0        0   \n",
       "135599  ENSG00000127314     RAP1B  ENST00000544639        0        0        0   \n",
       "135600  ENSG00000144560     VGLL4  ENST00000458499        0        0        0   \n",
       "135601  ENSG00000091592     NLRP1  ENST00000699630        0        0        0   \n",
       "135602  ENSG00000169896     ITGAM  ENST00000648685        0        0        0   \n",
       "\n",
       "        s37rep3  s32rep1  s32rep2  \n",
       "0        196125   160799   177622  \n",
       "1        160123   133777   150626  \n",
       "2        153051   133896   156007  \n",
       "3        168055   126151   146154  \n",
       "4        154214   126332   142296  \n",
       "...         ...      ...      ...  \n",
       "135598        0        0        1  \n",
       "135599        0        0        1  \n",
       "135600        0        0        1  \n",
       "135601        0        0        1  \n",
       "135602        0        0        1  \n",
       "\n",
       "[135603 rows x 9 columns]"
      ]
     },
     "execution_count": 20,
     "metadata": {},
     "output_type": "execute_result"
    }
   ],
   "source": [
    "df_transcripts"
   ]
  },
  {
   "cell_type": "code",
   "execution_count": 21,
   "id": "a23e7112",
   "metadata": {},
   "outputs": [
    {
     "ename": "NameError",
     "evalue": "name 'feature_id' is not defined",
     "output_type": "error",
     "traceback": [
      "\u001b[1;31m---------------------------------------------------------------------------\u001b[0m",
      "\u001b[1;31mNameError\u001b[0m                                 Traceback (most recent call last)",
      "Cell \u001b[1;32mIn[21], line 2\u001b[0m\n\u001b[0;32m      1\u001b[0m conditions \u001b[38;5;241m=\u001b[39m [\u001b[38;5;124m'\u001b[39m\u001b[38;5;124ms37rep1\u001b[39m\u001b[38;5;124m'\u001b[39m, \u001b[38;5;124m'\u001b[39m\u001b[38;5;124ms37rep2\u001b[39m\u001b[38;5;124m'\u001b[39m, \u001b[38;5;124m'\u001b[39m\u001b[38;5;124ms37rep3\u001b[39m\u001b[38;5;124m'\u001b[39m, \u001b[38;5;124m'\u001b[39m\u001b[38;5;124ms32rep1\u001b[39m\u001b[38;5;124m'\u001b[39m, \u001b[38;5;124m'\u001b[39m\u001b[38;5;124ms32rep2\u001b[39m\u001b[38;5;124m'\u001b[39m, \u001b[38;5;124m'\u001b[39m\u001b[38;5;124ms32rep3\u001b[39m\u001b[38;5;124m'\u001b[39m]\n\u001b[1;32m----> 2\u001b[0m sg\u001b[38;5;241m.\u001b[39madd_dataset(feature_id, counts_file \u001b[38;5;241m=\u001b[39m df_transcripts[conditions], count_cols \u001b[38;5;241m=\u001b[39m feature_id)\n",
      "\u001b[1;31mNameError\u001b[0m: name 'feature_id' is not defined"
     ]
    }
   ],
   "source": [
    "conditions = ['s37rep1', 's37rep2', 's37rep3', 's32rep1', 's32rep2', 's32rep3']\n",
    "sg.add_dataset(feature_id, counts_file = df_transcripts[conditions], count_cols = feature_id)"
   ]
  },
  {
   "cell_type": "code",
   "execution_count": 23,
   "id": "dbe92b0e",
   "metadata": {},
   "outputs": [
    {
     "ename": "TypeError",
     "evalue": "SwanGraph.add_dataset() got an unexpected keyword argument 'counts_file'",
     "output_type": "error",
     "traceback": [
      "\u001b[1;31m---------------------------------------------------------------------------\u001b[0m",
      "\u001b[1;31mTypeError\u001b[0m                                 Traceback (most recent call last)",
      "Cell \u001b[1;32mIn[23], line 1\u001b[0m\n\u001b[1;32m----> 1\u001b[0m sg\u001b[38;5;241m.\u001b[39madd_dataset(\n\u001b[0;32m      2\u001b[0m     \u001b[38;5;124m'\u001b[39m\u001b[38;5;124mmytranscript\u001b[39m\u001b[38;5;124m'\u001b[39m, gtf_transcripts,  \u001b[38;5;66;03m# single sample ID and file path\u001b[39;00m\n\u001b[0;32m      3\u001b[0m     counts_file \u001b[38;5;241m=\u001b[39m df_transcripts,\n\u001b[0;32m      4\u001b[0m     count_cols \u001b[38;5;241m=\u001b[39m \u001b[38;5;124m'\u001b[39m\u001b[38;5;124mmytranscript\u001b[39m\u001b[38;5;124m'\u001b[39m  \u001b[38;5;66;03m# column in abundance file related to k562\u001b[39;00m\n\u001b[0;32m      5\u001b[0m )\n",
      "\u001b[1;31mTypeError\u001b[0m: SwanGraph.add_dataset() got an unexpected keyword argument 'counts_file'"
     ]
    }
   ],
   "source": [
    "sg.add_dataset(\n",
    "    'mytranscript', gtf_transcripts,  # single sample ID and file path\n",
    "    counts_file = df_transcripts,\n",
    "    count_cols = 'mytranscript'  # column in abundance file related to k562\n",
    ")"
   ]
  },
  {
   "cell_type": "code",
   "execution_count": null,
   "id": "525d49cb",
   "metadata": {},
   "outputs": [],
   "source": []
  },
  {
   "cell_type": "code",
   "execution_count": 17,
   "id": "c8c0ec82",
   "metadata": {},
   "outputs": [
    {
     "ename": "TypeError",
     "evalue": "SwanGraph.add_dataset() got an unexpected keyword argument 'sample_id'",
     "output_type": "error",
     "traceback": [
      "\u001b[1;31m---------------------------------------------------------------------------\u001b[0m",
      "\u001b[1;31mTypeError\u001b[0m                                 Traceback (most recent call last)",
      "Cell \u001b[1;32mIn[17], line 6\u001b[0m\n\u001b[0;32m      4\u001b[0m \u001b[38;5;66;03m# Loop over conditions and add them as datasets\u001b[39;00m\n\u001b[0;32m      5\u001b[0m \u001b[38;5;28;01mfor\u001b[39;00m condition \u001b[38;5;129;01min\u001b[39;00m conditions:\n\u001b[1;32m----> 6\u001b[0m     sg\u001b[38;5;241m.\u001b[39madd_dataset(\n\u001b[0;32m      7\u001b[0m         sample_id \u001b[38;5;241m=\u001b[39m gtf_transcripts,  \u001b[38;5;66;03m# Use the GTF file for all conditions\u001b[39;00m\n\u001b[0;32m      8\u001b[0m         counts_file \u001b[38;5;241m=\u001b[39m df_transcripts,\n\u001b[0;32m      9\u001b[0m         count_cols \u001b[38;5;241m=\u001b[39m condition  \u001b[38;5;66;03m# Make sure this matches the column names in your dataframe\u001b[39;00m\n\u001b[0;32m     10\u001b[0m     )\n",
      "\u001b[1;31mTypeError\u001b[0m: SwanGraph.add_dataset() got an unexpected keyword argument 'sample_id'"
     ]
    }
   ],
   "source": [
    "# Add each condition as a dataset\n",
    "conditions = ['s37rep1', 's37rep2', 's37rep3', 's32rep1', 's32rep2', 's32rep3']\n",
    "\n",
    "# Loop over conditions and add them as datasets\n",
    "for condition in conditions:\n",
    "    sg.add_dataset(\n",
    "        sample_id = gtf_transcripts,  # Use the GTF file for all conditions\n",
    "        counts_file = df_transcripts,\n",
    "        count_cols = condition  # Make sure this matches the column names in your dataframe\n",
    "    )"
   ]
  },
  {
   "cell_type": "code",
   "execution_count": null,
   "id": "4be80cf7",
   "metadata": {},
   "outputs": [],
   "source": []
  },
  {
   "cell_type": "code",
   "execution_count": 12,
   "id": "3e291cfd",
   "metadata": {},
   "outputs": [
    {
     "data": {
      "text/html": [
       "<div>\n",
       "<style scoped>\n",
       "    .dataframe tbody tr th:only-of-type {\n",
       "        vertical-align: middle;\n",
       "    }\n",
       "\n",
       "    .dataframe tbody tr th {\n",
       "        vertical-align: top;\n",
       "    }\n",
       "\n",
       "    .dataframe thead th {\n",
       "        text-align: right;\n",
       "    }\n",
       "</style>\n",
       "<table border=\"1\" class=\"dataframe\">\n",
       "  <thead>\n",
       "    <tr style=\"text-align: right;\">\n",
       "      <th></th>\n",
       "      <th>gene_id</th>\n",
       "      <th>gene_name</th>\n",
       "      <th>feature_id</th>\n",
       "      <th>s37rep2</th>\n",
       "      <th>s32rep3</th>\n",
       "      <th>s37rep1</th>\n",
       "      <th>s37rep3</th>\n",
       "      <th>s32rep1</th>\n",
       "      <th>s32rep2</th>\n",
       "    </tr>\n",
       "  </thead>\n",
       "  <tbody>\n",
       "    <tr>\n",
       "      <th>0</th>\n",
       "      <td>ENSG00000198034</td>\n",
       "      <td>RPS4X</td>\n",
       "      <td>ENST00000316084</td>\n",
       "      <td>232646</td>\n",
       "      <td>199874</td>\n",
       "      <td>190685</td>\n",
       "      <td>196125</td>\n",
       "      <td>160799</td>\n",
       "      <td>177622</td>\n",
       "    </tr>\n",
       "    <tr>\n",
       "      <th>1</th>\n",
       "      <td>ENSG00000142937</td>\n",
       "      <td>RPS8</td>\n",
       "      <td>ENST00000396651</td>\n",
       "      <td>191357</td>\n",
       "      <td>163277</td>\n",
       "      <td>156765</td>\n",
       "      <td>160123</td>\n",
       "      <td>133777</td>\n",
       "      <td>150626</td>\n",
       "    </tr>\n",
       "  </tbody>\n",
       "</table>\n",
       "</div>"
      ],
      "text/plain": [
       "           gene_id gene_name       feature_id  s37rep2  s32rep3  s37rep1  \\\n",
       "0  ENSG00000198034     RPS4X  ENST00000316084   232646   199874   190685   \n",
       "1  ENSG00000142937      RPS8  ENST00000396651   191357   163277   156765   \n",
       "\n",
       "   s37rep3  s32rep1  s32rep2  \n",
       "0   196125   160799   177622  \n",
       "1   160123   133777   150626  "
      ]
     },
     "execution_count": 12,
     "metadata": {},
     "output_type": "execute_result"
    }
   ],
   "source": [
    "df_transcripts.head(2)"
   ]
  },
  {
   "cell_type": "code",
   "execution_count": 11,
   "id": "5f466067",
   "metadata": {},
   "outputs": [
    {
     "ename": "NameError",
     "evalue": "name 'sample_id' is not defined",
     "output_type": "error",
     "traceback": [
      "\u001b[1;31m---------------------------------------------------------------------------\u001b[0m",
      "\u001b[1;31mNameError\u001b[0m                                 Traceback (most recent call last)",
      "Cell \u001b[1;32mIn[11], line 2\u001b[0m\n\u001b[0;32m      1\u001b[0m \u001b[38;5;66;03m# ??\u001b[39;00m\n\u001b[1;32m----> 2\u001b[0m sg\u001b[38;5;241m.\u001b[39madd_dataset(sample_id, file_path, counts_file \u001b[38;5;241m=\u001b[39m df_transcripts, count_cols \u001b[38;5;241m=\u001b[39m sample_id)\n",
      "\u001b[1;31mNameError\u001b[0m: name 'sample_id' is not defined"
     ]
    }
   ],
   "source": [
    "# ??\n",
    "sg.add_dataset(sample_id, file_path, counts_file = df_transcripts, count_cols = sample_id)"
   ]
  }
 ],
 "metadata": {
  "kernelspec": {
   "display_name": "Python 3 (ipykernel)",
   "language": "python",
   "name": "python3"
  },
  "language_info": {
   "codemirror_mode": {
    "name": "ipython",
    "version": 3
   },
   "file_extension": ".py",
   "mimetype": "text/x-python",
   "name": "python",
   "nbconvert_exporter": "python",
   "pygments_lexer": "ipython3",
   "version": "3.11.5"
  }
 },
 "nbformat": 4,
 "nbformat_minor": 5
}
