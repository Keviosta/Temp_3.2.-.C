{
 "cells": [
  {
   "cell_type": "code",
   "execution_count": 1,
   "id": "d55729ef",
   "metadata": {},
   "outputs": [
    {
     "name": "stderr",
     "output_type": "stream",
     "text": [
      "C:\\Users\\kja11\\anaconda3\\Lib\\site-packages\\pandas\\core\\arrays\\masked.py:60: UserWarning: Pandas requires version '1.3.6' or newer of 'bottleneck' (version '1.3.5' currently installed).\n",
      "  from pandas.core import (\n"
     ]
    }
   ],
   "source": [
    "import pandas, scipy, numpy, seaborn\n",
    "import matplotlib, matplotlib.pyplot as plt"
   ]
  },
  {
   "cell_type": "code",
   "execution_count": 2,
   "id": "9689e500",
   "metadata": {},
   "outputs": [],
   "source": [
    "file_directory = \"/Users/kja11/OneDrive - Menntaský/PostDoc_Hypothermia/in_silico/Python/\"\n"
   ]
  },
  {
   "cell_type": "code",
   "execution_count": 8,
   "id": "74dd3028",
   "metadata": {},
   "outputs": [],
   "source": [
    "import swan_vis as swan"
   ]
  },
  {
   "cell_type": "code",
   "execution_count": 9,
   "id": "4e8f2040",
   "metadata": {},
   "outputs": [
    {
     "name": "stdout",
     "output_type": "stream",
     "text": [
      "(135603, 9)\n"
     ]
    },
    {
     "name": "stderr",
     "output_type": "stream",
     "text": [
      "C:\\Users\\kja11\\anaconda3\\Lib\\site-packages\\IPython\\core\\formatters.py:344: FutureWarning: Index.format is deprecated and will be removed in a future version. Convert using index.astype(str) or index.map(formatter) instead.\n",
      "  return method()\n",
      "C:\\Users\\kja11\\anaconda3\\Lib\\site-packages\\IPython\\core\\formatters.py:344: FutureWarning: RangeIndex.format is deprecated and will be removed in a future version. Convert using index.astype(str) or index.map(formatter) instead.\n",
      "  return method()\n"
     ]
    },
    {
     "data": {
      "text/html": [
       "<div>\n",
       "<style scoped>\n",
       "    .dataframe tbody tr th:only-of-type {\n",
       "        vertical-align: middle;\n",
       "    }\n",
       "\n",
       "    .dataframe tbody tr th {\n",
       "        vertical-align: top;\n",
       "    }\n",
       "\n",
       "    .dataframe thead th {\n",
       "        text-align: right;\n",
       "    }\n",
       "</style>\n",
       "<table border=\"1\" class=\"dataframe\">\n",
       "  <thead>\n",
       "    <tr style=\"text-align: right;\">\n",
       "      <th></th>\n",
       "      <th>gene_id</th>\n",
       "      <th>gene_name</th>\n",
       "      <th>feature_id</th>\n",
       "      <th>s37rep2</th>\n",
       "      <th>s32rep3</th>\n",
       "      <th>s37rep1</th>\n",
       "      <th>s37rep3</th>\n",
       "      <th>s32rep1</th>\n",
       "      <th>s32rep2</th>\n",
       "    </tr>\n",
       "  </thead>\n",
       "  <tbody>\n",
       "    <tr>\n",
       "      <th>0</th>\n",
       "      <td>ENSG00000198034</td>\n",
       "      <td>RPS4X</td>\n",
       "      <td>ENST00000316084</td>\n",
       "      <td>232646</td>\n",
       "      <td>199874</td>\n",
       "      <td>190685</td>\n",
       "      <td>196125</td>\n",
       "      <td>160799</td>\n",
       "      <td>177622</td>\n",
       "    </tr>\n",
       "    <tr>\n",
       "      <th>1</th>\n",
       "      <td>ENSG00000142937</td>\n",
       "      <td>RPS8</td>\n",
       "      <td>ENST00000396651</td>\n",
       "      <td>191357</td>\n",
       "      <td>163277</td>\n",
       "      <td>156765</td>\n",
       "      <td>160123</td>\n",
       "      <td>133777</td>\n",
       "      <td>150626</td>\n",
       "    </tr>\n",
       "    <tr>\n",
       "      <th>2</th>\n",
       "      <td>ENSG00000182774</td>\n",
       "      <td>RPS17</td>\n",
       "      <td>ENST00000647841</td>\n",
       "      <td>188996</td>\n",
       "      <td>163258</td>\n",
       "      <td>157911</td>\n",
       "      <td>153051</td>\n",
       "      <td>133896</td>\n",
       "      <td>156007</td>\n",
       "    </tr>\n",
       "    <tr>\n",
       "      <th>3</th>\n",
       "      <td>ENSG00000229117</td>\n",
       "      <td>RPL41</td>\n",
       "      <td>ENST00000546591</td>\n",
       "      <td>182501</td>\n",
       "      <td>170503</td>\n",
       "      <td>142081</td>\n",
       "      <td>168055</td>\n",
       "      <td>126151</td>\n",
       "      <td>146154</td>\n",
       "    </tr>\n",
       "    <tr>\n",
       "      <th>4</th>\n",
       "      <td>ENSG00000142937</td>\n",
       "      <td>RPS8</td>\n",
       "      <td>ENST00000485390</td>\n",
       "      <td>182336</td>\n",
       "      <td>155347</td>\n",
       "      <td>148909</td>\n",
       "      <td>154214</td>\n",
       "      <td>126332</td>\n",
       "      <td>142296</td>\n",
       "    </tr>\n",
       "  </tbody>\n",
       "</table>\n",
       "</div>"
      ],
      "text/plain": [
       "           gene_id gene_name       feature_id  s37rep2  s32rep3  s37rep1   \n",
       "0  ENSG00000198034     RPS4X  ENST00000316084   232646   199874   190685  \\\n",
       "1  ENSG00000142937      RPS8  ENST00000396651   191357   163277   156765   \n",
       "2  ENSG00000182774     RPS17  ENST00000647841   188996   163258   157911   \n",
       "3  ENSG00000229117     RPL41  ENST00000546591   182501   170503   142081   \n",
       "4  ENSG00000142937      RPS8  ENST00000485390   182336   155347   148909   \n",
       "\n",
       "   s37rep3  s32rep1  s32rep2  \n",
       "0   196125   160799   177622  \n",
       "1   160123   133777   150626  \n",
       "2   153051   133896   156007  \n",
       "3   168055   126151   146154  \n",
       "4   154214   126332   142296  "
      ]
     },
     "execution_count": 9,
     "metadata": {},
     "output_type": "execute_result"
    }
   ],
   "source": [
    "#data all_counts_filtered\n",
    "df_transcripts = pandas.read_csv(file_directory+'1) input/RNAseq/transcript_HEK293_temp_all_counts_unfiltered.tsv',\n",
    "                     sep = '\\t')\n",
    "print(df_transcripts.shape)\n",
    "df_transcripts.head()"
   ]
  },
  {
   "cell_type": "code",
   "execution_count": 12,
   "id": "d28fae85",
   "metadata": {},
   "outputs": [],
   "source": [
    "annot_gtf = file_directory+'1) input/RNAseq/_gencode.v29.annotation.gtf'"
   ]
  },
  {
   "cell_type": "code",
   "execution_count": 10,
   "id": "b234db9c",
   "metadata": {},
   "outputs": [],
   "source": [
    "sg = swan.SwanGraph()"
   ]
  },
  {
   "cell_type": "code",
   "execution_count": null,
   "id": "5f466067",
   "metadata": {},
   "outputs": [],
   "source": [
    "Need"
   ]
  }
 ],
 "metadata": {
  "kernelspec": {
   "display_name": "Python 3 (ipykernel)",
   "language": "python",
   "name": "python3"
  },
  "language_info": {
   "codemirror_mode": {
    "name": "ipython",
    "version": 3
   },
   "file_extension": ".py",
   "mimetype": "text/x-python",
   "name": "python",
   "nbconvert_exporter": "python",
   "pygments_lexer": "ipython3",
   "version": "3.11.5"
  }
 },
 "nbformat": 4,
 "nbformat_minor": 5
}
