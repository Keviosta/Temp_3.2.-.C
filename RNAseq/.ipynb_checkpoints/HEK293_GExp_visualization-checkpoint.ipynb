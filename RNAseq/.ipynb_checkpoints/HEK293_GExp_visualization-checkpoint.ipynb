{
 "cells": [
  {
   "cell_type": "markdown",
   "id": "19069ee0",
   "metadata": {},
   "source": [
    "# Import, options"
   ]
  },
  {
   "cell_type": "code",
   "execution_count": 6,
   "id": "2adb646b",
   "metadata": {},
   "outputs": [],
   "source": [
    "import numpy, seaborn, pandas\n",
    "import matplotlib, matplotlib.pyplot as plt"
   ]
  },
  {
   "cell_type": "code",
   "execution_count": 7,
   "id": "0c188f4e",
   "metadata": {},
   "outputs": [],
   "source": [
    "matplotlib.rcParams.update({'svg.fonttype' : 'none'})\n",
    "#'font.size':20, 'xtick.labelsize':20, 'ytick.labelsize':20,'axes.grid' : True, 'grid.alpha': 0.5, 'grid.linestyle' : ':',                            'figure.figsize':(8, 5), "
   ]
  },
  {
   "cell_type": "code",
   "execution_count": 8,
   "id": "6ae19579",
   "metadata": {},
   "outputs": [],
   "source": [
    "file_directory = \"/Users/kja11/OneDrive - Menntaský/PostDoc_Hypothermia/in_silico/Python/\""
   ]
  },
  {
   "cell_type": "markdown",
   "id": "8e0197ea",
   "metadata": {},
   "source": [
    "# Data Download"
   ]
  },
  {
   "cell_type": "code",
   "execution_count": 9,
   "id": "1268085d",
   "metadata": {},
   "outputs": [
    {
     "name": "stdout",
     "output_type": "stream",
     "text": [
      "(15323, 10)\n"
     ]
    },
    {
     "data": {
      "text/html": [
       "<div>\n",
       "<style scoped>\n",
       "    .dataframe tbody tr th:only-of-type {\n",
       "        vertical-align: middle;\n",
       "    }\n",
       "\n",
       "    .dataframe tbody tr th {\n",
       "        vertical-align: top;\n",
       "    }\n",
       "\n",
       "    .dataframe thead th {\n",
       "        text-align: right;\n",
       "    }\n",
       "</style>\n",
       "<table border=\"1\" class=\"dataframe\">\n",
       "  <thead>\n",
       "    <tr style=\"text-align: right;\">\n",
       "      <th></th>\n",
       "      <th>gene_id</th>\n",
       "      <th>gene_name</th>\n",
       "      <th>Gene type</th>\n",
       "      <th>Gene description</th>\n",
       "      <th>baseMean</th>\n",
       "      <th>log2FoldChange</th>\n",
       "      <th>lfcSE</th>\n",
       "      <th>stat</th>\n",
       "      <th>pvalue</th>\n",
       "      <th>padj</th>\n",
       "    </tr>\n",
       "  </thead>\n",
       "  <tbody>\n",
       "    <tr>\n",
       "      <th>0</th>\n",
       "      <td>ENSG00000000003</td>\n",
       "      <td>TSPAN6</td>\n",
       "      <td>protein_coding</td>\n",
       "      <td>tetraspanin 6 [Source:HGNC Symbol;Acc:HGNC:11858]</td>\n",
       "      <td>1417.578539</td>\n",
       "      <td>0.236871</td>\n",
       "      <td>0.190655</td>\n",
       "      <td>1.242407</td>\n",
       "      <td>0.214086</td>\n",
       "      <td>0.729350</td>\n",
       "    </tr>\n",
       "    <tr>\n",
       "      <th>1</th>\n",
       "      <td>ENSG00000000419</td>\n",
       "      <td>DPM1</td>\n",
       "      <td>protein_coding</td>\n",
       "      <td>dolichyl-phosphate mannosyltransferase subunit...</td>\n",
       "      <td>4685.997108</td>\n",
       "      <td>0.422995</td>\n",
       "      <td>0.183466</td>\n",
       "      <td>2.305574</td>\n",
       "      <td>0.021134</td>\n",
       "      <td>0.357952</td>\n",
       "    </tr>\n",
       "    <tr>\n",
       "      <th>2</th>\n",
       "      <td>ENSG00000000457</td>\n",
       "      <td>SCYL3</td>\n",
       "      <td>protein_coding</td>\n",
       "      <td>SCY1 like pseudokinase 3 [Source:HGNC Symbol;A...</td>\n",
       "      <td>135.788628</td>\n",
       "      <td>0.025567</td>\n",
       "      <td>0.324710</td>\n",
       "      <td>0.078738</td>\n",
       "      <td>0.937241</td>\n",
       "      <td>0.987078</td>\n",
       "    </tr>\n",
       "    <tr>\n",
       "      <th>3</th>\n",
       "      <td>ENSG00000000460</td>\n",
       "      <td>FIRRM</td>\n",
       "      <td>protein_coding</td>\n",
       "      <td>FIGNL1 interacting regulator of recombination ...</td>\n",
       "      <td>669.515399</td>\n",
       "      <td>-0.044322</td>\n",
       "      <td>0.230353</td>\n",
       "      <td>-0.192407</td>\n",
       "      <td>0.847423</td>\n",
       "      <td>0.966125</td>\n",
       "    </tr>\n",
       "    <tr>\n",
       "      <th>4</th>\n",
       "      <td>ENSG00000000971</td>\n",
       "      <td>CFH</td>\n",
       "      <td>protein_coding</td>\n",
       "      <td>complement factor H [Source:HGNC Symbol;Acc:HG...</td>\n",
       "      <td>78.489575</td>\n",
       "      <td>0.838610</td>\n",
       "      <td>0.413537</td>\n",
       "      <td>2.027894</td>\n",
       "      <td>0.042571</td>\n",
       "      <td>0.447272</td>\n",
       "    </tr>\n",
       "  </tbody>\n",
       "</table>\n",
       "</div>"
      ],
      "text/plain": [
       "           gene_id gene_name       Gene type  \\\n",
       "0  ENSG00000000003    TSPAN6  protein_coding   \n",
       "1  ENSG00000000419      DPM1  protein_coding   \n",
       "2  ENSG00000000457     SCYL3  protein_coding   \n",
       "3  ENSG00000000460     FIRRM  protein_coding   \n",
       "4  ENSG00000000971       CFH  protein_coding   \n",
       "\n",
       "                                    Gene description     baseMean  \\\n",
       "0  tetraspanin 6 [Source:HGNC Symbol;Acc:HGNC:11858]  1417.578539   \n",
       "1  dolichyl-phosphate mannosyltransferase subunit...  4685.997108   \n",
       "2  SCY1 like pseudokinase 3 [Source:HGNC Symbol;A...   135.788628   \n",
       "3  FIGNL1 interacting regulator of recombination ...   669.515399   \n",
       "4  complement factor H [Source:HGNC Symbol;Acc:HG...    78.489575   \n",
       "\n",
       "   log2FoldChange     lfcSE      stat    pvalue      padj  \n",
       "0        0.236871  0.190655  1.242407  0.214086  0.729350  \n",
       "1        0.422995  0.183466  2.305574  0.021134  0.357952  \n",
       "2        0.025567  0.324710  0.078738  0.937241  0.987078  \n",
       "3       -0.044322  0.230353 -0.192407  0.847423  0.966125  \n",
       "4        0.838610  0.413537  2.027894  0.042571  0.447272  "
      ]
     },
     "execution_count": 9,
     "metadata": {},
     "output_type": "execute_result"
    }
   ],
   "source": [
    "#data DEseq HEK293 \n",
    "df_anno = pandas.read_csv(file_directory+'1) input/RNAseq/from_output/DEGs_HEK293_temp_annotated.csv',\n",
    "                               sep = ',')\n",
    "print(df_anno.shape)\n",
    "df_anno.head()"
   ]
  },
  {
   "cell_type": "markdown",
   "id": "db3a8dc1",
   "metadata": {},
   "source": [
    "## Plot visualization"
   ]
  },
  {
   "cell_type": "markdown",
   "id": "5b88282b",
   "metadata": {},
   "source": [
    "### all"
   ]
  },
  {
   "cell_type": "code",
   "execution_count": 10,
   "id": "195a30a9",
   "metadata": {},
   "outputs": [
    {
     "data": {
      "text/plain": [
       "<matplotlib.lines.Line2D at 0x18306045a90>"
      ]
     },
     "execution_count": 10,
     "metadata": {},
     "output_type": "execute_result"
    },
    {
     "data": {
      "image/png": "[encoded data removed]",
      "text/plain": [
       "<Figure size 640x480 with 1 Axes>"
      ]
     },
     "metadata": {},
     "output_type": "display_data"
    }
   ],
   "source": [
    "#volcano plot\n",
    "# Plot, after convertion  y to log10(pvalue)\n",
    "plt.scatter(x=df_anno['log2FoldChange'], y=df_anno['padj'].apply(lambda x:-numpy.log10(x)),s=5)\n",
    "\n",
    "plt.xlabel(\"Log2.FoldChange\")\n",
    "plt.ylabel(\"adjp.value -log10\")\n",
    "\n",
    "# pvalue <0.05\n",
    "plt.axhline(-numpy.log10(0.05),color=\"grey\",linestyle=\"--\")"
   ]
  },
  {
   "cell_type": "markdown",
   "id": "f4f0c1ac",
   "metadata": {},
   "source": [
    "### Significant ones"
   ]
  },
  {
   "cell_type": "code",
   "execution_count": 12,
   "id": "60f4651b",
   "metadata": {},
   "outputs": [
    {
     "data": {
      "text/plain": [
       "(143, 10)"
      ]
     },
     "execution_count": 12,
     "metadata": {},
     "output_type": "execute_result"
    }
   ],
   "source": [
    "# keep padj < 0.05\n",
    "df_signif = df_anno[df_anno['padj'] < 0.05]\n",
    "df_signif.shape"
   ]
  },
  {
   "cell_type": "code",
   "execution_count": 16,
   "id": "4b6ca816",
   "metadata": {},
   "outputs": [
    {
     "data": {
      "image/png": "[encoded data removed]",
      "text/plain": [
       "<Figure size 640x480 with 1 Axes>"
      ]
     },
     "metadata": {},
     "output_type": "display_data"
    }
   ],
   "source": [
    "#volcano plot\n",
    "# Plot, after convertion  y to log10(pvalue)\n",
    "top_15 = df_signif.sort_values(by='padj', ascending=True).head(15)\n",
    "topneg_5 = df_signif.sort_values(by='log2FoldChange', ascending=True).head(5)\n",
    "\n",
    "plt.scatter(x=df_anno['log2FoldChange'], \n",
    "            y=df_anno['padj'].apply(lambda x:-numpy.log10(x)),s=5)\n",
    "\n",
    "# Annotate points on the plot with Symbol names\n",
    "for index, row in top_15.iterrows():\n",
    "    plt.annotate(row['gene_name'], (row['log2FoldChange'], -numpy.log10(row['padj'])),\n",
    "                fontsize = 10)\n",
    "    \n",
    "for index, row in topneg_5.iterrows():\n",
    "    plt.annotate(row['gene_name'], (row['log2FoldChange'], -numpy.log10(row['padj'])),\n",
    "                fontsize = 10)\n",
    "\n",
    "plt.xlabel(\"Log2.FoldChange\")\n",
    "plt.ylabel(\"adjp.value -log10\")\n",
    "\n",
    "# pvalue <0.05\n",
    "plt.axhline(-numpy.log10(0.05),color=\"grey\",linestyle=\"--\")\n",
    "\n",
    "\n",
    "title_file = 'volcano_HEK_deg'\n",
    "# plt.savefig(file_directory+'3) output/RNAseq/'+title_file+'.svg')"
   ]
  },
  {
   "cell_type": "code",
   "execution_count": 15,
   "id": "8d438fa8",
   "metadata": {},
   "outputs": [
    {
     "data": {
      "text/html": [
       "<div>\n",
       "<style scoped>\n",
       "    .dataframe tbody tr th:only-of-type {\n",
       "        vertical-align: middle;\n",
       "    }\n",
       "\n",
       "    .dataframe tbody tr th {\n",
       "        vertical-align: top;\n",
       "    }\n",
       "\n",
       "    .dataframe thead th {\n",
       "        text-align: right;\n",
       "    }\n",
       "</style>\n",
       "<table border=\"1\" class=\"dataframe\">\n",
       "  <thead>\n",
       "    <tr style=\"text-align: right;\">\n",
       "      <th></th>\n",
       "      <th>gene_id</th>\n",
       "      <th>gene_name</th>\n",
       "      <th>Gene type</th>\n",
       "      <th>Gene description</th>\n",
       "      <th>baseMean</th>\n",
       "      <th>log2FoldChange</th>\n",
       "      <th>lfcSE</th>\n",
       "      <th>stat</th>\n",
       "      <th>pvalue</th>\n",
       "      <th>padj</th>\n",
       "    </tr>\n",
       "  </thead>\n",
       "  <tbody>\n",
       "    <tr>\n",
       "      <th>1989</th>\n",
       "      <td>ENSG00000100650</td>\n",
       "      <td>SRSF5</td>\n",
       "      <td>protein_coding</td>\n",
       "      <td>serine and arginine rich splicing factor 5 [So...</td>\n",
       "      <td>9552.911544</td>\n",
       "      <td>1.853514</td>\n",
       "      <td>0.166420</td>\n",
       "      <td>11.137596</td>\n",
       "      <td>8.231163e-29</td>\n",
       "      <td>1.016302e-24</td>\n",
       "    </tr>\n",
       "    <tr>\n",
       "      <th>11345</th>\n",
       "      <td>ENSG00000181544</td>\n",
       "      <td>FANCB</td>\n",
       "      <td>protein_coding</td>\n",
       "      <td>FA complementation group B [Source:HGNC Symbol...</td>\n",
       "      <td>1798.435913</td>\n",
       "      <td>1.669421</td>\n",
       "      <td>0.202066</td>\n",
       "      <td>8.261780</td>\n",
       "      <td>1.435157e-16</td>\n",
       "      <td>8.859944e-13</td>\n",
       "    </tr>\n",
       "    <tr>\n",
       "      <th>14956</th>\n",
       "      <td>ENSG00000276256</td>\n",
       "      <td>NaN</td>\n",
       "      <td>protein_coding</td>\n",
       "      <td>NaN</td>\n",
       "      <td>493.431221</td>\n",
       "      <td>-1.510055</td>\n",
       "      <td>0.213682</td>\n",
       "      <td>-7.066848</td>\n",
       "      <td>1.584928e-12</td>\n",
       "      <td>6.523034e-09</td>\n",
       "    </tr>\n",
       "    <tr>\n",
       "      <th>14916</th>\n",
       "      <td>ENSG00000274750</td>\n",
       "      <td>H3C6</td>\n",
       "      <td>protein_coding</td>\n",
       "      <td>H3 clustered histone 6 [Source:HGNC Symbol;Acc...</td>\n",
       "      <td>35.239178</td>\n",
       "      <td>3.508002</td>\n",
       "      <td>0.564554</td>\n",
       "      <td>6.213757</td>\n",
       "      <td>5.173237e-10</td>\n",
       "      <td>1.064566e-06</td>\n",
       "    </tr>\n",
       "    <tr>\n",
       "      <th>12578</th>\n",
       "      <td>ENSG00000197245</td>\n",
       "      <td>FAM110D</td>\n",
       "      <td>protein_coding</td>\n",
       "      <td>family with sequence similarity 110 member D [...</td>\n",
       "      <td>2186.406656</td>\n",
       "      <td>1.130433</td>\n",
       "      <td>0.181118</td>\n",
       "      <td>6.241401</td>\n",
       "      <td>4.336679e-10</td>\n",
       "      <td>1.064566e-06</td>\n",
       "    </tr>\n",
       "    <tr>\n",
       "      <th>...</th>\n",
       "      <td>...</td>\n",
       "      <td>...</td>\n",
       "      <td>...</td>\n",
       "      <td>...</td>\n",
       "      <td>...</td>\n",
       "      <td>...</td>\n",
       "      <td>...</td>\n",
       "      <td>...</td>\n",
       "      <td>...</td>\n",
       "      <td>...</td>\n",
       "    </tr>\n",
       "    <tr>\n",
       "      <th>15307</th>\n",
       "      <td>ENSG00000292327</td>\n",
       "      <td>PPP2R3B</td>\n",
       "      <td>protein_coding</td>\n",
       "      <td>protein phosphatase 2 regulatory subunit B''be...</td>\n",
       "      <td>16.428294</td>\n",
       "      <td>0.007681</td>\n",
       "      <td>0.635500</td>\n",
       "      <td>0.012087</td>\n",
       "      <td>9.903566e-01</td>\n",
       "      <td>NaN</td>\n",
       "    </tr>\n",
       "    <tr>\n",
       "      <th>15308</th>\n",
       "      <td>ENSG00000292332</td>\n",
       "      <td>IL3RA</td>\n",
       "      <td>protein_coding</td>\n",
       "      <td>interleukin 3 receptor subunit alpha [Source:H...</td>\n",
       "      <td>6.257552</td>\n",
       "      <td>-0.306968</td>\n",
       "      <td>1.317250</td>\n",
       "      <td>-0.233037</td>\n",
       "      <td>8.157328e-01</td>\n",
       "      <td>NaN</td>\n",
       "    </tr>\n",
       "    <tr>\n",
       "      <th>15309</th>\n",
       "      <td>ENSG00000292333</td>\n",
       "      <td>P2RY8</td>\n",
       "      <td>protein_coding</td>\n",
       "      <td>P2Y receptor family member 8 [Source:HGNC Symb...</td>\n",
       "      <td>16.794654</td>\n",
       "      <td>-0.410986</td>\n",
       "      <td>0.725378</td>\n",
       "      <td>-0.566582</td>\n",
       "      <td>5.709985e-01</td>\n",
       "      <td>NaN</td>\n",
       "    </tr>\n",
       "    <tr>\n",
       "      <th>15317</th>\n",
       "      <td>ENSG00000292357</td>\n",
       "      <td>CSF2RA</td>\n",
       "      <td>protein_coding</td>\n",
       "      <td>colony stimulating factor 2 receptor subunit a...</td>\n",
       "      <td>4.667981</td>\n",
       "      <td>-0.386116</td>\n",
       "      <td>1.417696</td>\n",
       "      <td>-0.272354</td>\n",
       "      <td>7.853496e-01</td>\n",
       "      <td>NaN</td>\n",
       "    </tr>\n",
       "    <tr>\n",
       "      <th>15322</th>\n",
       "      <td>ENSG00000292373</td>\n",
       "      <td>IL9R</td>\n",
       "      <td>protein_coding</td>\n",
       "      <td>interleukin 9 receptor [Source:HGNC Symbol;Acc...</td>\n",
       "      <td>4.779277</td>\n",
       "      <td>2.337371</td>\n",
       "      <td>1.721920</td>\n",
       "      <td>1.357421</td>\n",
       "      <td>1.746474e-01</td>\n",
       "      <td>NaN</td>\n",
       "    </tr>\n",
       "  </tbody>\n",
       "</table>\n",
       "<p>15323 rows × 10 columns</p>\n",
       "</div>"
      ],
      "text/plain": [
       "               gene_id gene_name       Gene type  \\\n",
       "1989   ENSG00000100650     SRSF5  protein_coding   \n",
       "11345  ENSG00000181544     FANCB  protein_coding   \n",
       "14956  ENSG00000276256       NaN  protein_coding   \n",
       "14916  ENSG00000274750      H3C6  protein_coding   \n",
       "12578  ENSG00000197245   FAM110D  protein_coding   \n",
       "...                ...       ...             ...   \n",
       "15307  ENSG00000292327   PPP2R3B  protein_coding   \n",
       "15308  ENSG00000292332     IL3RA  protein_coding   \n",
       "15309  ENSG00000292333     P2RY8  protein_coding   \n",
       "15317  ENSG00000292357    CSF2RA  protein_coding   \n",
       "15322  ENSG00000292373      IL9R  protein_coding   \n",
       "\n",
       "                                        Gene description     baseMean  \\\n",
       "1989   serine and arginine rich splicing factor 5 [So...  9552.911544   \n",
       "11345  FA complementation group B [Source:HGNC Symbol...  1798.435913   \n",
       "14956                                                NaN   493.431221   \n",
       "14916  H3 clustered histone 6 [Source:HGNC Symbol;Acc...    35.239178   \n",
       "12578  family with sequence similarity 110 member D [...  2186.406656   \n",
       "...                                                  ...          ...   \n",
       "15307  protein phosphatase 2 regulatory subunit B''be...    16.428294   \n",
       "15308  interleukin 3 receptor subunit alpha [Source:H...     6.257552   \n",
       "15309  P2Y receptor family member 8 [Source:HGNC Symb...    16.794654   \n",
       "15317  colony stimulating factor 2 receptor subunit a...     4.667981   \n",
       "15322  interleukin 9 receptor [Source:HGNC Symbol;Acc...     4.779277   \n",
       "\n",
       "       log2FoldChange     lfcSE       stat        pvalue          padj  \n",
       "1989         1.853514  0.166420  11.137596  8.231163e-29  1.016302e-24  \n",
       "11345        1.669421  0.202066   8.261780  1.435157e-16  8.859944e-13  \n",
       "14956       -1.510055  0.213682  -7.066848  1.584928e-12  6.523034e-09  \n",
       "14916        3.508002  0.564554   6.213757  5.173237e-10  1.064566e-06  \n",
       "12578        1.130433  0.181118   6.241401  4.336679e-10  1.064566e-06  \n",
       "...               ...       ...        ...           ...           ...  \n",
       "15307        0.007681  0.635500   0.012087  9.903566e-01           NaN  \n",
       "15308       -0.306968  1.317250  -0.233037  8.157328e-01           NaN  \n",
       "15309       -0.410986  0.725378  -0.566582  5.709985e-01           NaN  \n",
       "15317       -0.386116  1.417696  -0.272354  7.853496e-01           NaN  \n",
       "15322        2.337371  1.721920   1.357421  1.746474e-01           NaN  \n",
       "\n",
       "[15323 rows x 10 columns]"
      ]
     },
     "execution_count": 15,
     "metadata": {},
     "output_type": "execute_result"
    }
   ],
   "source": [
    "df_anno.sort_values(by='padj', ascending=True)"
   ]
  }
 ],
 "metadata": {
  "kernelspec": {
   "display_name": "Python 3 (ipykernel)",
   "language": "python",
   "name": "python3"
  },
  "language_info": {
   "codemirror_mode": {
    "name": "ipython",
    "version": 3
   },
   "file_extension": ".py",
   "mimetype": "text/x-python",
   "name": "python",
   "nbconvert_exporter": "python",
   "pygments_lexer": "ipython3",
   "version": "3.11.5"
  }
 },
 "nbformat": 4,
 "nbformat_minor": 5
}
